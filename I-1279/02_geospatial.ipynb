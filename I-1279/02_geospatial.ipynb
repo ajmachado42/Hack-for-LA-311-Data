{
 "cells": [
  {
   "cell_type": "markdown",
   "id": "43039261-317f-4b13-b70b-233936c9d96f",
   "metadata": {},
   "source": [
    "# For Issue 1279 | 311 Geospatial Analysis\n",
    "---\n",
    "Identify addresses or small areas that could benefit from more signage, increased community assistance, or other actions"
   ]
  },
  {
   "cell_type": "markdown",
   "id": "a2dcffaf-28f7-45e4-9fa8-9a611c6b1f12",
   "metadata": {
    "tags": []
   },
   "source": [
    "# Package & Data Imports\n",
    "---"
   ]
  },
  {
   "cell_type": "code",
   "execution_count": 1,
   "id": "e79a3134-deaf-446d-8e92-d4dc2414213b",
   "metadata": {},
   "outputs": [],
   "source": [
    "import pandas as pd\n",
    "import numpy as np\n",
    "import matplotlib.pyplot as plt\n",
    "import seaborn as sns\n",
    "from datetime import datetime\n",
    "\n",
    "# https://stackoverflow.com/questions/13440102/getting-bounding-box-of-city\n",
    "import geopandas\n",
    "from geopandas import GeoDataFrame, GeoSeries\n",
    "from pyproj import CRS\n",
    "from matplotlib.colors import Normalize\n",
    "import matplotlib.cm as cm\n",
    "from shapely.geometry import Point, Polygon\n",
    "import googlemaps\n",
    "\n",
    "# https://www.analyticsvidhya.com/blog/2020/06/guide-geospatial-analysis-folium-python/\n",
    "import folium\n",
    "from branca.element import Figure\n",
    "import re\n",
    "import matplotlib\n",
    "from folium.plugins import TimeSliderChoropleth\n",
    "\n",
    "from titlecase import titlecase\n",
    "%matplotlib inline"
   ]
  },
  {
   "cell_type": "code",
   "execution_count": 2,
   "id": "ee0f5ee5-5254-4c42-973a-d186a966fd97",
   "metadata": {},
   "outputs": [],
   "source": [
    "# 311 Data from API see 01 notebook\n",
    "raw_df = pd.read_csv('./data/clean_23Sept21_23Sept22_api.csv')\n",
    "df = raw_df.copy()\n",
    "\n",
    "# https://geopandas.org/en/stable/getting_started/introduction.html\n",
    "# NC boundaries: https://data.lacity.org/City-Infrastructure-Service-Requests/Neighborhood-Councils-Certified-/fu65-dz2f\n",
    "raw_gdf = geopandas.read_file(\"./data/Neighborhood Councils (Certified)/geo_export_88bb18d9-f96c-4351-8be9-594f258ed0d3.shp\")\n",
    "gdf = raw_gdf.copy()"
   ]
  },
  {
   "cell_type": "markdown",
   "id": "6170ec5c-713d-42d4-981e-5ea10f58c03f",
   "metadata": {
    "tags": []
   },
   "source": [
    "# Data Cleaning\n",
    "---"
   ]
  },
  {
   "cell_type": "code",
   "execution_count": 3,
   "id": "a1003172-49e5-4a8e-b4a6-948328ed5aa5",
   "metadata": {},
   "outputs": [
    {
     "name": "stdout",
     "output_type": "stream",
     "text": [
      "(12683, 16)\n"
     ]
    },
    {
     "data": {
      "text/html": [
       "<div>\n",
       "<style scoped>\n",
       "    .dataframe tbody tr th:only-of-type {\n",
       "        vertical-align: middle;\n",
       "    }\n",
       "\n",
       "    .dataframe tbody tr th {\n",
       "        vertical-align: top;\n",
       "    }\n",
       "\n",
       "    .dataframe thead th {\n",
       "        text-align: right;\n",
       "    }\n",
       "</style>\n",
       "<table border=\"1\" class=\"dataframe\">\n",
       "  <thead>\n",
       "    <tr style=\"text-align: right;\">\n",
       "      <th></th>\n",
       "      <th>requestId</th>\n",
       "      <th>createdDate</th>\n",
       "      <th>closedDate</th>\n",
       "      <th>typeId</th>\n",
       "      <th>typeName</th>\n",
       "      <th>address</th>\n",
       "      <th>lat_lon</th>\n",
       "      <th>latitude</th>\n",
       "      <th>longitude</th>\n",
       "      <th>agencyId</th>\n",
       "      <th>agencyName</th>\n",
       "      <th>sourceId</th>\n",
       "      <th>srnumber</th>\n",
       "      <th>sourceName</th>\n",
       "      <th>councilId</th>\n",
       "      <th>councilName</th>\n",
       "    </tr>\n",
       "  </thead>\n",
       "  <tbody>\n",
       "    <tr>\n",
       "      <th>0</th>\n",
       "      <td>10638532</td>\n",
       "      <td>2022-09-19 11:07:22</td>\n",
       "      <td>2022-09-20 09:35:20</td>\n",
       "      <td>4</td>\n",
       "      <td>Bulky Items</td>\n",
       "      <td>11225 N SIERRA PASS PL, 91311</td>\n",
       "      <td>(34.2747211947, -118.610043043)</td>\n",
       "      <td>34.274721</td>\n",
       "      <td>-118.610043</td>\n",
       "      <td>3</td>\n",
       "      <td>Sanitation Bureau</td>\n",
       "      <td>8</td>\n",
       "      <td>1-2500995851</td>\n",
       "      <td>Phone Call</td>\n",
       "      <td>11</td>\n",
       "      <td>Chatsworth</td>\n",
       "    </tr>\n",
       "    <tr>\n",
       "      <th>1</th>\n",
       "      <td>10638534</td>\n",
       "      <td>2022-09-19 11:07:35</td>\n",
       "      <td>2022-09-20 10:11:11</td>\n",
       "      <td>7</td>\n",
       "      <td>Metal/Appliances</td>\n",
       "      <td>243 S AVENUE 50, 90042</td>\n",
       "      <td>(34.1029581842, -118.200271159)</td>\n",
       "      <td>34.102958</td>\n",
       "      <td>-118.200271</td>\n",
       "      <td>3</td>\n",
       "      <td>Sanitation Bureau</td>\n",
       "      <td>17</td>\n",
       "      <td>1-2500998901</td>\n",
       "      <td>Website</td>\n",
       "      <td>39</td>\n",
       "      <td>Historic Highland Park</td>\n",
       "    </tr>\n",
       "    <tr>\n",
       "      <th>2</th>\n",
       "      <td>10638536</td>\n",
       "      <td>2022-09-19 11:07:42</td>\n",
       "      <td>2022-09-21 07:34:01</td>\n",
       "      <td>4</td>\n",
       "      <td>Bulky Items</td>\n",
       "      <td>17162 W PARTHENIA ST, 91325</td>\n",
       "      <td>(34.2283765872, -118.508080576)</td>\n",
       "      <td>34.228377</td>\n",
       "      <td>-118.508081</td>\n",
       "      <td>3</td>\n",
       "      <td>Sanitation Bureau</td>\n",
       "      <td>17</td>\n",
       "      <td>1-2500997561</td>\n",
       "      <td>Website</td>\n",
       "      <td>59</td>\n",
       "      <td>Northridge South</td>\n",
       "    </tr>\n",
       "    <tr>\n",
       "      <th>3</th>\n",
       "      <td>10638537</td>\n",
       "      <td>2022-09-19 11:07:53</td>\n",
       "      <td>2022-09-21 12:05:30</td>\n",
       "      <td>7</td>\n",
       "      <td>Metal/Appliances</td>\n",
       "      <td>1833 S MANNING AVE, 90025</td>\n",
       "      <td>(34.0514359143, -118.430501451)</td>\n",
       "      <td>34.051436</td>\n",
       "      <td>-118.430501</td>\n",
       "      <td>3</td>\n",
       "      <td>Sanitation Bureau</td>\n",
       "      <td>8</td>\n",
       "      <td>1-2500999011</td>\n",
       "      <td>Phone Call</td>\n",
       "      <td>93</td>\n",
       "      <td>Westside</td>\n",
       "    </tr>\n",
       "    <tr>\n",
       "      <th>4</th>\n",
       "      <td>10638538</td>\n",
       "      <td>2022-09-19 11:07:54</td>\n",
       "      <td>2022-09-20 10:19:24</td>\n",
       "      <td>1</td>\n",
       "      <td>Graffiti</td>\n",
       "      <td>17308 W SATICOY ST, 91406</td>\n",
       "      <td>(34.2082575227, -118.510410902)</td>\n",
       "      <td>34.208258</td>\n",
       "      <td>-118.510411</td>\n",
       "      <td>4</td>\n",
       "      <td>Office of Community Beautification</td>\n",
       "      <td>17</td>\n",
       "      <td>1-2500997651</td>\n",
       "      <td>Website</td>\n",
       "      <td>44</td>\n",
       "      <td>Lake Balboa</td>\n",
       "    </tr>\n",
       "  </tbody>\n",
       "</table>\n",
       "</div>"
      ],
      "text/plain": [
       "   requestId         createdDate          closedDate  typeId  \\\n",
       "0   10638532 2022-09-19 11:07:22 2022-09-20 09:35:20       4   \n",
       "1   10638534 2022-09-19 11:07:35 2022-09-20 10:11:11       7   \n",
       "2   10638536 2022-09-19 11:07:42 2022-09-21 07:34:01       4   \n",
       "3   10638537 2022-09-19 11:07:53 2022-09-21 12:05:30       7   \n",
       "4   10638538 2022-09-19 11:07:54 2022-09-20 10:19:24       1   \n",
       "\n",
       "           typeName                        address  \\\n",
       "0       Bulky Items  11225 N SIERRA PASS PL, 91311   \n",
       "1  Metal/Appliances         243 S AVENUE 50, 90042   \n",
       "2       Bulky Items    17162 W PARTHENIA ST, 91325   \n",
       "3  Metal/Appliances      1833 S MANNING AVE, 90025   \n",
       "4          Graffiti      17308 W SATICOY ST, 91406   \n",
       "\n",
       "                           lat_lon   latitude   longitude  agencyId  \\\n",
       "0  (34.2747211947, -118.610043043)  34.274721 -118.610043         3   \n",
       "1  (34.1029581842, -118.200271159)  34.102958 -118.200271         3   \n",
       "2  (34.2283765872, -118.508080576)  34.228377 -118.508081         3   \n",
       "3  (34.0514359143, -118.430501451)  34.051436 -118.430501         3   \n",
       "4  (34.2082575227, -118.510410902)  34.208258 -118.510411         4   \n",
       "\n",
       "                           agencyName  sourceId      srnumber  sourceName  \\\n",
       "0                   Sanitation Bureau         8  1-2500995851  Phone Call   \n",
       "1                   Sanitation Bureau        17  1-2500998901     Website   \n",
       "2                   Sanitation Bureau        17  1-2500997561     Website   \n",
       "3                   Sanitation Bureau         8  1-2500999011  Phone Call   \n",
       "4  Office of Community Beautification        17  1-2500997651     Website   \n",
       "\n",
       "   councilId             councilName  \n",
       "0         11              Chatsworth  \n",
       "1         39  Historic Highland Park  \n",
       "2         59        Northridge South  \n",
       "3         93                Westside  \n",
       "4         44             Lake Balboa  "
      ]
     },
     "execution_count": 3,
     "metadata": {},
     "output_type": "execute_result"
    }
   ],
   "source": [
    "# to datetime\n",
    "df['createdDate'] = pd.to_datetime(df['createdDate'])\n",
    "df['closedDate'] = pd.to_datetime(df['closedDate'])\n",
    "\n",
    "print(df.shape)\n",
    "df.head()"
   ]
  },
  {
   "cell_type": "code",
   "execution_count": 4,
   "id": "85ea8e4b-a13c-4320-a3b9-0e61936b6e7b",
   "metadata": {},
   "outputs": [
    {
     "name": "stdout",
     "output_type": "stream",
     "text": [
      "(99, 5)\n"
     ]
    },
    {
     "data": {
      "text/html": [
       "<div>\n",
       "<style scoped>\n",
       "    .dataframe tbody tr th:only-of-type {\n",
       "        vertical-align: middle;\n",
       "    }\n",
       "\n",
       "    .dataframe tbody tr th {\n",
       "        vertical-align: top;\n",
       "    }\n",
       "\n",
       "    .dataframe thead th {\n",
       "        text-align: right;\n",
       "    }\n",
       "</style>\n",
       "<table border=\"1\" class=\"dataframe\">\n",
       "  <thead>\n",
       "    <tr style=\"text-align: right;\">\n",
       "      <th></th>\n",
       "      <th>name</th>\n",
       "      <th>nc_id</th>\n",
       "      <th>objectid</th>\n",
       "      <th>service_re</th>\n",
       "      <th>geometry</th>\n",
       "    </tr>\n",
       "  </thead>\n",
       "  <tbody>\n",
       "    <tr>\n",
       "      <th>0</th>\n",
       "      <td>Granada Hills North</td>\n",
       "      <td>4</td>\n",
       "      <td>27</td>\n",
       "      <td>Region 2 - North West Valley</td>\n",
       "      <td>POLYGON ((-118.50737 34.33461, -118.50570 34.3...</td>\n",
       "    </tr>\n",
       "    <tr>\n",
       "      <th>1</th>\n",
       "      <td>Sylmar</td>\n",
       "      <td>5</td>\n",
       "      <td>79</td>\n",
       "      <td>Region 1 - North East Valley</td>\n",
       "      <td>POLYGON ((-118.50737 34.33461, -118.50380 34.3...</td>\n",
       "    </tr>\n",
       "    <tr>\n",
       "      <th>2</th>\n",
       "      <td>Arleta</td>\n",
       "      <td>6</td>\n",
       "      <td>1</td>\n",
       "      <td>Region 1 - North East Valley</td>\n",
       "      <td>POLYGON ((-118.45005 34.24992, -118.45055 34.2...</td>\n",
       "    </tr>\n",
       "    <tr>\n",
       "      <th>3</th>\n",
       "      <td>Pacoima</td>\n",
       "      <td>7</td>\n",
       "      <td>63</td>\n",
       "      <td>Region 1 - North East Valley</td>\n",
       "      <td>POLYGON ((-118.41566 34.29392, -118.40815 34.2...</td>\n",
       "    </tr>\n",
       "    <tr>\n",
       "      <th>4</th>\n",
       "      <td>Sun Valley Area</td>\n",
       "      <td>8</td>\n",
       "      <td>77</td>\n",
       "      <td>Region 1 - North East Valley</td>\n",
       "      <td>POLYGON ((-118.36516 34.22933, -118.36400 34.2...</td>\n",
       "    </tr>\n",
       "  </tbody>\n",
       "</table>\n",
       "</div>"
      ],
      "text/plain": [
       "                  name  nc_id  objectid                    service_re  \\\n",
       "0  Granada Hills North      4        27  Region 2 - North West Valley   \n",
       "1               Sylmar      5        79  Region 1 - North East Valley   \n",
       "2               Arleta      6         1  Region 1 - North East Valley   \n",
       "3              Pacoima      7        63  Region 1 - North East Valley   \n",
       "4      Sun Valley Area      8        77  Region 1 - North East Valley   \n",
       "\n",
       "                                            geometry  \n",
       "0  POLYGON ((-118.50737 34.33461, -118.50570 34.3...  \n",
       "1  POLYGON ((-118.50737 34.33461, -118.50380 34.3...  \n",
       "2  POLYGON ((-118.45005 34.24992, -118.45055 34.2...  \n",
       "3  POLYGON ((-118.41566 34.29392, -118.40815 34.2...  \n",
       "4  POLYGON ((-118.36516 34.22933, -118.36400 34.2...  "
      ]
     },
     "execution_count": 4,
     "metadata": {},
     "output_type": "execute_result"
    }
   ],
   "source": [
    "# get necessary columns; objectid = councilId\n",
    "gdf = gdf[['name', 'nc_id', 'objectid', 'service_re', 'geometry']].sort_values(by = 'nc_id').reset_index(drop = True)\n",
    "\n",
    "# format data\n",
    "gdf['name'] = gdf['name'].apply(lambda x: titlecase(x.strip(' NC')))\n",
    "gdf['service_re'] = gdf['service_re'].apply(lambda x: titlecase(x))\n",
    "gdf['nc_id'] = gdf['nc_id'].apply(lambda x: int(x))\n",
    "gdf['objectid'] = gdf['objectid'].apply(lambda x: int(x))\n",
    "\n",
    "print(gdf.shape)\n",
    "gdf.head()"
   ]
  },
  {
   "cell_type": "markdown",
   "id": "b7d7f40a-bdc3-4da7-9580-ffa28b2b8493",
   "metadata": {
    "tags": []
   },
   "source": [
    "## Checking Consistency Between gdf and df\n",
    "#### To Note:\n",
    "- df['councilID'] == gdf['objectiid']\n",
    "- df contains a 0 ID for No Council"
   ]
  },
  {
   "cell_type": "code",
   "execution_count": 5,
   "id": "8d1457bf-4137-402f-bd9d-0591b465842b",
   "metadata": {},
   "outputs": [
    {
     "name": "stdout",
     "output_type": "stream",
     "text": [
      "Number of Council Names in gdf: 99\n",
      "Number of Council Names in df: 100\n",
      "Number of Council # in gdf: 99\n",
      "Number of Council # in df: 100\n"
     ]
    }
   ],
   "source": [
    "print(f\"Number of Council Names in gdf: {len(gdf['name'].unique())}\")\n",
    "print(f\"Number of Council Names in df: {len(df['councilName'].unique())}\")\n",
    "print(f\"Number of Council # in gdf: {len(gdf['objectid'].unique())}\")\n",
    "print(f\"Number of Council # in df: {len(df['councilId'].unique())}\")"
   ]
  },
  {
   "cell_type": "code",
   "execution_count": 6,
   "id": "bf6121f5-09b8-4141-b353-bece2ab44e48",
   "metadata": {},
   "outputs": [
    {
     "data": {
      "text/html": [
       "<div>\n",
       "<style scoped>\n",
       "    .dataframe tbody tr th:only-of-type {\n",
       "        vertical-align: middle;\n",
       "    }\n",
       "\n",
       "    .dataframe tbody tr th {\n",
       "        vertical-align: top;\n",
       "    }\n",
       "\n",
       "    .dataframe thead th {\n",
       "        text-align: right;\n",
       "    }\n",
       "</style>\n",
       "<table border=\"1\" class=\"dataframe\">\n",
       "  <thead>\n",
       "    <tr style=\"text-align: right;\">\n",
       "      <th></th>\n",
       "      <th>requestId</th>\n",
       "      <th>createdDate</th>\n",
       "      <th>closedDate</th>\n",
       "      <th>typeId</th>\n",
       "      <th>typeName</th>\n",
       "      <th>address</th>\n",
       "      <th>lat_lon</th>\n",
       "      <th>latitude</th>\n",
       "      <th>longitude</th>\n",
       "      <th>agencyId</th>\n",
       "      <th>agencyName</th>\n",
       "      <th>sourceId</th>\n",
       "      <th>srnumber</th>\n",
       "      <th>sourceName</th>\n",
       "      <th>councilId</th>\n",
       "      <th>councilName</th>\n",
       "    </tr>\n",
       "  </thead>\n",
       "  <tbody>\n",
       "    <tr>\n",
       "      <th>157</th>\n",
       "      <td>10638820</td>\n",
       "      <td>2022-09-19 11:26:33</td>\n",
       "      <td>2022-09-20 14:20:41</td>\n",
       "      <td>4</td>\n",
       "      <td>Bulky Items</td>\n",
       "      <td>3922 N RODERICK ROAD, 90065</td>\n",
       "      <td>(34.1205995349, -118.231514218)</td>\n",
       "      <td>34.1206</td>\n",
       "      <td>-118.231514</td>\n",
       "      <td>3</td>\n",
       "      <td>Sanitation Bureau</td>\n",
       "      <td>17</td>\n",
       "      <td>1-2501036491</td>\n",
       "      <td>Website</td>\n",
       "      <td>26</td>\n",
       "      <td>Glassell Park</td>\n",
       "    </tr>\n",
       "  </tbody>\n",
       "</table>\n",
       "</div>"
      ],
      "text/plain": [
       "     requestId         createdDate          closedDate  typeId     typeName  \\\n",
       "157   10638820 2022-09-19 11:26:33 2022-09-20 14:20:41       4  Bulky Items   \n",
       "\n",
       "                         address                          lat_lon  latitude  \\\n",
       "157  3922 N RODERICK ROAD, 90065  (34.1205995349, -118.231514218)   34.1206   \n",
       "\n",
       "      longitude  agencyId         agencyName  sourceId      srnumber  \\\n",
       "157 -118.231514         3  Sanitation Bureau        17  1-2501036491   \n",
       "\n",
       "    sourceName  councilId    councilName  \n",
       "157    Website         26  Glassell Park  "
      ]
     },
     "execution_count": 6,
     "metadata": {},
     "output_type": "execute_result"
    }
   ],
   "source": [
    "df[df['councilName'] == 'Glassell Park'].head(1)"
   ]
  },
  {
   "cell_type": "code",
   "execution_count": 7,
   "id": "566908dc-a6ca-4386-9630-bd6b78812e3d",
   "metadata": {},
   "outputs": [
    {
     "data": {
      "text/html": [
       "<div>\n",
       "<style scoped>\n",
       "    .dataframe tbody tr th:only-of-type {\n",
       "        vertical-align: middle;\n",
       "    }\n",
       "\n",
       "    .dataframe tbody tr th {\n",
       "        vertical-align: top;\n",
       "    }\n",
       "\n",
       "    .dataframe thead th {\n",
       "        text-align: right;\n",
       "    }\n",
       "</style>\n",
       "<table border=\"1\" class=\"dataframe\">\n",
       "  <thead>\n",
       "    <tr style=\"text-align: right;\">\n",
       "      <th></th>\n",
       "      <th>name</th>\n",
       "      <th>nc_id</th>\n",
       "      <th>objectid</th>\n",
       "      <th>service_re</th>\n",
       "      <th>geometry</th>\n",
       "    </tr>\n",
       "  </thead>\n",
       "  <tbody>\n",
       "    <tr>\n",
       "      <th>32</th>\n",
       "      <td>Glassell Park</td>\n",
       "      <td>39</td>\n",
       "      <td>26</td>\n",
       "      <td>Region 8 - North East La</td>\n",
       "      <td>POLYGON ((-118.25412 34.11885, -118.25113 34.1...</td>\n",
       "    </tr>\n",
       "  </tbody>\n",
       "</table>\n",
       "</div>"
      ],
      "text/plain": [
       "             name  nc_id  objectid                service_re  \\\n",
       "32  Glassell Park     39        26  Region 8 - North East La   \n",
       "\n",
       "                                             geometry  \n",
       "32  POLYGON ((-118.25412 34.11885, -118.25113 34.1...  "
      ]
     },
     "execution_count": 7,
     "metadata": {},
     "output_type": "execute_result"
    }
   ],
   "source": [
    "gdf[gdf['name'] == 'Glassell Park']"
   ]
  },
  {
   "cell_type": "code",
   "execution_count": 8,
   "id": "e8d93e3c-4b18-471a-bf81-5d851e268563",
   "metadata": {},
   "outputs": [
    {
     "name": "stdout",
     "output_type": "stream",
     "text": [
      "Council #'s in gdf: [1, 2, 3, 4, 5, 6, 7, 8, 9, 10, 11, 12, 13, 14, 15, 16, 17, 18, 19, 20, 21, 22, 23, 24, 25, 26, 27, 28, 29, 30, 31, 32, 33, 34, 35, 36, 37, 38, 39, 40, 41, 42, 43, 44, 45, 46, 47, 48, 49, 50, 51, 52, 53, 54, 55, 56, 57, 58, 59, 60, 61, 62, 63, 64, 65, 66, 67, 68, 69, 70, 71, 72, 73, 74, 75, 76, 77, 78, 79, 80, 81, 82, 83, 84, 85, 86, 87, 88, 89, 90, 91, 92, 93, 94, 95, 96, 97, 98, 99]\n",
      "\n",
      "Council #'s in df: [0, 1, 2, 3, 4, 5, 6, 7, 8, 9, 10, 11, 12, 13, 14, 15, 16, 17, 18, 19, 20, 21, 22, 23, 24, 25, 26, 27, 28, 29, 30, 31, 32, 33, 34, 35, 36, 37, 38, 39, 40, 41, 42, 43, 44, 45, 46, 47, 48, 49, 50, 51, 52, 53, 54, 55, 56, 57, 58, 59, 60, 61, 62, 63, 64, 65, 66, 67, 68, 69, 70, 71, 72, 73, 74, 75, 76, 77, 78, 79, 80, 81, 82, 83, 84, 85, 86, 87, 88, 89, 90, 91, 92, 93, 94, 95, 96, 97, 98, 99]\n"
     ]
    }
   ],
   "source": [
    "print(f\"Council #'s in gdf: {sorted([nc for nc in gdf['objectid'].unique()])}\")\n",
    "print()\n",
    "print(f\"Council #'s in df: {sorted([nc for nc in df['councilId'].unique()])}\")"
   ]
  },
  {
   "cell_type": "code",
   "execution_count": 9,
   "id": "c0ad1a3d-afca-4f86-adfa-6588428a7c20",
   "metadata": {},
   "outputs": [
    {
     "data": {
      "text/html": [
       "<div>\n",
       "<style scoped>\n",
       "    .dataframe tbody tr th:only-of-type {\n",
       "        vertical-align: middle;\n",
       "    }\n",
       "\n",
       "    .dataframe tbody tr th {\n",
       "        vertical-align: top;\n",
       "    }\n",
       "\n",
       "    .dataframe thead th {\n",
       "        text-align: right;\n",
       "    }\n",
       "</style>\n",
       "<table border=\"1\" class=\"dataframe\">\n",
       "  <thead>\n",
       "    <tr style=\"text-align: right;\">\n",
       "      <th></th>\n",
       "      <th>name</th>\n",
       "      <th>nc_id</th>\n",
       "      <th>objectid</th>\n",
       "      <th>service_re</th>\n",
       "      <th>geometry</th>\n",
       "    </tr>\n",
       "  </thead>\n",
       "  <tbody>\n",
       "    <tr>\n",
       "      <th>2</th>\n",
       "      <td>Arleta</td>\n",
       "      <td>6</td>\n",
       "      <td>1</td>\n",
       "      <td>Region 1 - North East Valley</td>\n",
       "      <td>POLYGON ((-118.45005 34.24992, -118.45055 34.2...</td>\n",
       "    </tr>\n",
       "  </tbody>\n",
       "</table>\n",
       "</div>"
      ],
      "text/plain": [
       "     name  nc_id  objectid                    service_re  \\\n",
       "2  Arleta      6         1  Region 1 - North East Valley   \n",
       "\n",
       "                                            geometry  \n",
       "2  POLYGON ((-118.45005 34.24992, -118.45055 34.2...  "
      ]
     },
     "execution_count": 9,
     "metadata": {},
     "output_type": "execute_result"
    }
   ],
   "source": [
    "gdf[gdf['objectid'] == 1]"
   ]
  },
  {
   "cell_type": "code",
   "execution_count": 10,
   "id": "6f4cf828-a773-4aaa-a86c-2f5661092296",
   "metadata": {},
   "outputs": [
    {
     "data": {
      "text/html": [
       "<div>\n",
       "<style scoped>\n",
       "    .dataframe tbody tr th:only-of-type {\n",
       "        vertical-align: middle;\n",
       "    }\n",
       "\n",
       "    .dataframe tbody tr th {\n",
       "        vertical-align: top;\n",
       "    }\n",
       "\n",
       "    .dataframe thead th {\n",
       "        text-align: right;\n",
       "    }\n",
       "</style>\n",
       "<table border=\"1\" class=\"dataframe\">\n",
       "  <thead>\n",
       "    <tr style=\"text-align: right;\">\n",
       "      <th></th>\n",
       "      <th>requestId</th>\n",
       "      <th>createdDate</th>\n",
       "      <th>closedDate</th>\n",
       "      <th>typeId</th>\n",
       "      <th>typeName</th>\n",
       "      <th>address</th>\n",
       "      <th>lat_lon</th>\n",
       "      <th>latitude</th>\n",
       "      <th>longitude</th>\n",
       "      <th>agencyId</th>\n",
       "      <th>agencyName</th>\n",
       "      <th>sourceId</th>\n",
       "      <th>srnumber</th>\n",
       "      <th>sourceName</th>\n",
       "      <th>councilId</th>\n",
       "      <th>councilName</th>\n",
       "    </tr>\n",
       "  </thead>\n",
       "  <tbody>\n",
       "    <tr>\n",
       "      <th>101</th>\n",
       "      <td>10638727</td>\n",
       "      <td>2022-09-19 11:17:15</td>\n",
       "      <td>2022-09-19 11:17:53</td>\n",
       "      <td>1</td>\n",
       "      <td>Graffiti</td>\n",
       "      <td>13928 W TERRA BELLA ST, 91331</td>\n",
       "      <td>(34.2449424541, -118.436380439)</td>\n",
       "      <td>34.244942</td>\n",
       "      <td>-118.43638</td>\n",
       "      <td>4</td>\n",
       "      <td>Office of Community Beautification</td>\n",
       "      <td>18</td>\n",
       "      <td>1-2501016331</td>\n",
       "      <td>Work Crew</td>\n",
       "      <td>1</td>\n",
       "      <td>Arleta</td>\n",
       "    </tr>\n",
       "  </tbody>\n",
       "</table>\n",
       "</div>"
      ],
      "text/plain": [
       "     requestId         createdDate          closedDate  typeId  typeName  \\\n",
       "101   10638727 2022-09-19 11:17:15 2022-09-19 11:17:53       1  Graffiti   \n",
       "\n",
       "                           address                          lat_lon  \\\n",
       "101  13928 W TERRA BELLA ST, 91331  (34.2449424541, -118.436380439)   \n",
       "\n",
       "      latitude  longitude  agencyId                          agencyName  \\\n",
       "101  34.244942 -118.43638         4  Office of Community Beautification   \n",
       "\n",
       "     sourceId      srnumber sourceName  councilId councilName  \n",
       "101        18  1-2501016331  Work Crew          1      Arleta  "
      ]
     },
     "execution_count": 10,
     "metadata": {},
     "output_type": "execute_result"
    }
   ],
   "source": [
    "df[df['councilId'] == 1].head(1)"
   ]
  },
  {
   "cell_type": "markdown",
   "id": "abf1883f-490f-418a-8df5-102ac4a2b539",
   "metadata": {},
   "source": [
    "# Geospatial Variable Creation\n",
    "---"
   ]
  },
  {
   "cell_type": "code",
   "execution_count": 66,
   "id": "25840e0c-46d4-491f-8861-e7931439d65c",
   "metadata": {},
   "outputs": [],
   "source": [
    "gdf = gdf[['geometry', 'objectid']]\n",
    "df = df[['requestId', 'createdDate', 'councilId', 'latitude', 'longitude']].sort_values(by = 'createdDate')"
   ]
  },
  {
   "cell_type": "code",
   "execution_count": 67,
   "id": "ed7b56e7-8e73-41ec-966a-88f3c0ae2394",
   "metadata": {},
   "outputs": [
    {
     "data": {
      "text/html": [
       "<div>\n",
       "<style scoped>\n",
       "    .dataframe tbody tr th:only-of-type {\n",
       "        vertical-align: middle;\n",
       "    }\n",
       "\n",
       "    .dataframe tbody tr th {\n",
       "        vertical-align: top;\n",
       "    }\n",
       "\n",
       "    .dataframe thead th {\n",
       "        text-align: right;\n",
       "    }\n",
       "</style>\n",
       "<table border=\"1\" class=\"dataframe\">\n",
       "  <thead>\n",
       "    <tr style=\"text-align: right;\">\n",
       "      <th></th>\n",
       "      <th>geometry</th>\n",
       "      <th>objectid</th>\n",
       "    </tr>\n",
       "  </thead>\n",
       "  <tbody>\n",
       "    <tr>\n",
       "      <th>0</th>\n",
       "      <td>POLYGON ((-118.50737 34.33461, -118.50570 34.3...</td>\n",
       "      <td>27</td>\n",
       "    </tr>\n",
       "  </tbody>\n",
       "</table>\n",
       "</div>"
      ],
      "text/plain": [
       "                                            geometry  objectid\n",
       "0  POLYGON ((-118.50737 34.33461, -118.50570 34.3...        27"
      ]
     },
     "execution_count": 67,
     "metadata": {},
     "output_type": "execute_result"
    }
   ],
   "source": [
    "gdf.head(1)"
   ]
  },
  {
   "cell_type": "code",
   "execution_count": 68,
   "id": "c2fda60c-1abc-4910-b1ab-029553a0ac29",
   "metadata": {},
   "outputs": [
    {
     "data": {
      "text/html": [
       "<div>\n",
       "<style scoped>\n",
       "    .dataframe tbody tr th:only-of-type {\n",
       "        vertical-align: middle;\n",
       "    }\n",
       "\n",
       "    .dataframe tbody tr th {\n",
       "        vertical-align: top;\n",
       "    }\n",
       "\n",
       "    .dataframe thead th {\n",
       "        text-align: right;\n",
       "    }\n",
       "</style>\n",
       "<table border=\"1\" class=\"dataframe\">\n",
       "  <thead>\n",
       "    <tr style=\"text-align: right;\">\n",
       "      <th></th>\n",
       "      <th>requestId</th>\n",
       "      <th>createdDate</th>\n",
       "      <th>councilId</th>\n",
       "      <th>latitude</th>\n",
       "      <th>longitude</th>\n",
       "    </tr>\n",
       "  </thead>\n",
       "  <tbody>\n",
       "    <tr>\n",
       "      <th>0</th>\n",
       "      <td>10638532</td>\n",
       "      <td>2022-09-19 11:07:22</td>\n",
       "      <td>11</td>\n",
       "      <td>34.274721</td>\n",
       "      <td>-118.610043</td>\n",
       "    </tr>\n",
       "  </tbody>\n",
       "</table>\n",
       "</div>"
      ],
      "text/plain": [
       "   requestId         createdDate  councilId   latitude   longitude\n",
       "0   10638532 2022-09-19 11:07:22         11  34.274721 -118.610043"
      ]
     },
     "execution_count": 68,
     "metadata": {},
     "output_type": "execute_result"
    }
   ],
   "source": [
    "df.head(1)"
   ]
  },
  {
   "cell_type": "code",
   "execution_count": 69,
   "id": "848f4b29-91c3-4420-91cc-20caef574104",
   "metadata": {},
   "outputs": [
    {
     "data": {
      "text/html": [
       "<div>\n",
       "<style scoped>\n",
       "    .dataframe tbody tr th:only-of-type {\n",
       "        vertical-align: middle;\n",
       "    }\n",
       "\n",
       "    .dataframe tbody tr th {\n",
       "        vertical-align: top;\n",
       "    }\n",
       "\n",
       "    .dataframe thead th {\n",
       "        text-align: right;\n",
       "    }\n",
       "</style>\n",
       "<table border=\"1\" class=\"dataframe\">\n",
       "  <thead>\n",
       "    <tr style=\"text-align: right;\">\n",
       "      <th></th>\n",
       "      <th>createdDate</th>\n",
       "      <th>color</th>\n",
       "      <th>councilId</th>\n",
       "    </tr>\n",
       "  </thead>\n",
       "  <tbody>\n",
       "    <tr>\n",
       "      <th>0</th>\n",
       "      <td>2022-09-19 11:07:22</td>\n",
       "      <td>#FFEBEB</td>\n",
       "      <td>11</td>\n",
       "    </tr>\n",
       "    <tr>\n",
       "      <th>1</th>\n",
       "      <td>2022-09-19 11:07:35</td>\n",
       "      <td>#FFEBEB</td>\n",
       "      <td>39</td>\n",
       "    </tr>\n",
       "    <tr>\n",
       "      <th>2</th>\n",
       "      <td>2022-09-19 11:07:42</td>\n",
       "      <td>#FFEBEB</td>\n",
       "      <td>59</td>\n",
       "    </tr>\n",
       "    <tr>\n",
       "      <th>3</th>\n",
       "      <td>2022-09-19 11:07:53</td>\n",
       "      <td>#FFEBEB</td>\n",
       "      <td>93</td>\n",
       "    </tr>\n",
       "    <tr>\n",
       "      <th>4</th>\n",
       "      <td>2022-09-19 11:07:54</td>\n",
       "      <td>#FFEBEB</td>\n",
       "      <td>44</td>\n",
       "    </tr>\n",
       "  </tbody>\n",
       "</table>\n",
       "</div>"
      ],
      "text/plain": [
       "          createdDate    color  councilId\n",
       "0 2022-09-19 11:07:22  #FFEBEB         11\n",
       "1 2022-09-19 11:07:35  #FFEBEB         39\n",
       "2 2022-09-19 11:07:42  #FFEBEB         59\n",
       "3 2022-09-19 11:07:53  #FFEBEB         93\n",
       "4 2022-09-19 11:07:54  #FFEBEB         44"
      ]
     },
     "execution_count": 69,
     "metadata": {},
     "output_type": "execute_result"
    }
   ],
   "source": [
    "# create df of running count of requests per neighborhood council\n",
    "df_ct = df.groupby(['createdDate','councilId', 'latitude', 'longitude'])['requestId'].agg('count').reset_index(name = 'request_ct')\n",
    "df_ct['nc_running_ct'] = df_ct.groupby('councilId')['request_ct'].cumsum()\n",
    "\n",
    "# add color variable for mapping\n",
    "# https://www.analyticsvidhya.com/blog/2020/06/guide-geospatial-analysis-folium-python/\n",
    "bins=np.linspace(min(df_ct['nc_running_ct']),max(df_ct['nc_running_ct']),11)\n",
    "df_ct['color']=pd.cut(df_ct['nc_running_ct'],bins,labels=['#FFEBEB','#F8D2D4','#F2B9BE','#EBA1A8','#E58892','#DE6F7C','#D85766','#D13E50','#CB253A','#C50D24'],include_lowest=True)\n",
    "df_ct_plt = df_ct[['createdDate', 'color', 'councilId']]\n",
    "df_ct_plt.head()"
   ]
  },
  {
   "cell_type": "code",
   "execution_count": 70,
   "id": "0ebcc6f9-3585-4001-b4aa-9411b682e98e",
   "metadata": {
    "tags": []
   },
   "outputs": [
    {
     "name": "stderr",
     "output_type": "stream",
     "text": [
      "/var/folders/5f/3tr4k1qn1fx81cd1l2y9j2100000gn/T/ipykernel_46179/1200316419.py:4: SettingWithCopyWarning: \n",
      "A value is trying to be set on a copy of a slice from a DataFrame.\n",
      "Try using .loc[row_indexer,col_indexer] = value instead\n",
      "\n",
      "See the caveats in the documentation: https://pandas.pydata.org/pandas-docs/stable/user_guide/indexing.html#returning-a-view-versus-a-copy\n",
      "  df_ct_plt['createdDate'] = (df_ct_plt['createdDate'].astype(int)// 10**9).astype('U10')\n",
      "/var/folders/5f/3tr4k1qn1fx81cd1l2y9j2100000gn/T/ipykernel_46179/1200316419.py:5: SettingWithCopyWarning: \n",
      "A value is trying to be set on a copy of a slice from a DataFrame.\n",
      "Try using .loc[row_indexer,col_indexer] = value instead\n",
      "\n",
      "See the caveats in the documentation: https://pandas.pydata.org/pandas-docs/stable/user_guide/indexing.html#returning-a-view-versus-a-copy\n",
      "  df_ct_plt['createdDate'] = df_ct_plt['createdDate'].apply(lambda x: int(x))\n"
     ]
    }
   ],
   "source": [
    "# TimeSliderCloropleth\n",
    "# https://www.analyticsvidhya.com/blog/2020/06/guide-geospatial-analysis-folium-python/\n",
    "# convert datetime to TimeSliderCloropleth accepted format\n",
    "df_ct_plt['createdDate'] = (df_ct_plt['createdDate'].astype(int)// 10**9).astype('U10')\n",
    "df_ct_plt['createdDate'] = df_ct_plt['createdDate'].apply(lambda x: int(x))\n",
    "\n",
    "# create dictionary for TimeSliderCloropleth\n",
    "df_dict={}\n",
    "for i in df_ct_plt['councilId'].unique():\n",
    "    df_dict[i]={}\n",
    "    for j in df_ct_plt[df_ct_plt['councilId']==i].set_index(['councilId']).values:   \n",
    "        df_dict[i][j[0]]={'color':j[1],'opacity':0.7}"
   ]
  },
  {
   "cell_type": "code",
   "execution_count": 76,
   "id": "db78df6a-9198-478a-9034-7c19d6d0938a",
   "metadata": {},
   "outputs": [],
   "source": [
    "# list(df_dict.items())[1]"
   ]
  },
  {
   "cell_type": "markdown",
   "id": "083b462c-9f40-475f-9c1b-f2f73d60c85a",
   "metadata": {},
   "source": [
    "# Geospatial Basemapping\n",
    "---"
   ]
  },
  {
   "cell_type": "code",
   "execution_count": 63,
   "id": "9e37612c-4b58-4c0b-b208-3f7ae28ed67d",
   "metadata": {},
   "outputs": [
    {
     "data": {
      "text/plain": [
       "geopandas.geodataframe.GeoDataFrame"
      ]
     },
     "execution_count": 63,
     "metadata": {},
     "output_type": "execute_result"
    }
   ],
   "source": [
    "type(gdf)"
   ]
  },
  {
   "cell_type": "code",
   "execution_count": 64,
   "id": "15d54471-1dbe-429e-b65b-5185d9c4f5c5",
   "metadata": {},
   "outputs": [],
   "source": [
    "gdf_plt = gdf.to_json()"
   ]
  },
  {
   "cell_type": "code",
   "execution_count": 77,
   "id": "5a84adf6-f896-4b6e-acf9-3d80b4064d83",
   "metadata": {},
   "outputs": [
    {
     "ename": "TypeError",
     "evalue": "keys must be str, int, float, bool or None, not numpy.int64",
     "output_type": "error",
     "traceback": [
      "\u001b[0;31m---------------------------------------------------------------------------\u001b[0m",
      "\u001b[0;31mTypeError\u001b[0m                                 Traceback (most recent call last)",
      "\u001b[0;32m~/opt/anaconda3/lib/python3.9/site-packages/IPython/core/formatters.py\u001b[0m in \u001b[0;36m__call__\u001b[0;34m(self, obj)\u001b[0m\n\u001b[1;32m    343\u001b[0m             \u001b[0mmethod\u001b[0m \u001b[0;34m=\u001b[0m \u001b[0mget_real_method\u001b[0m\u001b[0;34m(\u001b[0m\u001b[0mobj\u001b[0m\u001b[0;34m,\u001b[0m \u001b[0mself\u001b[0m\u001b[0;34m.\u001b[0m\u001b[0mprint_method\u001b[0m\u001b[0;34m)\u001b[0m\u001b[0;34m\u001b[0m\u001b[0;34m\u001b[0m\u001b[0m\n\u001b[1;32m    344\u001b[0m             \u001b[0;32mif\u001b[0m \u001b[0mmethod\u001b[0m \u001b[0;32mis\u001b[0m \u001b[0;32mnot\u001b[0m \u001b[0;32mNone\u001b[0m\u001b[0;34m:\u001b[0m\u001b[0;34m\u001b[0m\u001b[0;34m\u001b[0m\u001b[0m\n\u001b[0;32m--> 345\u001b[0;31m                 \u001b[0;32mreturn\u001b[0m \u001b[0mmethod\u001b[0m\u001b[0;34m(\u001b[0m\u001b[0;34m)\u001b[0m\u001b[0;34m\u001b[0m\u001b[0;34m\u001b[0m\u001b[0m\n\u001b[0m\u001b[1;32m    346\u001b[0m             \u001b[0;32mreturn\u001b[0m \u001b[0;32mNone\u001b[0m\u001b[0;34m\u001b[0m\u001b[0;34m\u001b[0m\u001b[0m\n\u001b[1;32m    347\u001b[0m         \u001b[0;32melse\u001b[0m\u001b[0;34m:\u001b[0m\u001b[0;34m\u001b[0m\u001b[0;34m\u001b[0m\u001b[0m\n",
      "\u001b[0;32m~/opt/anaconda3/lib/python3.9/site-packages/folium/folium.py\u001b[0m in \u001b[0;36m_repr_html_\u001b[0;34m(self, **kwargs)\u001b[0m\n\u001b[1;32m    297\u001b[0m             \u001b[0mself\u001b[0m\u001b[0;34m.\u001b[0m\u001b[0m_parent\u001b[0m \u001b[0;34m=\u001b[0m \u001b[0;32mNone\u001b[0m\u001b[0;34m\u001b[0m\u001b[0;34m\u001b[0m\u001b[0m\n\u001b[1;32m    298\u001b[0m         \u001b[0;32melse\u001b[0m\u001b[0;34m:\u001b[0m\u001b[0;34m\u001b[0m\u001b[0;34m\u001b[0m\u001b[0m\n\u001b[0;32m--> 299\u001b[0;31m             \u001b[0mout\u001b[0m \u001b[0;34m=\u001b[0m \u001b[0mself\u001b[0m\u001b[0;34m.\u001b[0m\u001b[0m_parent\u001b[0m\u001b[0;34m.\u001b[0m\u001b[0m_repr_html_\u001b[0m\u001b[0;34m(\u001b[0m\u001b[0;34m**\u001b[0m\u001b[0mkwargs\u001b[0m\u001b[0;34m)\u001b[0m\u001b[0;34m\u001b[0m\u001b[0;34m\u001b[0m\u001b[0m\n\u001b[0m\u001b[1;32m    300\u001b[0m         \u001b[0;32mreturn\u001b[0m \u001b[0mout\u001b[0m\u001b[0;34m\u001b[0m\u001b[0;34m\u001b[0m\u001b[0m\n\u001b[1;32m    301\u001b[0m \u001b[0;34m\u001b[0m\u001b[0m\n",
      "\u001b[0;32m~/opt/anaconda3/lib/python3.9/site-packages/branca/element.py\u001b[0m in \u001b[0;36m_repr_html_\u001b[0;34m(self, **kwargs)\u001b[0m\n\u001b[1;32m    324\u001b[0m     \u001b[0;32mdef\u001b[0m \u001b[0m_repr_html_\u001b[0m\u001b[0;34m(\u001b[0m\u001b[0mself\u001b[0m\u001b[0;34m,\u001b[0m \u001b[0;34m**\u001b[0m\u001b[0mkwargs\u001b[0m\u001b[0;34m)\u001b[0m\u001b[0;34m:\u001b[0m\u001b[0;34m\u001b[0m\u001b[0;34m\u001b[0m\u001b[0m\n\u001b[1;32m    325\u001b[0m         \u001b[0;34m\"\"\"Displays the Figure in a Jupyter notebook.\"\"\"\u001b[0m\u001b[0;34m\u001b[0m\u001b[0;34m\u001b[0m\u001b[0m\n\u001b[0;32m--> 326\u001b[0;31m         \u001b[0mhtml\u001b[0m \u001b[0;34m=\u001b[0m \u001b[0mescape\u001b[0m\u001b[0;34m(\u001b[0m\u001b[0mself\u001b[0m\u001b[0;34m.\u001b[0m\u001b[0mrender\u001b[0m\u001b[0;34m(\u001b[0m\u001b[0;34m**\u001b[0m\u001b[0mkwargs\u001b[0m\u001b[0;34m)\u001b[0m\u001b[0;34m)\u001b[0m\u001b[0;34m\u001b[0m\u001b[0;34m\u001b[0m\u001b[0m\n\u001b[0m\u001b[1;32m    327\u001b[0m         \u001b[0;32mif\u001b[0m \u001b[0mself\u001b[0m\u001b[0;34m.\u001b[0m\u001b[0mheight\u001b[0m \u001b[0;32mis\u001b[0m \u001b[0;32mNone\u001b[0m\u001b[0;34m:\u001b[0m\u001b[0;34m\u001b[0m\u001b[0;34m\u001b[0m\u001b[0m\n\u001b[1;32m    328\u001b[0m             iframe = (\n",
      "\u001b[0;32m~/opt/anaconda3/lib/python3.9/site-packages/branca/element.py\u001b[0m in \u001b[0;36mrender\u001b[0;34m(self, **kwargs)\u001b[0m\n\u001b[1;32m    319\u001b[0m         \u001b[0;34m\"\"\"Renders the HTML representation of the element.\"\"\"\u001b[0m\u001b[0;34m\u001b[0m\u001b[0;34m\u001b[0m\u001b[0m\n\u001b[1;32m    320\u001b[0m         \u001b[0;32mfor\u001b[0m \u001b[0mname\u001b[0m\u001b[0;34m,\u001b[0m \u001b[0mchild\u001b[0m \u001b[0;32min\u001b[0m \u001b[0mself\u001b[0m\u001b[0;34m.\u001b[0m\u001b[0m_children\u001b[0m\u001b[0;34m.\u001b[0m\u001b[0mitems\u001b[0m\u001b[0;34m(\u001b[0m\u001b[0;34m)\u001b[0m\u001b[0;34m:\u001b[0m\u001b[0;34m\u001b[0m\u001b[0;34m\u001b[0m\u001b[0m\n\u001b[0;32m--> 321\u001b[0;31m             \u001b[0mchild\u001b[0m\u001b[0;34m.\u001b[0m\u001b[0mrender\u001b[0m\u001b[0;34m(\u001b[0m\u001b[0;34m**\u001b[0m\u001b[0mkwargs\u001b[0m\u001b[0;34m)\u001b[0m\u001b[0;34m\u001b[0m\u001b[0;34m\u001b[0m\u001b[0m\n\u001b[0m\u001b[1;32m    322\u001b[0m         \u001b[0;32mreturn\u001b[0m \u001b[0mself\u001b[0m\u001b[0;34m.\u001b[0m\u001b[0m_template\u001b[0m\u001b[0;34m.\u001b[0m\u001b[0mrender\u001b[0m\u001b[0;34m(\u001b[0m\u001b[0mthis\u001b[0m\u001b[0;34m=\u001b[0m\u001b[0mself\u001b[0m\u001b[0;34m,\u001b[0m \u001b[0mkwargs\u001b[0m\u001b[0;34m=\u001b[0m\u001b[0mkwargs\u001b[0m\u001b[0;34m)\u001b[0m\u001b[0;34m\u001b[0m\u001b[0;34m\u001b[0m\u001b[0m\n\u001b[1;32m    323\u001b[0m \u001b[0;34m\u001b[0m\u001b[0m\n",
      "\u001b[0;32m~/opt/anaconda3/lib/python3.9/site-packages/folium/folium.py\u001b[0m in \u001b[0;36mrender\u001b[0;34m(self, **kwargs)\u001b[0m\n\u001b[1;32m    366\u001b[0m             '</style>'), name='map_style')\n\u001b[1;32m    367\u001b[0m \u001b[0;34m\u001b[0m\u001b[0m\n\u001b[0;32m--> 368\u001b[0;31m         \u001b[0msuper\u001b[0m\u001b[0;34m(\u001b[0m\u001b[0mMap\u001b[0m\u001b[0;34m,\u001b[0m \u001b[0mself\u001b[0m\u001b[0;34m)\u001b[0m\u001b[0;34m.\u001b[0m\u001b[0mrender\u001b[0m\u001b[0;34m(\u001b[0m\u001b[0;34m**\u001b[0m\u001b[0mkwargs\u001b[0m\u001b[0;34m)\u001b[0m\u001b[0;34m\u001b[0m\u001b[0;34m\u001b[0m\u001b[0m\n\u001b[0m\u001b[1;32m    369\u001b[0m \u001b[0;34m\u001b[0m\u001b[0m\n\u001b[1;32m    370\u001b[0m     def fit_bounds(self, bounds, padding_top_left=None,\n",
      "\u001b[0;32m~/opt/anaconda3/lib/python3.9/site-packages/folium/elements.py\u001b[0m in \u001b[0;36mrender\u001b[0;34m(self, **kwargs)\u001b[0m\n\u001b[1;32m     19\u001b[0m             \u001b[0mfigure\u001b[0m\u001b[0;34m.\u001b[0m\u001b[0mheader\u001b[0m\u001b[0;34m.\u001b[0m\u001b[0madd_child\u001b[0m\u001b[0;34m(\u001b[0m\u001b[0mCssLink\u001b[0m\u001b[0;34m(\u001b[0m\u001b[0murl\u001b[0m\u001b[0;34m)\u001b[0m\u001b[0;34m,\u001b[0m \u001b[0mname\u001b[0m\u001b[0;34m=\u001b[0m\u001b[0mname\u001b[0m\u001b[0;34m)\u001b[0m\u001b[0;34m\u001b[0m\u001b[0;34m\u001b[0m\u001b[0m\n\u001b[1;32m     20\u001b[0m \u001b[0;34m\u001b[0m\u001b[0m\n\u001b[0;32m---> 21\u001b[0;31m         \u001b[0msuper\u001b[0m\u001b[0;34m(\u001b[0m\u001b[0;34m)\u001b[0m\u001b[0;34m.\u001b[0m\u001b[0mrender\u001b[0m\u001b[0;34m(\u001b[0m\u001b[0;34m**\u001b[0m\u001b[0mkwargs\u001b[0m\u001b[0;34m)\u001b[0m\u001b[0;34m\u001b[0m\u001b[0;34m\u001b[0m\u001b[0m\n\u001b[0m",
      "\u001b[0;32m~/opt/anaconda3/lib/python3.9/site-packages/branca/element.py\u001b[0m in \u001b[0;36mrender\u001b[0;34m(self, **kwargs)\u001b[0m\n\u001b[1;32m    626\u001b[0m \u001b[0;34m\u001b[0m\u001b[0m\n\u001b[1;32m    627\u001b[0m         \u001b[0;32mfor\u001b[0m \u001b[0mname\u001b[0m\u001b[0;34m,\u001b[0m \u001b[0melement\u001b[0m \u001b[0;32min\u001b[0m \u001b[0mself\u001b[0m\u001b[0;34m.\u001b[0m\u001b[0m_children\u001b[0m\u001b[0;34m.\u001b[0m\u001b[0mitems\u001b[0m\u001b[0;34m(\u001b[0m\u001b[0;34m)\u001b[0m\u001b[0;34m:\u001b[0m\u001b[0;34m\u001b[0m\u001b[0;34m\u001b[0m\u001b[0m\n\u001b[0;32m--> 628\u001b[0;31m             \u001b[0melement\u001b[0m\u001b[0;34m.\u001b[0m\u001b[0mrender\u001b[0m\u001b[0;34m(\u001b[0m\u001b[0;34m**\u001b[0m\u001b[0mkwargs\u001b[0m\u001b[0;34m)\u001b[0m\u001b[0;34m\u001b[0m\u001b[0;34m\u001b[0m\u001b[0m\n\u001b[0m",
      "\u001b[0;32m~/opt/anaconda3/lib/python3.9/site-packages/folium/elements.py\u001b[0m in \u001b[0;36mrender\u001b[0;34m(self, **kwargs)\u001b[0m\n\u001b[1;32m     19\u001b[0m             \u001b[0mfigure\u001b[0m\u001b[0;34m.\u001b[0m\u001b[0mheader\u001b[0m\u001b[0;34m.\u001b[0m\u001b[0madd_child\u001b[0m\u001b[0;34m(\u001b[0m\u001b[0mCssLink\u001b[0m\u001b[0;34m(\u001b[0m\u001b[0murl\u001b[0m\u001b[0;34m)\u001b[0m\u001b[0;34m,\u001b[0m \u001b[0mname\u001b[0m\u001b[0;34m=\u001b[0m\u001b[0mname\u001b[0m\u001b[0;34m)\u001b[0m\u001b[0;34m\u001b[0m\u001b[0;34m\u001b[0m\u001b[0m\n\u001b[1;32m     20\u001b[0m \u001b[0;34m\u001b[0m\u001b[0m\n\u001b[0;32m---> 21\u001b[0;31m         \u001b[0msuper\u001b[0m\u001b[0;34m(\u001b[0m\u001b[0;34m)\u001b[0m\u001b[0;34m.\u001b[0m\u001b[0mrender\u001b[0m\u001b[0;34m(\u001b[0m\u001b[0;34m**\u001b[0m\u001b[0mkwargs\u001b[0m\u001b[0;34m)\u001b[0m\u001b[0;34m\u001b[0m\u001b[0;34m\u001b[0m\u001b[0m\n\u001b[0m",
      "\u001b[0;32m~/opt/anaconda3/lib/python3.9/site-packages/branca/element.py\u001b[0m in \u001b[0;36mrender\u001b[0;34m(self, **kwargs)\u001b[0m\n\u001b[1;32m    622\u001b[0m         \u001b[0mscript\u001b[0m \u001b[0;34m=\u001b[0m \u001b[0mself\u001b[0m\u001b[0;34m.\u001b[0m\u001b[0m_template\u001b[0m\u001b[0;34m.\u001b[0m\u001b[0mmodule\u001b[0m\u001b[0;34m.\u001b[0m\u001b[0m__dict__\u001b[0m\u001b[0;34m.\u001b[0m\u001b[0mget\u001b[0m\u001b[0;34m(\u001b[0m\u001b[0;34m'script'\u001b[0m\u001b[0;34m,\u001b[0m \u001b[0;32mNone\u001b[0m\u001b[0;34m)\u001b[0m\u001b[0;34m\u001b[0m\u001b[0;34m\u001b[0m\u001b[0m\n\u001b[1;32m    623\u001b[0m         \u001b[0;32mif\u001b[0m \u001b[0mscript\u001b[0m \u001b[0;32mis\u001b[0m \u001b[0;32mnot\u001b[0m \u001b[0;32mNone\u001b[0m\u001b[0;34m:\u001b[0m\u001b[0;34m\u001b[0m\u001b[0;34m\u001b[0m\u001b[0m\n\u001b[0;32m--> 624\u001b[0;31m             figure.script.add_child(Element(script(self, kwargs)),\n\u001b[0m\u001b[1;32m    625\u001b[0m                                     name=self.get_name())\n\u001b[1;32m    626\u001b[0m \u001b[0;34m\u001b[0m\u001b[0m\n",
      "\u001b[0;32m~/opt/anaconda3/lib/python3.9/site-packages/jinja2/runtime.py\u001b[0m in \u001b[0;36m__call__\u001b[0;34m(self, *args, **kwargs)\u001b[0m\n\u001b[1;32m    673\u001b[0m             )\n\u001b[1;32m    674\u001b[0m \u001b[0;34m\u001b[0m\u001b[0m\n\u001b[0;32m--> 675\u001b[0;31m         \u001b[0;32mreturn\u001b[0m \u001b[0mself\u001b[0m\u001b[0;34m.\u001b[0m\u001b[0m_invoke\u001b[0m\u001b[0;34m(\u001b[0m\u001b[0marguments\u001b[0m\u001b[0;34m,\u001b[0m \u001b[0mautoescape\u001b[0m\u001b[0;34m)\u001b[0m\u001b[0;34m\u001b[0m\u001b[0;34m\u001b[0m\u001b[0m\n\u001b[0m\u001b[1;32m    676\u001b[0m \u001b[0;34m\u001b[0m\u001b[0m\n\u001b[1;32m    677\u001b[0m     \u001b[0;32mdef\u001b[0m \u001b[0m_invoke\u001b[0m\u001b[0;34m(\u001b[0m\u001b[0mself\u001b[0m\u001b[0;34m,\u001b[0m \u001b[0marguments\u001b[0m\u001b[0;34m,\u001b[0m \u001b[0mautoescape\u001b[0m\u001b[0;34m)\u001b[0m\u001b[0;34m:\u001b[0m\u001b[0;34m\u001b[0m\u001b[0;34m\u001b[0m\u001b[0m\n",
      "\u001b[0;32m~/opt/anaconda3/lib/python3.9/site-packages/jinja2/runtime.py\u001b[0m in \u001b[0;36m_invoke\u001b[0;34m(self, arguments, autoescape)\u001b[0m\n\u001b[1;32m    677\u001b[0m     \u001b[0;32mdef\u001b[0m \u001b[0m_invoke\u001b[0m\u001b[0;34m(\u001b[0m\u001b[0mself\u001b[0m\u001b[0;34m,\u001b[0m \u001b[0marguments\u001b[0m\u001b[0;34m,\u001b[0m \u001b[0mautoescape\u001b[0m\u001b[0;34m)\u001b[0m\u001b[0;34m:\u001b[0m\u001b[0;34m\u001b[0m\u001b[0;34m\u001b[0m\u001b[0m\n\u001b[1;32m    678\u001b[0m         \u001b[0;34m\"\"\"This method is being swapped out by the async implementation.\"\"\"\u001b[0m\u001b[0;34m\u001b[0m\u001b[0;34m\u001b[0m\u001b[0m\n\u001b[0;32m--> 679\u001b[0;31m         \u001b[0mrv\u001b[0m \u001b[0;34m=\u001b[0m \u001b[0mself\u001b[0m\u001b[0;34m.\u001b[0m\u001b[0m_func\u001b[0m\u001b[0;34m(\u001b[0m\u001b[0;34m*\u001b[0m\u001b[0marguments\u001b[0m\u001b[0;34m)\u001b[0m\u001b[0;34m\u001b[0m\u001b[0;34m\u001b[0m\u001b[0m\n\u001b[0m\u001b[1;32m    680\u001b[0m         \u001b[0;32mif\u001b[0m \u001b[0mautoescape\u001b[0m\u001b[0;34m:\u001b[0m\u001b[0;34m\u001b[0m\u001b[0;34m\u001b[0m\u001b[0m\n\u001b[1;32m    681\u001b[0m             \u001b[0mrv\u001b[0m \u001b[0;34m=\u001b[0m \u001b[0mMarkup\u001b[0m\u001b[0;34m(\u001b[0m\u001b[0mrv\u001b[0m\u001b[0;34m)\u001b[0m\u001b[0;34m\u001b[0m\u001b[0;34m\u001b[0m\u001b[0m\n",
      "\u001b[0;32m<template>\u001b[0m in \u001b[0;36mmacro\u001b[0;34m(l_1_this, l_1_kwargs)\u001b[0m\n",
      "\u001b[0;32m~/opt/anaconda3/lib/python3.9/site-packages/jinja2/filters.py\u001b[0m in \u001b[0;36mdo_tojson\u001b[0;34m(eval_ctx, value, indent)\u001b[0m\n\u001b[1;32m   1258\u001b[0m         \u001b[0moptions\u001b[0m \u001b[0;34m=\u001b[0m \u001b[0mdict\u001b[0m\u001b[0;34m(\u001b[0m\u001b[0moptions\u001b[0m\u001b[0;34m)\u001b[0m\u001b[0;34m\u001b[0m\u001b[0;34m\u001b[0m\u001b[0m\n\u001b[1;32m   1259\u001b[0m         \u001b[0moptions\u001b[0m\u001b[0;34m[\u001b[0m\u001b[0;34m\"indent\"\u001b[0m\u001b[0;34m]\u001b[0m \u001b[0;34m=\u001b[0m \u001b[0mindent\u001b[0m\u001b[0;34m\u001b[0m\u001b[0;34m\u001b[0m\u001b[0m\n\u001b[0;32m-> 1260\u001b[0;31m     \u001b[0;32mreturn\u001b[0m \u001b[0mhtmlsafe_json_dumps\u001b[0m\u001b[0;34m(\u001b[0m\u001b[0mvalue\u001b[0m\u001b[0;34m,\u001b[0m \u001b[0mdumper\u001b[0m\u001b[0;34m=\u001b[0m\u001b[0mdumper\u001b[0m\u001b[0;34m,\u001b[0m \u001b[0;34m**\u001b[0m\u001b[0moptions\u001b[0m\u001b[0;34m)\u001b[0m\u001b[0;34m\u001b[0m\u001b[0;34m\u001b[0m\u001b[0m\n\u001b[0m\u001b[1;32m   1261\u001b[0m \u001b[0;34m\u001b[0m\u001b[0m\n\u001b[1;32m   1262\u001b[0m \u001b[0;34m\u001b[0m\u001b[0m\n",
      "\u001b[0;32m~/opt/anaconda3/lib/python3.9/site-packages/jinja2/utils.py\u001b[0m in \u001b[0;36mhtmlsafe_json_dumps\u001b[0;34m(obj, dumper, **kwargs)\u001b[0m\n\u001b[1;32m    617\u001b[0m         \u001b[0mdumper\u001b[0m \u001b[0;34m=\u001b[0m \u001b[0mjson\u001b[0m\u001b[0;34m.\u001b[0m\u001b[0mdumps\u001b[0m\u001b[0;34m\u001b[0m\u001b[0;34m\u001b[0m\u001b[0m\n\u001b[1;32m    618\u001b[0m     rv = (\n\u001b[0;32m--> 619\u001b[0;31m         \u001b[0mdumper\u001b[0m\u001b[0;34m(\u001b[0m\u001b[0mobj\u001b[0m\u001b[0;34m,\u001b[0m \u001b[0;34m**\u001b[0m\u001b[0mkwargs\u001b[0m\u001b[0;34m)\u001b[0m\u001b[0;34m\u001b[0m\u001b[0;34m\u001b[0m\u001b[0m\n\u001b[0m\u001b[1;32m    620\u001b[0m         \u001b[0;34m.\u001b[0m\u001b[0mreplace\u001b[0m\u001b[0;34m(\u001b[0m\u001b[0;34mu\"<\"\u001b[0m\u001b[0;34m,\u001b[0m \u001b[0;34mu\"\\\\u003c\"\u001b[0m\u001b[0;34m)\u001b[0m\u001b[0;34m\u001b[0m\u001b[0;34m\u001b[0m\u001b[0m\n\u001b[1;32m    621\u001b[0m         \u001b[0;34m.\u001b[0m\u001b[0mreplace\u001b[0m\u001b[0;34m(\u001b[0m\u001b[0;34mu\">\"\u001b[0m\u001b[0;34m,\u001b[0m \u001b[0;34mu\"\\\\u003e\"\u001b[0m\u001b[0;34m)\u001b[0m\u001b[0;34m\u001b[0m\u001b[0;34m\u001b[0m\u001b[0m\n",
      "\u001b[0;32m~/opt/anaconda3/lib/python3.9/json/__init__.py\u001b[0m in \u001b[0;36mdumps\u001b[0;34m(obj, skipkeys, ensure_ascii, check_circular, allow_nan, cls, indent, separators, default, sort_keys, **kw)\u001b[0m\n\u001b[1;32m    232\u001b[0m     \u001b[0;32mif\u001b[0m \u001b[0mcls\u001b[0m \u001b[0;32mis\u001b[0m \u001b[0;32mNone\u001b[0m\u001b[0;34m:\u001b[0m\u001b[0;34m\u001b[0m\u001b[0;34m\u001b[0m\u001b[0m\n\u001b[1;32m    233\u001b[0m         \u001b[0mcls\u001b[0m \u001b[0;34m=\u001b[0m \u001b[0mJSONEncoder\u001b[0m\u001b[0;34m\u001b[0m\u001b[0;34m\u001b[0m\u001b[0m\n\u001b[0;32m--> 234\u001b[0;31m     return cls(\n\u001b[0m\u001b[1;32m    235\u001b[0m         \u001b[0mskipkeys\u001b[0m\u001b[0;34m=\u001b[0m\u001b[0mskipkeys\u001b[0m\u001b[0;34m,\u001b[0m \u001b[0mensure_ascii\u001b[0m\u001b[0;34m=\u001b[0m\u001b[0mensure_ascii\u001b[0m\u001b[0;34m,\u001b[0m\u001b[0;34m\u001b[0m\u001b[0;34m\u001b[0m\u001b[0m\n\u001b[1;32m    236\u001b[0m         \u001b[0mcheck_circular\u001b[0m\u001b[0;34m=\u001b[0m\u001b[0mcheck_circular\u001b[0m\u001b[0;34m,\u001b[0m \u001b[0mallow_nan\u001b[0m\u001b[0;34m=\u001b[0m\u001b[0mallow_nan\u001b[0m\u001b[0;34m,\u001b[0m \u001b[0mindent\u001b[0m\u001b[0;34m=\u001b[0m\u001b[0mindent\u001b[0m\u001b[0;34m,\u001b[0m\u001b[0;34m\u001b[0m\u001b[0;34m\u001b[0m\u001b[0m\n",
      "\u001b[0;32m~/opt/anaconda3/lib/python3.9/json/encoder.py\u001b[0m in \u001b[0;36mencode\u001b[0;34m(self, o)\u001b[0m\n\u001b[1;32m    197\u001b[0m         \u001b[0;31m# exceptions aren't as detailed.  The list call should be roughly\u001b[0m\u001b[0;34m\u001b[0m\u001b[0;34m\u001b[0m\u001b[0m\n\u001b[1;32m    198\u001b[0m         \u001b[0;31m# equivalent to the PySequence_Fast that ''.join() would do.\u001b[0m\u001b[0;34m\u001b[0m\u001b[0;34m\u001b[0m\u001b[0m\n\u001b[0;32m--> 199\u001b[0;31m         \u001b[0mchunks\u001b[0m \u001b[0;34m=\u001b[0m \u001b[0mself\u001b[0m\u001b[0;34m.\u001b[0m\u001b[0miterencode\u001b[0m\u001b[0;34m(\u001b[0m\u001b[0mo\u001b[0m\u001b[0;34m,\u001b[0m \u001b[0m_one_shot\u001b[0m\u001b[0;34m=\u001b[0m\u001b[0;32mTrue\u001b[0m\u001b[0;34m)\u001b[0m\u001b[0;34m\u001b[0m\u001b[0;34m\u001b[0m\u001b[0m\n\u001b[0m\u001b[1;32m    200\u001b[0m         \u001b[0;32mif\u001b[0m \u001b[0;32mnot\u001b[0m \u001b[0misinstance\u001b[0m\u001b[0;34m(\u001b[0m\u001b[0mchunks\u001b[0m\u001b[0;34m,\u001b[0m \u001b[0;34m(\u001b[0m\u001b[0mlist\u001b[0m\u001b[0;34m,\u001b[0m \u001b[0mtuple\u001b[0m\u001b[0;34m)\u001b[0m\u001b[0;34m)\u001b[0m\u001b[0;34m:\u001b[0m\u001b[0;34m\u001b[0m\u001b[0;34m\u001b[0m\u001b[0m\n\u001b[1;32m    201\u001b[0m             \u001b[0mchunks\u001b[0m \u001b[0;34m=\u001b[0m \u001b[0mlist\u001b[0m\u001b[0;34m(\u001b[0m\u001b[0mchunks\u001b[0m\u001b[0;34m)\u001b[0m\u001b[0;34m\u001b[0m\u001b[0;34m\u001b[0m\u001b[0m\n",
      "\u001b[0;32m~/opt/anaconda3/lib/python3.9/json/encoder.py\u001b[0m in \u001b[0;36miterencode\u001b[0;34m(self, o, _one_shot)\u001b[0m\n\u001b[1;32m    255\u001b[0m                 \u001b[0mself\u001b[0m\u001b[0;34m.\u001b[0m\u001b[0mkey_separator\u001b[0m\u001b[0;34m,\u001b[0m \u001b[0mself\u001b[0m\u001b[0;34m.\u001b[0m\u001b[0mitem_separator\u001b[0m\u001b[0;34m,\u001b[0m \u001b[0mself\u001b[0m\u001b[0;34m.\u001b[0m\u001b[0msort_keys\u001b[0m\u001b[0;34m,\u001b[0m\u001b[0;34m\u001b[0m\u001b[0;34m\u001b[0m\u001b[0m\n\u001b[1;32m    256\u001b[0m                 self.skipkeys, _one_shot)\n\u001b[0;32m--> 257\u001b[0;31m         \u001b[0;32mreturn\u001b[0m \u001b[0m_iterencode\u001b[0m\u001b[0;34m(\u001b[0m\u001b[0mo\u001b[0m\u001b[0;34m,\u001b[0m \u001b[0;36m0\u001b[0m\u001b[0;34m)\u001b[0m\u001b[0;34m\u001b[0m\u001b[0;34m\u001b[0m\u001b[0m\n\u001b[0m\u001b[1;32m    258\u001b[0m \u001b[0;34m\u001b[0m\u001b[0m\n\u001b[1;32m    259\u001b[0m def _make_iterencode(markers, _default, _encoder, _indent, _floatstr,\n",
      "\u001b[0;31mTypeError\u001b[0m: keys must be str, int, float, bool or None, not numpy.int64"
     ]
    },
    {
     "data": {
      "text/plain": [
       "<folium.folium.Map at 0x7f9a2c184310>"
      ]
     },
     "execution_count": 77,
     "metadata": {},
     "output_type": "execute_result"
    }
   ],
   "source": [
    "# Basemap\n",
    "fig = Figure(height = 850, width = 1000)\n",
    "m = folium.Map([34, 118], tiles='cartodbpositron', zoom_start=5)\n",
    "fig.add_child(m)\n",
    "\n",
    "# TimeSliderCloropleth\n",
    "g = TimeSliderChoropleth(\n",
    "    gdf_plt,\n",
    "    styledict = df_dict\n",
    ").add_to(m)\n",
    "m"
   ]
  },
  {
   "cell_type": "code",
   "execution_count": 19,
   "id": "711f42d7-9fda-4b2a-82e8-7db473b0a493",
   "metadata": {},
   "outputs": [
    {
     "data": {
      "text/html": [
       "<iframe srcdoc=\"&lt;!DOCTYPE html&gt;\n",
       "&lt;head&gt;    \n",
       "    &lt;meta http-equiv=&quot;content-type&quot; content=&quot;text/html; charset=UTF-8&quot; /&gt;\n",
       "    \n",
       "        &lt;script&gt;\n",
       "            L_NO_TOUCH = false;\n",
       "            L_DISABLE_3D = false;\n",
       "        &lt;/script&gt;\n",
       "    \n",
       "    &lt;style&gt;html, body {width: 100%;height: 100%;margin: 0;padding: 0;}&lt;/style&gt;\n",
       "    &lt;style&gt;#map {position:absolute;top:0;bottom:0;right:0;left:0;}&lt;/style&gt;\n",
       "    &lt;script src=&quot;https://cdn.jsdelivr.net/npm/leaflet@1.6.0/dist/leaflet.js&quot;&gt;&lt;/script&gt;\n",
       "    &lt;script src=&quot;https://code.jquery.com/jquery-1.12.4.min.js&quot;&gt;&lt;/script&gt;\n",
       "    &lt;script src=&quot;https://maxcdn.bootstrapcdn.com/bootstrap/3.2.0/js/bootstrap.min.js&quot;&gt;&lt;/script&gt;\n",
       "    &lt;script src=&quot;https://cdnjs.cloudflare.com/ajax/libs/Leaflet.awesome-markers/2.0.2/leaflet.awesome-markers.js&quot;&gt;&lt;/script&gt;\n",
       "    &lt;link rel=&quot;stylesheet&quot; href=&quot;https://cdn.jsdelivr.net/npm/leaflet@1.6.0/dist/leaflet.css&quot;/&gt;\n",
       "    &lt;link rel=&quot;stylesheet&quot; href=&quot;https://maxcdn.bootstrapcdn.com/bootstrap/3.2.0/css/bootstrap.min.css&quot;/&gt;\n",
       "    &lt;link rel=&quot;stylesheet&quot; href=&quot;https://maxcdn.bootstrapcdn.com/bootstrap/3.2.0/css/bootstrap-theme.min.css&quot;/&gt;\n",
       "    &lt;link rel=&quot;stylesheet&quot; href=&quot;https://maxcdn.bootstrapcdn.com/font-awesome/4.6.3/css/font-awesome.min.css&quot;/&gt;\n",
       "    &lt;link rel=&quot;stylesheet&quot; href=&quot;https://cdnjs.cloudflare.com/ajax/libs/Leaflet.awesome-markers/2.0.2/leaflet.awesome-markers.css&quot;/&gt;\n",
       "    &lt;link rel=&quot;stylesheet&quot; href=&quot;https://cdn.jsdelivr.net/gh/python-visualization/folium/folium/templates/leaflet.awesome.rotate.min.css&quot;/&gt;\n",
       "    \n",
       "            &lt;meta name=&quot;viewport&quot; content=&quot;width=device-width,\n",
       "                initial-scale=1.0, maximum-scale=1.0, user-scalable=no&quot; /&gt;\n",
       "            &lt;style&gt;\n",
       "                #map_9e778de80e95b2f7ad21d568bb584755 {\n",
       "                    position: relative;\n",
       "                    width: 550.0px;\n",
       "                    height: 350.0px;\n",
       "                    left: 0.0%;\n",
       "                    top: 0.0%;\n",
       "                }\n",
       "            &lt;/style&gt;\n",
       "        \n",
       "&lt;/head&gt;\n",
       "&lt;body&gt;    \n",
       "    \n",
       "            &lt;div class=&quot;folium-map&quot; id=&quot;map_9e778de80e95b2f7ad21d568bb584755&quot; &gt;&lt;/div&gt;\n",
       "        \n",
       "&lt;/body&gt;\n",
       "&lt;script&gt;    \n",
       "    \n",
       "            var map_9e778de80e95b2f7ad21d568bb584755 = L.map(\n",
       "                &quot;map_9e778de80e95b2f7ad21d568bb584755&quot;,\n",
       "                {\n",
       "                    center: [28.6448, 77.216721],\n",
       "                    crs: L.CRS.EPSG3857,\n",
       "                    zoom: 11,\n",
       "                    zoomControl: true,\n",
       "                    preferCanvas: false,\n",
       "                }\n",
       "            );\n",
       "\n",
       "            \n",
       "\n",
       "        \n",
       "    \n",
       "            var tile_layer_d39c4df1b414d4fe669e6f761bc5c8f5 = L.tileLayer(\n",
       "                &quot;https://{s}.tile.openstreetmap.org/{z}/{x}/{y}.png&quot;,\n",
       "                {&quot;attribution&quot;: &quot;Data by \\u0026copy; \\u003ca href=\\&quot;http://openstreetmap.org\\&quot;\\u003eOpenStreetMap\\u003c/a\\u003e, under \\u003ca href=\\&quot;http://www.openstreetmap.org/copyright\\&quot;\\u003eODbL\\u003c/a\\u003e.&quot;, &quot;detectRetina&quot;: false, &quot;maxNativeZoom&quot;: 14, &quot;maxZoom&quot;: 14, &quot;minZoom&quot;: 8, &quot;noWrap&quot;: false, &quot;opacity&quot;: 1, &quot;subdomains&quot;: &quot;abc&quot;, &quot;tms&quot;: false}\n",
       "            ).addTo(map_9e778de80e95b2f7ad21d568bb584755);\n",
       "        \n",
       "    \n",
       "            var tile_layer_1448baacefb4607d199e9d84b54e38d1 = L.tileLayer(\n",
       "                &quot;https://stamen-tiles-{s}.a.ssl.fastly.net/terrain/{z}/{x}/{y}.jpg&quot;,\n",
       "                {&quot;attribution&quot;: &quot;Map tiles by \\u003ca href=\\&quot;http://stamen.com\\&quot;\\u003eStamen Design\\u003c/a\\u003e, under \\u003ca href=\\&quot;http://creativecommons.org/licenses/by/3.0\\&quot;\\u003eCC BY 3.0\\u003c/a\\u003e. Data by \\u0026copy; \\u003ca href=\\&quot;http://openstreetmap.org\\&quot;\\u003eOpenStreetMap\\u003c/a\\u003e, under \\u003ca href=\\&quot;http://creativecommons.org/licenses/by-sa/3.0\\&quot;\\u003eCC BY SA\\u003c/a\\u003e.&quot;, &quot;detectRetina&quot;: false, &quot;maxNativeZoom&quot;: 18, &quot;maxZoom&quot;: 18, &quot;minZoom&quot;: 0, &quot;noWrap&quot;: false, &quot;opacity&quot;: 1, &quot;subdomains&quot;: &quot;abc&quot;, &quot;tms&quot;: false}\n",
       "            ).addTo(map_9e778de80e95b2f7ad21d568bb584755);\n",
       "        \n",
       "    \n",
       "            var layer_control_5bb6d5873b687e5f398c1c1d5723c24f = {\n",
       "                base_layers : {\n",
       "                    &quot;openstreetmap&quot; : tile_layer_d39c4df1b414d4fe669e6f761bc5c8f5,\n",
       "                    &quot;stamenterrain&quot; : tile_layer_1448baacefb4607d199e9d84b54e38d1,\n",
       "                },\n",
       "                overlays :  {\n",
       "                },\n",
       "            };\n",
       "            L.control.layers(\n",
       "                layer_control_5bb6d5873b687e5f398c1c1d5723c24f.base_layers,\n",
       "                layer_control_5bb6d5873b687e5f398c1c1d5723c24f.overlays,\n",
       "                {&quot;autoZIndex&quot;: true, &quot;collapsed&quot;: true, &quot;position&quot;: &quot;topright&quot;}\n",
       "            ).addTo(map_9e778de80e95b2f7ad21d568bb584755);\n",
       "            tile_layer_1448baacefb4607d199e9d84b54e38d1.remove();\n",
       "        \n",
       "    \n",
       "            var marker_9a1c6457806a41b3c91201eea6e798eb = L.marker(\n",
       "                [28.6958, 77.244721],\n",
       "                {}\n",
       "            ).addTo(map_9e778de80e95b2f7ad21d568bb584755);\n",
       "        \n",
       "    \n",
       "        var popup_1e9c8fd597d5998a1e40465714a8a1fc = L.popup({&quot;maxWidth&quot;: &quot;100%&quot;});\n",
       "\n",
       "        \n",
       "            var html_bfce99204f1092e7cb6e861b525e2211 = $(`&lt;div id=&quot;html_bfce99204f1092e7cb6e861b525e2211&quot; style=&quot;width: 100.0%; height: 100.0%;&quot;&gt;Default popup Marker1&lt;/div&gt;`)[0];\n",
       "            popup_1e9c8fd597d5998a1e40465714a8a1fc.setContent(html_bfce99204f1092e7cb6e861b525e2211);\n",
       "        \n",
       "\n",
       "        marker_9a1c6457806a41b3c91201eea6e798eb.bindPopup(popup_1e9c8fd597d5998a1e40465714a8a1fc)\n",
       "        ;\n",
       "\n",
       "        \n",
       "    \n",
       "    \n",
       "            marker_9a1c6457806a41b3c91201eea6e798eb.bindTooltip(\n",
       "                `&lt;div&gt;\n",
       "                     Click here to see Popup\n",
       "                 &lt;/div&gt;`,\n",
       "                {&quot;sticky&quot;: true}\n",
       "            );\n",
       "        \n",
       "    \n",
       "            var marker_aab5bbb3b14f39ef74eb5e06910f8dee = L.marker(\n",
       "                [28.6458, 77.214721],\n",
       "                {}\n",
       "            ).addTo(map_9e778de80e95b2f7ad21d568bb584755);\n",
       "        \n",
       "    \n",
       "        var popup_801ae1e57375ebbcb39fbe585eb31485 = L.popup({&quot;maxWidth&quot;: &quot;100%&quot;});\n",
       "\n",
       "        \n",
       "            var html_4e01d7f011442b0a4543ef74671f9cf5 = $(`&lt;div id=&quot;html_4e01d7f011442b0a4543ef74671f9cf5&quot; style=&quot;width: 100.0%; height: 100.0%;&quot;&gt;&lt;strong&gt;Marker3&lt;/strong&gt;&lt;/div&gt;`)[0];\n",
       "            popup_801ae1e57375ebbcb39fbe585eb31485.setContent(html_4e01d7f011442b0a4543ef74671f9cf5);\n",
       "        \n",
       "\n",
       "        marker_aab5bbb3b14f39ef74eb5e06910f8dee.bindPopup(popup_801ae1e57375ebbcb39fbe585eb31485)\n",
       "        ;\n",
       "\n",
       "        \n",
       "    \n",
       "    \n",
       "            marker_aab5bbb3b14f39ef74eb5e06910f8dee.bindTooltip(\n",
       "                `&lt;div&gt;\n",
       "                     &lt;strong&gt;Click here to see Popup&lt;/strong&gt;\n",
       "                 &lt;/div&gt;`,\n",
       "                {&quot;sticky&quot;: true}\n",
       "            );\n",
       "        \n",
       "    \n",
       "            var marker_8d9312a0021dac95e8b5189ee91a13a5 = L.marker(\n",
       "                [28.6558, 77.274721],\n",
       "                {}\n",
       "            ).addTo(map_9e778de80e95b2f7ad21d568bb584755);\n",
       "        \n",
       "    \n",
       "        var popup_4d6e69ca684ccc203e64f75a61442f99 = L.popup({&quot;maxWidth&quot;: &quot;100%&quot;});\n",
       "\n",
       "        \n",
       "            var html_23332460eb6d15add2e40b4113406dd4 = $(`&lt;div id=&quot;html_23332460eb6d15add2e40b4113406dd4&quot; style=&quot;width: 100.0%; height: 100.0%;&quot;&gt;&lt;h3 style=&quot;color:green;&quot;&gt;Marker2&lt;/h3&gt;&lt;/div&gt;`)[0];\n",
       "            popup_4d6e69ca684ccc203e64f75a61442f99.setContent(html_23332460eb6d15add2e40b4113406dd4);\n",
       "        \n",
       "\n",
       "        marker_8d9312a0021dac95e8b5189ee91a13a5.bindPopup(popup_4d6e69ca684ccc203e64f75a61442f99)\n",
       "        ;\n",
       "\n",
       "        \n",
       "    \n",
       "    \n",
       "            marker_8d9312a0021dac95e8b5189ee91a13a5.bindTooltip(\n",
       "                `&lt;div&gt;\n",
       "                     &lt;strong&gt;Click here to see Popup&lt;/strong&gt;\n",
       "                 &lt;/div&gt;`,\n",
       "                {&quot;sticky&quot;: true}\n",
       "            );\n",
       "        \n",
       "&lt;/script&gt;\" width=\"550\" height=\"350\"style=\"border:none !important;\" \"allowfullscreen\" \"webkitallowfullscreen\" \"mozallowfullscreen\"></iframe>"
      ],
      "text/plain": [
       "<folium.folium.Map at 0x7f9a30b06d90>"
      ]
     },
     "execution_count": 19,
     "metadata": {},
     "output_type": "execute_result"
    }
   ],
   "source": [
    "# Basemap\n",
    "fig = Figure(width=550,height=350)\n",
    "m1=folium.Map(width=550,height=350,location=[28.644800, 77.216721],zoom_start=11,min_zoom=8,max_zoom=14)\n",
    "fig.add_child(m1)\n",
    "\n",
    "# Add tiles\n",
    "folium.TileLayer('Stamen Terrain').add_to(m1)\n",
    "folium.LayerControl().add_to(m1)\n",
    "\n",
    "# Add Markers\n",
    "folium.Marker(location=[28.695800, 77.244721],popup='Default popup Marker1',tooltip='Click here to see Popup').add_to(m1)\n",
    "folium.Marker(location=[28.645800, 77.214721],popup='<strong>Marker3</strong>',tooltip='<strong>Click here to see Popup</strong>').add_to(m1)\n",
    "folium.Marker(location=[28.655800, 77.274721],popup='<h3 style=\"color:green;\">Marker2</h3>',tooltip='<strong>Click here to see Popup</strong>').add_to(m1)\n",
    "\n",
    "m1"
   ]
  },
  {
   "cell_type": "code",
   "execution_count": 20,
   "id": "53d437df-833c-4b18-86df-eb09df6d70a5",
   "metadata": {},
   "outputs": [
    {
     "data": {
      "text/plain": [
       "<AxesSubplot:>"
      ]
     },
     "execution_count": 20,
     "metadata": {},
     "output_type": "execute_result"
    },
    {
     "data": {
      "image/png": "[encoded data removed]",
      "text/plain": [
       "<Figure size 432x288 with 1 Axes>"
      ]
     },
     "metadata": {
      "needs_background": "light"
     },
     "output_type": "display_data"
    }
   ],
   "source": [
    "gdf.plot()"
   ]
  },
  {
   "cell_type": "code",
   "execution_count": null,
   "id": "3644edbf-5e9f-4f76-a8b0-b73b2b47f125",
   "metadata": {},
   "outputs": [],
   "source": []
  }
 ],
 "metadata": {
  "kernelspec": {
   "display_name": "Python 3 (ipykernel)",
   "language": "python",
   "name": "python3"
  },
  "language_info": {
   "codemirror_mode": {
    "name": "ipython",
    "version": 3
   },
   "file_extension": ".py",
   "mimetype": "text/x-python",
   "name": "python",
   "nbconvert_exporter": "python",
   "pygments_lexer": "ipython3",
   "version": "3.9.12"
  }
 },
 "nbformat": 4,
 "nbformat_minor": 5
}
