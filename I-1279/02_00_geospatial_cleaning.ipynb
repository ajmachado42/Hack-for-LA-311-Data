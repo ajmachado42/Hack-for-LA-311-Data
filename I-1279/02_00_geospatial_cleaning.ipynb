{
 "cells": [
  {
   "cell_type": "markdown",
   "id": "43039261-317f-4b13-b70b-233936c9d96f",
   "metadata": {},
   "source": [
    "# 02.00 Geospatial Analysis: Cleaning\n",
    "## Issue 1279\n",
    "---\n",
    "[Neighborhood Council Shapefile Source](https://data.lacity.org/City-Infrastructure-Service-Requests/Neighborhood-Councils-Certified-/fu65-dz2f) | [LA Blocks Census Shapefile Source](https://www2.census.gov/geo/tiger/TIGER2020PL/STATE/06_CALIFORNIA/06037/)"
   ]
  },
  {
   "cell_type": "markdown",
   "id": "f5966422-c70c-4548-bb6c-6281296c6ee6",
   "metadata": {},
   "source": [
    "# Table of Contents\n",
    "---\n",
    "## [Package & Data Imports  ](#Package-&-Data-Imports)\n",
    "## [Data Cleaning](#Cleaning)\n",
    "## [Consistency](#Checking-Consistency-Between-gdf_nc-and-df)\n",
    "## [Nulls and Duplicates](#Nulls-&-Duplicates)\n",
    "## Spatial Joins\n",
    "> ## [Spatial Join - Neighborhood Council and Blocks Geodata  ](#Spatial-Join---Neighborhood-Council-and-Blocks-Geodata)\n",
    "> ## [Spatial Join - 311 Request Data (Address Points) with Block-Neighborhood Council Geodata  ](#Spatial-Join---311-Request-Data-(Address-Points)-with-Block-Neighborhood-Council-Geodata)"
   ]
  },
  {
   "cell_type": "markdown",
   "id": "a2dcffaf-28f7-45e4-9fa8-9a611c6b1f12",
   "metadata": {
    "tags": []
   },
   "source": [
    "# Package & Data Imports\n",
    "---"
   ]
  },
  {
   "cell_type": "code",
   "execution_count": 1,
   "id": "e79a3134-deaf-446d-8e92-d4dc2414213b",
   "metadata": {},
   "outputs": [],
   "source": [
    "import pandas as pd\n",
    "import numpy as np\n",
    "import matplotlib.pyplot as plt\n",
    "import seaborn as sns\n",
    "from datetime import datetime\n",
    "\n",
    "# https://stackoverflow.com/questions/13440102/getting-bounding-box-of-city\n",
    "import geopandas as gpd\n",
    "\n",
    "# https://towardsdatascience.com/geopandas-101-plot-any-data-with-a-latitude-and-longitude-on-a-map-98e01944b972\n",
    "from shapely.geometry import Point, Polygon\n",
    "\n",
    "from titlecase import titlecase\n",
    "\n",
    "%matplotlib inline\n",
    "import warnings\n",
    "warnings.simplefilter(\"ignore\")\n",
    "with warnings.catch_warnings():\n",
    "    warnings.filterwarnings(\"ignore\", category=DeprecationWarning)"
   ]
  },
  {
   "cell_type": "code",
   "execution_count": 2,
   "id": "ee0f5ee5-5254-4c42-973a-d186a966fd97",
   "metadata": {},
   "outputs": [],
   "source": [
    "# 311 Data 10/01/2021-10/01/2022 from API see 01 notebook\n",
    "raw_df = pd.read_csv('./data/clean_01Oct21_01Oct22_api.csv')\n",
    "df = raw_df.copy()\n",
    "\n",
    "# https://geopandas.org/en/stable/getting_started/introduction.html\n",
    "# NC boundaries: https://data.lacity.org/City-Infrastructure-Service-Requests/Neighborhood-Councils-Certified-/fu65-dz2f\n",
    "raw_gdf_nc = gpd.read_file('./data/Neighborhood Councils (Certified)/geo_export_88bb18d9-f96c-4351-8be9-594f258ed0d3.shp')\n",
    "gdf_nc = raw_gdf_nc.copy()\n",
    "\n",
    "# Block boundaries: https://www2.census.gov/geo/tiger/TIGER2020PL/STATE/06_CALIFORNIA/06037/\n",
    "# tl_2020_06037_tabblock20.zip\n",
    "raw_gdf_blk = gpd.read_file(\"./data/tl_2020_06037_tabblock20/tl_2020_06037_tabblock20.shp\")\n",
    "gdf_blk = raw_gdf_blk.copy()"
   ]
  },
  {
   "cell_type": "code",
   "execution_count": 3,
   "id": "375a785e-022e-44e0-9d13-e1e11f21eea8",
   "metadata": {},
   "outputs": [
    {
     "name": "stdout",
     "output_type": "stream",
     "text": [
      "(1042202, 16)\n"
     ]
    },
    {
     "data": {
      "text/html": [
       "<div>\n",
       "<style scoped>\n",
       "    .dataframe tbody tr th:only-of-type {\n",
       "        vertical-align: middle;\n",
       "    }\n",
       "\n",
       "    .dataframe tbody tr th {\n",
       "        vertical-align: top;\n",
       "    }\n",
       "\n",
       "    .dataframe thead th {\n",
       "        text-align: right;\n",
       "    }\n",
       "</style>\n",
       "<table border=\"1\" class=\"dataframe\">\n",
       "  <thead>\n",
       "    <tr style=\"text-align: right;\">\n",
       "      <th></th>\n",
       "      <th>requestId</th>\n",
       "      <th>createdDate</th>\n",
       "      <th>closedDate</th>\n",
       "      <th>typeId</th>\n",
       "      <th>typeName</th>\n",
       "      <th>address</th>\n",
       "      <th>latitude</th>\n",
       "      <th>longitude</th>\n",
       "      <th>agencyId</th>\n",
       "      <th>agencyName</th>\n",
       "      <th>sourceId</th>\n",
       "      <th>srnumber</th>\n",
       "      <th>sourceName</th>\n",
       "      <th>councilId</th>\n",
       "      <th>councilName</th>\n",
       "      <th>councilID</th>\n",
       "    </tr>\n",
       "  </thead>\n",
       "  <tbody>\n",
       "    <tr>\n",
       "      <th>0</th>\n",
       "      <td>8610592</td>\n",
       "      <td>2021-10-01 00:01:14</td>\n",
       "      <td>2021-10-08 09:24:53</td>\n",
       "      <td>4</td>\n",
       "      <td>Bulky Items</td>\n",
       "      <td>11614 N HERRICK AVE, 91340</td>\n",
       "      <td>34.281312</td>\n",
       "      <td>-118.425453</td>\n",
       "      <td>3</td>\n",
       "      <td>Sanitation Bureau</td>\n",
       "      <td>8</td>\n",
       "      <td>1-2079512481</td>\n",
       "      <td>Phone Call</td>\n",
       "      <td>64</td>\n",
       "      <td>Pacoima</td>\n",
       "      <td>64</td>\n",
       "    </tr>\n",
       "  </tbody>\n",
       "</table>\n",
       "</div>"
      ],
      "text/plain": [
       "   requestId          createdDate           closedDate  typeId     typeName  \\\n",
       "0    8610592  2021-10-01 00:01:14  2021-10-08 09:24:53       4  Bulky Items   \n",
       "\n",
       "                      address   latitude   longitude  agencyId  \\\n",
       "0  11614 N HERRICK AVE, 91340  34.281312 -118.425453         3   \n",
       "\n",
       "          agencyName  sourceId      srnumber  sourceName  councilId  \\\n",
       "0  Sanitation Bureau         8  1-2079512481  Phone Call         64   \n",
       "\n",
       "  councilName  councilID  \n",
       "0     Pacoima         64  "
      ]
     },
     "execution_count": 3,
     "metadata": {},
     "output_type": "execute_result"
    }
   ],
   "source": [
    "print(df.shape)\n",
    "df.head(1)"
   ]
  },
  {
   "cell_type": "code",
   "execution_count": 4,
   "id": "de978cfa-26e1-4599-bb05-9d7c673f3afe",
   "metadata": {},
   "outputs": [
    {
     "name": "stdout",
     "output_type": "stream",
     "text": [
      "(99, 9)\n"
     ]
    },
    {
     "data": {
      "text/html": [
       "<div>\n",
       "<style scoped>\n",
       "    .dataframe tbody tr th:only-of-type {\n",
       "        vertical-align: middle;\n",
       "    }\n",
       "\n",
       "    .dataframe tbody tr th {\n",
       "        vertical-align: top;\n",
       "    }\n",
       "\n",
       "    .dataframe thead th {\n",
       "        text-align: right;\n",
       "    }\n",
       "</style>\n",
       "<table border=\"1\" class=\"dataframe\">\n",
       "  <thead>\n",
       "    <tr style=\"text-align: right;\">\n",
       "      <th></th>\n",
       "      <th>date_certi</th>\n",
       "      <th>time_certi</th>\n",
       "      <th>dwebsite</th>\n",
       "      <th>name</th>\n",
       "      <th>nc_id</th>\n",
       "      <th>objectid</th>\n",
       "      <th>service_re</th>\n",
       "      <th>waddress</th>\n",
       "      <th>geometry</th>\n",
       "    </tr>\n",
       "  </thead>\n",
       "  <tbody>\n",
       "    <tr>\n",
       "      <th>0</th>\n",
       "      <td>2002-10-22</td>\n",
       "      <td>00:00:00.000</td>\n",
       "      <td>http://empowerla.org/ANC</td>\n",
       "      <td>ARLETA NC</td>\n",
       "      <td>6.0</td>\n",
       "      <td>1.0</td>\n",
       "      <td>REGION 1 - NORTH EAST VALLEY</td>\n",
       "      <td>http://www.arletanc.org/</td>\n",
       "      <td>POLYGON ((-118.45005 34.24992, -118.45055 34.2...</td>\n",
       "    </tr>\n",
       "  </tbody>\n",
       "</table>\n",
       "</div>"
      ],
      "text/plain": [
       "   date_certi    time_certi                  dwebsite       name  nc_id  \\\n",
       "0  2002-10-22  00:00:00.000  http://empowerla.org/ANC  ARLETA NC    6.0   \n",
       "\n",
       "   objectid                    service_re                  waddress  \\\n",
       "0       1.0  REGION 1 - NORTH EAST VALLEY  http://www.arletanc.org/   \n",
       "\n",
       "                                            geometry  \n",
       "0  POLYGON ((-118.45005 34.24992, -118.45055 34.2...  "
      ]
     },
     "execution_count": 4,
     "metadata": {},
     "output_type": "execute_result"
    }
   ],
   "source": [
    "print(gdf_nc.shape)\n",
    "gdf_nc.head(1)"
   ]
  },
  {
   "cell_type": "code",
   "execution_count": 5,
   "id": "36775ce8-2321-433b-9694-55e4bca09f57",
   "metadata": {},
   "outputs": [
    {
     "name": "stdout",
     "output_type": "stream",
     "text": [
      "(91626, 16)\n"
     ]
    },
    {
     "data": {
      "text/html": [
       "<div>\n",
       "<style scoped>\n",
       "    .dataframe tbody tr th:only-of-type {\n",
       "        vertical-align: middle;\n",
       "    }\n",
       "\n",
       "    .dataframe tbody tr th {\n",
       "        vertical-align: top;\n",
       "    }\n",
       "\n",
       "    .dataframe thead th {\n",
       "        text-align: right;\n",
       "    }\n",
       "</style>\n",
       "<table border=\"1\" class=\"dataframe\">\n",
       "  <thead>\n",
       "    <tr style=\"text-align: right;\">\n",
       "      <th></th>\n",
       "      <th>STATEFP20</th>\n",
       "      <th>COUNTYFP20</th>\n",
       "      <th>TRACTCE20</th>\n",
       "      <th>BLOCKCE20</th>\n",
       "      <th>GEOID20</th>\n",
       "      <th>NAME20</th>\n",
       "      <th>MTFCC20</th>\n",
       "      <th>UR20</th>\n",
       "      <th>UACE20</th>\n",
       "      <th>UATYPE20</th>\n",
       "      <th>FUNCSTAT20</th>\n",
       "      <th>ALAND20</th>\n",
       "      <th>AWATER20</th>\n",
       "      <th>INTPTLAT20</th>\n",
       "      <th>INTPTLON20</th>\n",
       "      <th>geometry</th>\n",
       "    </tr>\n",
       "  </thead>\n",
       "  <tbody>\n",
       "    <tr>\n",
       "      <th>0</th>\n",
       "      <td>06</td>\n",
       "      <td>037</td>\n",
       "      <td>109300</td>\n",
       "      <td>2015</td>\n",
       "      <td>060371093002015</td>\n",
       "      <td>Block 2015</td>\n",
       "      <td>G5040</td>\n",
       "      <td>None</td>\n",
       "      <td>None</td>\n",
       "      <td>None</td>\n",
       "      <td>S</td>\n",
       "      <td>17913</td>\n",
       "      <td>0</td>\n",
       "      <td>+34.2673969</td>\n",
       "      <td>-118.4797070</td>\n",
       "      <td>POLYGON ((-118.48022 34.26741, -118.48021 34.2...</td>\n",
       "    </tr>\n",
       "  </tbody>\n",
       "</table>\n",
       "</div>"
      ],
      "text/plain": [
       "  STATEFP20 COUNTYFP20 TRACTCE20 BLOCKCE20          GEOID20      NAME20  \\\n",
       "0        06        037    109300      2015  060371093002015  Block 2015   \n",
       "\n",
       "  MTFCC20  UR20 UACE20 UATYPE20 FUNCSTAT20  ALAND20  AWATER20   INTPTLAT20  \\\n",
       "0   G5040  None   None     None          S    17913         0  +34.2673969   \n",
       "\n",
       "     INTPTLON20                                           geometry  \n",
       "0  -118.4797070  POLYGON ((-118.48022 34.26741, -118.48021 34.2...  "
      ]
     },
     "execution_count": 5,
     "metadata": {},
     "output_type": "execute_result"
    }
   ],
   "source": [
    "print(gdf_blk.shape)\n",
    "gdf_blk.head(1)"
   ]
  },
  {
   "cell_type": "markdown",
   "id": "42e4698e-0504-46cd-b974-4a02713739b5",
   "metadata": {
    "tags": []
   },
   "source": [
    "# Checking Consistency Between gdf_nc and df\n",
    "#### To Note:\n",
    "- df['councilID'] == gdf['objectiid']\n",
    "- df contains a 0 ID for No Council"
   ]
  },
  {
   "cell_type": "code",
   "execution_count": 6,
   "id": "0fd2eb72-2bc9-455b-8348-4516152ab108",
   "metadata": {},
   "outputs": [],
   "source": [
    "# gdf_nc"
   ]
  },
  {
   "cell_type": "code",
   "execution_count": 7,
   "id": "5f595ad3-364a-441f-a60f-49bbb522b747",
   "metadata": {},
   "outputs": [],
   "source": [
    "# gdf_nc.sort_values(by = 'objectid')"
   ]
  },
  {
   "cell_type": "code",
   "execution_count": 8,
   "id": "6e849f49-bc88-40c5-8015-0306029917e6",
   "metadata": {},
   "outputs": [],
   "source": [
    "# df[df['councilId'] == 27]"
   ]
  },
  {
   "cell_type": "code",
   "execution_count": 9,
   "id": "f6ba19f9-f968-45d7-8e1e-20a7275dd7dc",
   "metadata": {},
   "outputs": [],
   "source": [
    "# gdf_nc[gdf_nc['objectid'] == 27]"
   ]
  },
  {
   "cell_type": "markdown",
   "id": "1c63bec4-3c55-49fa-ba58-18821bf9a6b3",
   "metadata": {
    "tags": []
   },
   "source": [
    "# Nulls & Duplicates"
   ]
  },
  {
   "cell_type": "code",
   "execution_count": 10,
   "id": "675f0402-e3ec-4879-b028-ddfcd843411e",
   "metadata": {},
   "outputs": [
    {
     "data": {
      "text/plain": [
       "requestId      0\n",
       "createdDate    0\n",
       "closedDate     0\n",
       "typeId         0\n",
       "typeName       0\n",
       "address        0\n",
       "latitude       0\n",
       "longitude      0\n",
       "agencyId       0\n",
       "agencyName     0\n",
       "sourceId       0\n",
       "srnumber       0\n",
       "sourceName     0\n",
       "councilId      0\n",
       "councilName    0\n",
       "councilID      0\n",
       "dtype: int64"
      ]
     },
     "execution_count": 10,
     "metadata": {},
     "output_type": "execute_result"
    }
   ],
   "source": [
    "df.isnull().sum()"
   ]
  },
  {
   "cell_type": "code",
   "execution_count": 11,
   "id": "f6cdae85-5a33-4d1d-88ff-8b6ef39143ca",
   "metadata": {},
   "outputs": [
    {
     "data": {
      "text/html": [
       "<div>\n",
       "<style scoped>\n",
       "    .dataframe tbody tr th:only-of-type {\n",
       "        vertical-align: middle;\n",
       "    }\n",
       "\n",
       "    .dataframe tbody tr th {\n",
       "        vertical-align: top;\n",
       "    }\n",
       "\n",
       "    .dataframe thead th {\n",
       "        text-align: right;\n",
       "    }\n",
       "</style>\n",
       "<table border=\"1\" class=\"dataframe\">\n",
       "  <thead>\n",
       "    <tr style=\"text-align: right;\">\n",
       "      <th></th>\n",
       "      <th>requestId</th>\n",
       "      <th>createdDate</th>\n",
       "      <th>closedDate</th>\n",
       "      <th>typeId</th>\n",
       "      <th>typeName</th>\n",
       "      <th>address</th>\n",
       "      <th>latitude</th>\n",
       "      <th>longitude</th>\n",
       "      <th>agencyId</th>\n",
       "      <th>agencyName</th>\n",
       "      <th>sourceId</th>\n",
       "      <th>srnumber</th>\n",
       "      <th>sourceName</th>\n",
       "      <th>councilId</th>\n",
       "      <th>councilName</th>\n",
       "      <th>councilID</th>\n",
       "    </tr>\n",
       "  </thead>\n",
       "  <tbody>\n",
       "  </tbody>\n",
       "</table>\n",
       "</div>"
      ],
      "text/plain": [
       "Empty DataFrame\n",
       "Columns: [requestId, createdDate, closedDate, typeId, typeName, address, latitude, longitude, agencyId, agencyName, sourceId, srnumber, sourceName, councilId, councilName, councilID]\n",
       "Index: []"
      ]
     },
     "execution_count": 11,
     "metadata": {},
     "output_type": "execute_result"
    }
   ],
   "source": [
    "df[df['requestId'].duplicated() == True]"
   ]
  },
  {
   "cell_type": "markdown",
   "id": "f88b084c-0796-49eb-ac90-eac622666397",
   "metadata": {
    "tags": []
   },
   "source": [
    "# Spatial Join - Neighborhood Council and Blocks Geodata"
   ]
  },
  {
   "cell_type": "code",
   "execution_count": 12,
   "id": "85ea8e4b-a13c-4320-a3b9-0e61936b6e7b",
   "metadata": {},
   "outputs": [
    {
     "name": "stdout",
     "output_type": "stream",
     "text": [
      "(99, 3)\n"
     ]
    },
    {
     "data": {
      "text/html": [
       "<div>\n",
       "<style scoped>\n",
       "    .dataframe tbody tr th:only-of-type {\n",
       "        vertical-align: middle;\n",
       "    }\n",
       "\n",
       "    .dataframe tbody tr th {\n",
       "        vertical-align: top;\n",
       "    }\n",
       "\n",
       "    .dataframe thead th {\n",
       "        text-align: right;\n",
       "    }\n",
       "</style>\n",
       "<table border=\"1\" class=\"dataframe\">\n",
       "  <thead>\n",
       "    <tr style=\"text-align: right;\">\n",
       "      <th></th>\n",
       "      <th>name</th>\n",
       "      <th>objectid</th>\n",
       "      <th>geometry</th>\n",
       "    </tr>\n",
       "  </thead>\n",
       "  <tbody>\n",
       "    <tr>\n",
       "      <th>0</th>\n",
       "      <td>Arleta</td>\n",
       "      <td>1</td>\n",
       "      <td>POLYGON ((-118.45005 34.24992, -118.45055 34.2...</td>\n",
       "    </tr>\n",
       "    <tr>\n",
       "      <th>1</th>\n",
       "      <td>Arroyo Seco</td>\n",
       "      <td>2</td>\n",
       "      <td>POLYGON ((-118.22325 34.10393, -118.22367 34.1...</td>\n",
       "    </tr>\n",
       "    <tr>\n",
       "      <th>2</th>\n",
       "      <td>Atwater Village</td>\n",
       "      <td>3</td>\n",
       "      <td>POLYGON ((-118.27576 34.15376, -118.26184 34.1...</td>\n",
       "    </tr>\n",
       "    <tr>\n",
       "      <th>3</th>\n",
       "      <td>Bel Air-Beverly Crest</td>\n",
       "      <td>4</td>\n",
       "      <td>POLYGON ((-118.47485 34.12634, -118.47411 34.1...</td>\n",
       "    </tr>\n",
       "    <tr>\n",
       "      <th>4</th>\n",
       "      <td>Boyle Heights</td>\n",
       "      <td>5</td>\n",
       "      <td>POLYGON ((-118.21439 34.06063, -118.21303 34.0...</td>\n",
       "    </tr>\n",
       "  </tbody>\n",
       "</table>\n",
       "</div>"
      ],
      "text/plain": [
       "                    name  objectid  \\\n",
       "0                 Arleta         1   \n",
       "1            Arroyo Seco         2   \n",
       "2        Atwater Village         3   \n",
       "3  Bel Air-Beverly Crest         4   \n",
       "4          Boyle Heights         5   \n",
       "\n",
       "                                            geometry  \n",
       "0  POLYGON ((-118.45005 34.24992, -118.45055 34.2...  \n",
       "1  POLYGON ((-118.22325 34.10393, -118.22367 34.1...  \n",
       "2  POLYGON ((-118.27576 34.15376, -118.26184 34.1...  \n",
       "3  POLYGON ((-118.47485 34.12634, -118.47411 34.1...  \n",
       "4  POLYGON ((-118.21439 34.06063, -118.21303 34.0...  "
      ]
     },
     "execution_count": 12,
     "metadata": {},
     "output_type": "execute_result"
    }
   ],
   "source": [
    "# Neighborhood Council\n",
    "# get necessary columns; objectid = councilId\n",
    "gdf_nc = gdf_nc[['name', 'objectid', 'geometry']].sort_values(by = 'objectid').reset_index(drop = True)\n",
    "\n",
    "# format data\n",
    "gdf_nc['name'] = gdf_nc['name'].apply(lambda x: titlecase(x.strip(' NC')))\n",
    "gdf_nc['objectid'] = gdf_nc['objectid'].apply(lambda x: int(x))\n",
    "\n",
    "print(gdf_nc.shape)\n",
    "gdf_nc.head()"
   ]
  },
  {
   "cell_type": "code",
   "execution_count": 13,
   "id": "0335524c-487b-46a7-9628-200730f4404f",
   "metadata": {},
   "outputs": [
    {
     "name": "stdout",
     "output_type": "stream",
     "text": [
      "(91626, 5)\n"
     ]
    },
    {
     "data": {
      "text/html": [
       "<div>\n",
       "<style scoped>\n",
       "    .dataframe tbody tr th:only-of-type {\n",
       "        vertical-align: middle;\n",
       "    }\n",
       "\n",
       "    .dataframe tbody tr th {\n",
       "        vertical-align: top;\n",
       "    }\n",
       "\n",
       "    .dataframe thead th {\n",
       "        text-align: right;\n",
       "    }\n",
       "</style>\n",
       "<table border=\"1\" class=\"dataframe\">\n",
       "  <thead>\n",
       "    <tr style=\"text-align: right;\">\n",
       "      <th></th>\n",
       "      <th>GEOID20</th>\n",
       "      <th>geometry</th>\n",
       "      <th>NAME20</th>\n",
       "      <th>TRACTCE20</th>\n",
       "      <th>COUNTYFP20</th>\n",
       "    </tr>\n",
       "  </thead>\n",
       "  <tbody>\n",
       "    <tr>\n",
       "      <th>0</th>\n",
       "      <td>060371093002015</td>\n",
       "      <td>POLYGON ((-118.48022 34.26741, -118.48021 34.2...</td>\n",
       "      <td>Block 2015</td>\n",
       "      <td>109300</td>\n",
       "      <td>037</td>\n",
       "    </tr>\n",
       "  </tbody>\n",
       "</table>\n",
       "</div>"
      ],
      "text/plain": [
       "           GEOID20                                           geometry  \\\n",
       "0  060371093002015  POLYGON ((-118.48022 34.26741, -118.48021 34.2...   \n",
       "\n",
       "       NAME20 TRACTCE20 COUNTYFP20  \n",
       "0  Block 2015    109300        037  "
      ]
     },
     "execution_count": 13,
     "metadata": {},
     "output_type": "execute_result"
    }
   ],
   "source": [
    "# Blocks\n",
    "gdf_blk = gdf_blk[['GEOID20', 'geometry', 'NAME20', 'TRACTCE20', 'COUNTYFP20']]\n",
    "print(gdf_blk.shape)\n",
    "gdf_blk.head(1)"
   ]
  },
  {
   "cell_type": "code",
   "execution_count": 14,
   "id": "21fc893f-8816-41e3-aabe-4dbdae12e7b8",
   "metadata": {},
   "outputs": [
    {
     "data": {
      "text/plain": [
       "060371093002015    1\n",
       "060379203421001    1\n",
       "060379203261025    1\n",
       "060379203031015    1\n",
       "060379304002025    1\n",
       "Name: GEOID20, dtype: int64"
      ]
     },
     "execution_count": 14,
     "metadata": {},
     "output_type": "execute_result"
    }
   ],
   "source": [
    "# confirming unique ID is 'GEOID20'\n",
    "gdf_blk['GEOID20'].value_counts(ascending = False).head()"
   ]
  },
  {
   "cell_type": "code",
   "execution_count": 15,
   "id": "c3be3f18-42ba-41a6-8eb2-b4699c7cfa3f",
   "metadata": {},
   "outputs": [],
   "source": [
    "# spatial join of blocks and neighborhood councils\n",
    "gdf_blk_nc = gpd.sjoin(gdf_blk, gdf_nc, how = 'inner', op = 'within')\n",
    "gdf_blk_nc = gdf_blk_nc[['objectid', 'name', 'GEOID20', 'geometry']]\n",
    "gdf_blk_nc['objectid'] = gdf_blk_nc['objectid'].apply(lambda x: int(x))\n",
    "gdf_blk_nc.rename(columns = {'objectid': 'councilId'}, inplace = True)"
   ]
  },
  {
   "cell_type": "code",
   "execution_count": 16,
   "id": "ebc62ca2-a230-4271-bbd5-a76a98e5d7ac",
   "metadata": {},
   "outputs": [
    {
     "name": "stdout",
     "output_type": "stream",
     "text": [
      "(23836, 4)\n"
     ]
    },
    {
     "data": {
      "text/html": [
       "<div>\n",
       "<style scoped>\n",
       "    .dataframe tbody tr th:only-of-type {\n",
       "        vertical-align: middle;\n",
       "    }\n",
       "\n",
       "    .dataframe tbody tr th {\n",
       "        vertical-align: top;\n",
       "    }\n",
       "\n",
       "    .dataframe thead th {\n",
       "        text-align: right;\n",
       "    }\n",
       "</style>\n",
       "<table border=\"1\" class=\"dataframe\">\n",
       "  <thead>\n",
       "    <tr style=\"text-align: right;\">\n",
       "      <th></th>\n",
       "      <th>councilId</th>\n",
       "      <th>name</th>\n",
       "      <th>GEOID20</th>\n",
       "      <th>geometry</th>\n",
       "    </tr>\n",
       "  </thead>\n",
       "  <tbody>\n",
       "    <tr>\n",
       "      <th>0</th>\n",
       "      <td>27</td>\n",
       "      <td>Granada Hills North</td>\n",
       "      <td>060371093002015</td>\n",
       "      <td>POLYGON ((-118.48022 34.26741, -118.48021 34.2...</td>\n",
       "    </tr>\n",
       "  </tbody>\n",
       "</table>\n",
       "</div>"
      ],
      "text/plain": [
       "   councilId                 name          GEOID20  \\\n",
       "0         27  Granada Hills North  060371093002015   \n",
       "\n",
       "                                            geometry  \n",
       "0  POLYGON ((-118.48022 34.26741, -118.48021 34.2...  "
      ]
     },
     "execution_count": 16,
     "metadata": {},
     "output_type": "execute_result"
    }
   ],
   "source": [
    "print(gdf_blk_nc.shape)\n",
    "gdf_blk_nc.head(1)"
   ]
  },
  {
   "cell_type": "code",
   "execution_count": 17,
   "id": "bd33145c-5c76-43cc-ad40-bd0fa1fab089",
   "metadata": {},
   "outputs": [
    {
     "data": {
      "text/html": [
       "<div>\n",
       "<style scoped>\n",
       "    .dataframe tbody tr th:only-of-type {\n",
       "        vertical-align: middle;\n",
       "    }\n",
       "\n",
       "    .dataframe tbody tr th {\n",
       "        vertical-align: top;\n",
       "    }\n",
       "\n",
       "    .dataframe thead th {\n",
       "        text-align: right;\n",
       "    }\n",
       "</style>\n",
       "<table border=\"1\" class=\"dataframe\">\n",
       "  <thead>\n",
       "    <tr style=\"text-align: right;\">\n",
       "      <th></th>\n",
       "      <th>councilId</th>\n",
       "      <th>name</th>\n",
       "      <th>GEOID20</th>\n",
       "      <th>geometry</th>\n",
       "    </tr>\n",
       "  </thead>\n",
       "  <tbody>\n",
       "    <tr>\n",
       "      <th>52658</th>\n",
       "      <td>25</td>\n",
       "      <td>Foothill Trails District</td>\n",
       "      <td>060379800211009</td>\n",
       "      <td>POLYGON ((-118.38622 34.26155, -118.38611 34.2...</td>\n",
       "    </tr>\n",
       "    <tr>\n",
       "      <th>13230</th>\n",
       "      <td>56</td>\n",
       "      <td>Oho West</td>\n",
       "      <td>060371233041007</td>\n",
       "      <td>POLYGON ((-118.40375 34.20120, -118.40350 34.2...</td>\n",
       "    </tr>\n",
       "    <tr>\n",
       "      <th>53793</th>\n",
       "      <td>56</td>\n",
       "      <td>Oho West</td>\n",
       "      <td>060371233012003</td>\n",
       "      <td>POLYGON ((-118.40255 34.19736, -118.40245 34.1...</td>\n",
       "    </tr>\n",
       "    <tr>\n",
       "      <th>59584</th>\n",
       "      <td>56</td>\n",
       "      <td>Oho West</td>\n",
       "      <td>060371233043000</td>\n",
       "      <td>POLYGON ((-118.40256 34.19394, -118.40233 34.1...</td>\n",
       "    </tr>\n",
       "    <tr>\n",
       "      <th>78414</th>\n",
       "      <td>56</td>\n",
       "      <td>Oho West</td>\n",
       "      <td>060371233041008</td>\n",
       "      <td>POLYGON ((-118.40375 34.20120, -118.40365 34.2...</td>\n",
       "    </tr>\n",
       "    <tr>\n",
       "      <th>...</th>\n",
       "      <td>...</td>\n",
       "      <td>...</td>\n",
       "      <td>...</td>\n",
       "      <td>...</td>\n",
       "    </tr>\n",
       "    <tr>\n",
       "      <th>4886</th>\n",
       "      <td>43</td>\n",
       "      <td>La-32</td>\n",
       "      <td>060371993001012</td>\n",
       "      <td>POLYGON ((-118.19193 34.08761, -118.19119 34.0...</td>\n",
       "    </tr>\n",
       "    <tr>\n",
       "      <th>39649</th>\n",
       "      <td>43</td>\n",
       "      <td>La-32</td>\n",
       "      <td>060371993001007</td>\n",
       "      <td>POLYGON ((-118.19289 34.08842, -118.19227 34.0...</td>\n",
       "    </tr>\n",
       "    <tr>\n",
       "      <th>6051</th>\n",
       "      <td>16</td>\n",
       "      <td>East Hollywood</td>\n",
       "      <td>060371912011002</td>\n",
       "      <td>POLYGON ((-118.29479 34.10012, -118.29471 34.1...</td>\n",
       "    </tr>\n",
       "    <tr>\n",
       "      <th>82306</th>\n",
       "      <td>95</td>\n",
       "      <td>Wilmingto</td>\n",
       "      <td>060379800151002</td>\n",
       "      <td>POLYGON ((-118.29448 33.78556, -118.29436 33.7...</td>\n",
       "    </tr>\n",
       "    <tr>\n",
       "      <th>84710</th>\n",
       "      <td>95</td>\n",
       "      <td>Wilmingto</td>\n",
       "      <td>060379800151001</td>\n",
       "      <td>POLYGON ((-118.29543 33.78465, -118.29529 33.7...</td>\n",
       "    </tr>\n",
       "  </tbody>\n",
       "</table>\n",
       "<p>81 rows × 4 columns</p>\n",
       "</div>"
      ],
      "text/plain": [
       "       councilId                      name          GEOID20  \\\n",
       "52658         25  Foothill Trails District  060379800211009   \n",
       "13230         56                  Oho West  060371233041007   \n",
       "53793         56                  Oho West  060371233012003   \n",
       "59584         56                  Oho West  060371233043000   \n",
       "78414         56                  Oho West  060371233041008   \n",
       "...          ...                       ...              ...   \n",
       "4886          43                     La-32  060371993001012   \n",
       "39649         43                     La-32  060371993001007   \n",
       "6051          16            East Hollywood  060371912011002   \n",
       "82306         95                 Wilmingto  060379800151002   \n",
       "84710         95                 Wilmingto  060379800151001   \n",
       "\n",
       "                                                geometry  \n",
       "52658  POLYGON ((-118.38622 34.26155, -118.38611 34.2...  \n",
       "13230  POLYGON ((-118.40375 34.20120, -118.40350 34.2...  \n",
       "53793  POLYGON ((-118.40255 34.19736, -118.40245 34.1...  \n",
       "59584  POLYGON ((-118.40256 34.19394, -118.40233 34.1...  \n",
       "78414  POLYGON ((-118.40375 34.20120, -118.40365 34.2...  \n",
       "...                                                  ...  \n",
       "4886   POLYGON ((-118.19193 34.08761, -118.19119 34.0...  \n",
       "39649  POLYGON ((-118.19289 34.08842, -118.19227 34.0...  \n",
       "6051   POLYGON ((-118.29479 34.10012, -118.29471 34.1...  \n",
       "82306  POLYGON ((-118.29448 33.78556, -118.29436 33.7...  \n",
       "84710  POLYGON ((-118.29543 33.78465, -118.29529 33.7...  \n",
       "\n",
       "[81 rows x 4 columns]"
      ]
     },
     "execution_count": 17,
     "metadata": {},
     "output_type": "execute_result"
    }
   ],
   "source": [
    "# check for duplicates\n",
    "gdf_blk_nc[gdf_blk_nc['GEOID20'].duplicated() == True]"
   ]
  },
  {
   "cell_type": "code",
   "execution_count": 18,
   "id": "b4cae689-0616-4eda-9139-f846b0398306",
   "metadata": {},
   "outputs": [
    {
     "data": {
      "text/html": [
       "<div>\n",
       "<style scoped>\n",
       "    .dataframe tbody tr th:only-of-type {\n",
       "        vertical-align: middle;\n",
       "    }\n",
       "\n",
       "    .dataframe tbody tr th {\n",
       "        vertical-align: top;\n",
       "    }\n",
       "\n",
       "    .dataframe thead th {\n",
       "        text-align: right;\n",
       "    }\n",
       "</style>\n",
       "<table border=\"1\" class=\"dataframe\">\n",
       "  <thead>\n",
       "    <tr style=\"text-align: right;\">\n",
       "      <th></th>\n",
       "      <th>councilId</th>\n",
       "      <th>name</th>\n",
       "      <th>GEOID20</th>\n",
       "      <th>geometry</th>\n",
       "    </tr>\n",
       "  </thead>\n",
       "  <tbody>\n",
       "    <tr>\n",
       "      <th>52658</th>\n",
       "      <td>63</td>\n",
       "      <td>Pacoima</td>\n",
       "      <td>060379800211009</td>\n",
       "      <td>POLYGON ((-118.38622 34.26155, -118.38611 34.2...</td>\n",
       "    </tr>\n",
       "    <tr>\n",
       "      <th>52658</th>\n",
       "      <td>25</td>\n",
       "      <td>Foothill Trails District</td>\n",
       "      <td>060379800211009</td>\n",
       "      <td>POLYGON ((-118.38622 34.26155, -118.38611 34.2...</td>\n",
       "    </tr>\n",
       "  </tbody>\n",
       "</table>\n",
       "</div>"
      ],
      "text/plain": [
       "       councilId                      name          GEOID20  \\\n",
       "52658         63                   Pacoima  060379800211009   \n",
       "52658         25  Foothill Trails District  060379800211009   \n",
       "\n",
       "                                                geometry  \n",
       "52658  POLYGON ((-118.38622 34.26155, -118.38611 34.2...  \n",
       "52658  POLYGON ((-118.38622 34.26155, -118.38611 34.2...  "
      ]
     },
     "execution_count": 18,
     "metadata": {},
     "output_type": "execute_result"
    }
   ],
   "source": [
    "# deeper dive into duplicates - blocks are on borders of Neighborhood Councils\n",
    "gdf_blk_nc[gdf_blk_nc['GEOID20'] == '060379800211009']"
   ]
  },
  {
   "cell_type": "code",
   "execution_count": 19,
   "id": "106faa3b-e3e0-4226-8f89-9e51fad97e09",
   "metadata": {},
   "outputs": [],
   "source": [
    "# Save request data with block IDs csv and shp\n",
    "gdf_blk_nc.to_csv('data/clean_01Oct21_01Oct22_nc_blk.csv', index = False)\n",
    "gdf_blk_nc.to_file('data/clean_01Oct21_01Oct22_nc_blk.geojson', driver='GeoJSON')\n",
    "gdf_blk_nc.to_file('data/SHAPE-clean_01Oct21_01Oct22_nc_blk/clean_01Oct21_01Oct22_nc_blk.shp')"
   ]
  },
  {
   "cell_type": "markdown",
   "id": "b27a1bd9-7092-4cd4-96a9-380c6385deb4",
   "metadata": {
    "tags": []
   },
   "source": [
    "# Spatial Join - 311 Request Data (Address Points) with Block-Neighborhood Council Geodata"
   ]
  },
  {
   "cell_type": "code",
   "execution_count": 20,
   "id": "3745a4d9-999f-41ea-8843-97c7e6440573",
   "metadata": {},
   "outputs": [],
   "source": [
    "# https://towardsdatascience.com/geopandas-101-plot-any-data-with-a-latitude-and-longitude-on-a-map-98e01944b972"
   ]
  },
  {
   "cell_type": "code",
   "execution_count": 21,
   "id": "b293bb60-ed5e-4b36-b72d-8bb1f673fbfe",
   "metadata": {},
   "outputs": [
    {
     "name": "stdout",
     "output_type": "stream",
     "text": [
      "(1042202, 16)\n"
     ]
    },
    {
     "data": {
      "text/html": [
       "<div>\n",
       "<style scoped>\n",
       "    .dataframe tbody tr th:only-of-type {\n",
       "        vertical-align: middle;\n",
       "    }\n",
       "\n",
       "    .dataframe tbody tr th {\n",
       "        vertical-align: top;\n",
       "    }\n",
       "\n",
       "    .dataframe thead th {\n",
       "        text-align: right;\n",
       "    }\n",
       "</style>\n",
       "<table border=\"1\" class=\"dataframe\">\n",
       "  <thead>\n",
       "    <tr style=\"text-align: right;\">\n",
       "      <th></th>\n",
       "      <th>requestId</th>\n",
       "      <th>createdDate</th>\n",
       "      <th>closedDate</th>\n",
       "      <th>typeId</th>\n",
       "      <th>typeName</th>\n",
       "      <th>address</th>\n",
       "      <th>latitude</th>\n",
       "      <th>longitude</th>\n",
       "      <th>agencyId</th>\n",
       "      <th>agencyName</th>\n",
       "      <th>sourceId</th>\n",
       "      <th>srnumber</th>\n",
       "      <th>sourceName</th>\n",
       "      <th>councilId</th>\n",
       "      <th>councilName</th>\n",
       "      <th>councilID</th>\n",
       "    </tr>\n",
       "  </thead>\n",
       "  <tbody>\n",
       "    <tr>\n",
       "      <th>0</th>\n",
       "      <td>8610592</td>\n",
       "      <td>2021-10-01 00:01:14</td>\n",
       "      <td>2021-10-08 09:24:53</td>\n",
       "      <td>4</td>\n",
       "      <td>Bulky Items</td>\n",
       "      <td>11614 N HERRICK AVE, 91340</td>\n",
       "      <td>34.281312</td>\n",
       "      <td>-118.425453</td>\n",
       "      <td>3</td>\n",
       "      <td>Sanitation Bureau</td>\n",
       "      <td>8</td>\n",
       "      <td>1-2079512481</td>\n",
       "      <td>Phone Call</td>\n",
       "      <td>64</td>\n",
       "      <td>Pacoima</td>\n",
       "      <td>64</td>\n",
       "    </tr>\n",
       "  </tbody>\n",
       "</table>\n",
       "</div>"
      ],
      "text/plain": [
       "   requestId          createdDate           closedDate  typeId     typeName  \\\n",
       "0    8610592  2021-10-01 00:01:14  2021-10-08 09:24:53       4  Bulky Items   \n",
       "\n",
       "                      address   latitude   longitude  agencyId  \\\n",
       "0  11614 N HERRICK AVE, 91340  34.281312 -118.425453         3   \n",
       "\n",
       "          agencyName  sourceId      srnumber  sourceName  councilId  \\\n",
       "0  Sanitation Bureau         8  1-2079512481  Phone Call         64   \n",
       "\n",
       "  councilName  councilID  \n",
       "0     Pacoima         64  "
      ]
     },
     "execution_count": 21,
     "metadata": {},
     "output_type": "execute_result"
    }
   ],
   "source": [
    "print(df.shape)\n",
    "df.head(1)"
   ]
  },
  {
   "cell_type": "code",
   "execution_count": 22,
   "id": "8b3eb215-d2e9-4920-862b-08e096938c39",
   "metadata": {},
   "outputs": [
    {
     "data": {
      "text/plain": [
       "[<shapely.geometry.point.Point at 0x14a36bca0>,\n",
       " <shapely.geometry.point.Point at 0x14a35d850>,\n",
       " <shapely.geometry.point.Point at 0x14a35da90>]"
      ]
     },
     "execution_count": 22,
     "metadata": {},
     "output_type": "execute_result"
    }
   ],
   "source": [
    "# get points from longitude, latitude in df\n",
    "geometry = [Point(xy) for xy in zip(df['longitude'], df['latitude'])]\n",
    "geometry[:3]"
   ]
  },
  {
   "cell_type": "code",
   "execution_count": 23,
   "id": "ca3157c4-0436-4ed7-a64f-3565ef151e78",
   "metadata": {},
   "outputs": [],
   "source": [
    "# assign crs value and create GeoDataframe from 311 Requests df with Points geometry variable\n",
    "crs = {'init': 'epsg:4326'}\n",
    "df_geo = gpd.GeoDataFrame(df, crs = crs, geometry = geometry)"
   ]
  },
  {
   "cell_type": "code",
   "execution_count": 24,
   "id": "3020e469-4396-4484-8147-1f747a0081bb",
   "metadata": {},
   "outputs": [
    {
     "data": {
      "text/plain": [
       "(1042202, 17)"
      ]
     },
     "execution_count": 24,
     "metadata": {},
     "output_type": "execute_result"
    }
   ],
   "source": [
    "df_geo.shape"
   ]
  },
  {
   "cell_type": "code",
   "execution_count": 25,
   "id": "918d4251-bd18-4c13-9552-0f53ab0733e1",
   "metadata": {},
   "outputs": [
    {
     "data": {
      "text/plain": [
       "(1042202, 17)"
      ]
     },
     "execution_count": 25,
     "metadata": {},
     "output_type": "execute_result"
    }
   ],
   "source": [
    "# Check for duplicates (duplicates exist in original dataframe)\n",
    "df_geo.drop_duplicates(subset = ['requestId']).shape"
   ]
  },
  {
   "cell_type": "code",
   "execution_count": 26,
   "id": "3aa99dcd-36f3-4284-a6f8-6a011df68669",
   "metadata": {},
   "outputs": [],
   "source": [
    "# spatial join of addresses and blocks (and nc)\n",
    "df_blk_nc = gpd.sjoin(df_geo, gdf_blk_nc, how=\"left\", op='within')\n",
    "df_blk_nc = df_blk_nc[['requestId', 'createdDate', 'closedDate', 'typeId', 'typeName',\n",
    "       'address', 'councilId_left', 'councilName', 'geometry','GEOID20']]\n",
    "df_blk_nc.rename(columns = {'councilId_left': 'councilId'}, inplace = True)\n",
    "df_blk_nc.reset_index(drop = True, inplace = True)"
   ]
  },
  {
   "cell_type": "code",
   "execution_count": 27,
   "id": "2ae5c3b6-beed-497d-9b7b-b117a83a31c5",
   "metadata": {},
   "outputs": [
    {
     "name": "stdout",
     "output_type": "stream",
     "text": [
      "df_blk_nc shape: (1042400, 10)\n",
      "df shape: (1042202, 17)\n"
     ]
    },
    {
     "data": {
      "text/html": [
       "<div>\n",
       "<style scoped>\n",
       "    .dataframe tbody tr th:only-of-type {\n",
       "        vertical-align: middle;\n",
       "    }\n",
       "\n",
       "    .dataframe tbody tr th {\n",
       "        vertical-align: top;\n",
       "    }\n",
       "\n",
       "    .dataframe thead th {\n",
       "        text-align: right;\n",
       "    }\n",
       "</style>\n",
       "<table border=\"1\" class=\"dataframe\">\n",
       "  <thead>\n",
       "    <tr style=\"text-align: right;\">\n",
       "      <th></th>\n",
       "      <th>requestId</th>\n",
       "      <th>createdDate</th>\n",
       "      <th>closedDate</th>\n",
       "      <th>typeId</th>\n",
       "      <th>typeName</th>\n",
       "      <th>address</th>\n",
       "      <th>councilId</th>\n",
       "      <th>councilName</th>\n",
       "      <th>geometry</th>\n",
       "      <th>GEOID20</th>\n",
       "    </tr>\n",
       "  </thead>\n",
       "  <tbody>\n",
       "    <tr>\n",
       "      <th>0</th>\n",
       "      <td>8610592</td>\n",
       "      <td>2021-10-01 00:01:14</td>\n",
       "      <td>2021-10-08 09:24:53</td>\n",
       "      <td>4</td>\n",
       "      <td>Bulky Items</td>\n",
       "      <td>11614 N HERRICK AVE, 91340</td>\n",
       "      <td>64</td>\n",
       "      <td>Pacoima</td>\n",
       "      <td>POINT (-118.42545 34.28131)</td>\n",
       "      <td>060371043101005</td>\n",
       "    </tr>\n",
       "    <tr>\n",
       "      <th>1</th>\n",
       "      <td>8610569</td>\n",
       "      <td>2021-10-01 00:02:19</td>\n",
       "      <td>2021-10-08 13:36:33</td>\n",
       "      <td>5</td>\n",
       "      <td>Electronic Waste</td>\n",
       "      <td>11614 N HERRICK AVE, 91340</td>\n",
       "      <td>64</td>\n",
       "      <td>Pacoima</td>\n",
       "      <td>POINT (-118.42545 34.28131)</td>\n",
       "      <td>060371043101005</td>\n",
       "    </tr>\n",
       "    <tr>\n",
       "      <th>2</th>\n",
       "      <td>8610575</td>\n",
       "      <td>2021-10-01 00:03:11</td>\n",
       "      <td>2021-10-13 12:31:58</td>\n",
       "      <td>4</td>\n",
       "      <td>Bulky Items</td>\n",
       "      <td>4539 N VISTA DEL MONTE AVE, 91403</td>\n",
       "      <td>72</td>\n",
       "      <td>Sherman Oaks</td>\n",
       "      <td>POINT (-118.45002 34.15416)</td>\n",
       "      <td>060371413042005</td>\n",
       "    </tr>\n",
       "    <tr>\n",
       "      <th>3</th>\n",
       "      <td>8612855</td>\n",
       "      <td>2021-10-01 00:04:14</td>\n",
       "      <td>2021-10-05 14:25:02</td>\n",
       "      <td>6</td>\n",
       "      <td>Illegal Dumping</td>\n",
       "      <td>918 W COLLEGE ST, 90012</td>\n",
       "      <td>38</td>\n",
       "      <td>Historic Cultural North</td>\n",
       "      <td>POINT (-118.24511 34.06647)</td>\n",
       "      <td>060371977002002</td>\n",
       "    </tr>\n",
       "    <tr>\n",
       "      <th>4</th>\n",
       "      <td>8610587</td>\n",
       "      <td>2021-10-01 00:05:25</td>\n",
       "      <td>2021-10-08 14:16:32</td>\n",
       "      <td>7</td>\n",
       "      <td>Metal/Appliances</td>\n",
       "      <td>11614 N HERRICK AVE, 91340</td>\n",
       "      <td>64</td>\n",
       "      <td>Pacoima</td>\n",
       "      <td>POINT (-118.42545 34.28131)</td>\n",
       "      <td>060371043101005</td>\n",
       "    </tr>\n",
       "  </tbody>\n",
       "</table>\n",
       "</div>"
      ],
      "text/plain": [
       "   requestId          createdDate           closedDate  typeId  \\\n",
       "0    8610592  2021-10-01 00:01:14  2021-10-08 09:24:53       4   \n",
       "1    8610569  2021-10-01 00:02:19  2021-10-08 13:36:33       5   \n",
       "2    8610575  2021-10-01 00:03:11  2021-10-13 12:31:58       4   \n",
       "3    8612855  2021-10-01 00:04:14  2021-10-05 14:25:02       6   \n",
       "4    8610587  2021-10-01 00:05:25  2021-10-08 14:16:32       7   \n",
       "\n",
       "           typeName                            address  councilId  \\\n",
       "0       Bulky Items         11614 N HERRICK AVE, 91340         64   \n",
       "1  Electronic Waste         11614 N HERRICK AVE, 91340         64   \n",
       "2       Bulky Items  4539 N VISTA DEL MONTE AVE, 91403         72   \n",
       "3   Illegal Dumping            918 W COLLEGE ST, 90012         38   \n",
       "4  Metal/Appliances         11614 N HERRICK AVE, 91340         64   \n",
       "\n",
       "               councilName                     geometry          GEOID20  \n",
       "0                  Pacoima  POINT (-118.42545 34.28131)  060371043101005  \n",
       "1                  Pacoima  POINT (-118.42545 34.28131)  060371043101005  \n",
       "2             Sherman Oaks  POINT (-118.45002 34.15416)  060371413042005  \n",
       "3  Historic Cultural North  POINT (-118.24511 34.06647)  060371977002002  \n",
       "4                  Pacoima  POINT (-118.42545 34.28131)  060371043101005  "
      ]
     },
     "execution_count": 27,
     "metadata": {},
     "output_type": "execute_result"
    }
   ],
   "source": [
    "print(f'df_blk_nc shape: {df_blk_nc.shape}')\n",
    "print(f'df shape: {df.shape}')\n",
    "df_blk_nc.head()"
   ]
  },
  {
   "cell_type": "markdown",
   "id": "3ae5b8eb-246b-4b35-a792-2d656b026aef",
   "metadata": {},
   "source": [
    "## Duplicates"
   ]
  },
  {
   "cell_type": "code",
   "execution_count": 28,
   "id": "798b2d23-1b08-42be-b3a3-e6de482ef284",
   "metadata": {},
   "outputs": [
    {
     "data": {
      "text/html": [
       "<div>\n",
       "<style scoped>\n",
       "    .dataframe tbody tr th:only-of-type {\n",
       "        vertical-align: middle;\n",
       "    }\n",
       "\n",
       "    .dataframe tbody tr th {\n",
       "        vertical-align: top;\n",
       "    }\n",
       "\n",
       "    .dataframe thead th {\n",
       "        text-align: right;\n",
       "    }\n",
       "</style>\n",
       "<table border=\"1\" class=\"dataframe\">\n",
       "  <thead>\n",
       "    <tr style=\"text-align: right;\">\n",
       "      <th></th>\n",
       "      <th>requestId</th>\n",
       "      <th>createdDate</th>\n",
       "      <th>closedDate</th>\n",
       "      <th>typeId</th>\n",
       "      <th>typeName</th>\n",
       "      <th>address</th>\n",
       "      <th>councilId</th>\n",
       "      <th>councilName</th>\n",
       "      <th>geometry</th>\n",
       "      <th>GEOID20</th>\n",
       "    </tr>\n",
       "  </thead>\n",
       "  <tbody>\n",
       "    <tr>\n",
       "      <th>30506</th>\n",
       "      <td>8677227</td>\n",
       "      <td>2021-10-08 16:42:13</td>\n",
       "      <td>2021-10-10 23:50:21</td>\n",
       "      <td>1</td>\n",
       "      <td>Graffiti</td>\n",
       "      <td>5941 N WOODLEY AVE, 91436</td>\n",
       "      <td>24</td>\n",
       "      <td>Encino</td>\n",
       "      <td>POINT (-118.48160 34.17900)</td>\n",
       "      <td>060379800241006</td>\n",
       "    </tr>\n",
       "    <tr>\n",
       "      <th>49023</th>\n",
       "      <td>8713144</td>\n",
       "      <td>2021-10-13 18:58:10</td>\n",
       "      <td>2021-10-13 19:00:29</td>\n",
       "      <td>1</td>\n",
       "      <td>Graffiti</td>\n",
       "      <td>6300 N WOODLEY AVE, 91406</td>\n",
       "      <td>24</td>\n",
       "      <td>Encino</td>\n",
       "      <td>POINT (-118.48357 34.18496)</td>\n",
       "      <td>060379800241007</td>\n",
       "    </tr>\n",
       "    <tr>\n",
       "      <th>54052</th>\n",
       "      <td>8726941</td>\n",
       "      <td>2021-10-15 11:06:11</td>\n",
       "      <td>2022-03-16 11:32:25</td>\n",
       "      <td>2</td>\n",
       "      <td>Homeless Encampment</td>\n",
       "      <td>6300 N BALBOA BLVD, 91406</td>\n",
       "      <td>24</td>\n",
       "      <td>Encino</td>\n",
       "      <td>POINT (-118.50100 34.18439)</td>\n",
       "      <td>060379800241003</td>\n",
       "    </tr>\n",
       "    <tr>\n",
       "      <th>56506</th>\n",
       "      <td>8733988</td>\n",
       "      <td>2021-10-16 14:33:08</td>\n",
       "      <td>2021-10-17 12:36:24</td>\n",
       "      <td>3</td>\n",
       "      <td>Animal Remains</td>\n",
       "      <td>5436 W ZOO DR, 90027</td>\n",
       "      <td>3</td>\n",
       "      <td>Atwater Village</td>\n",
       "      <td>POINT (-118.30602 34.15556)</td>\n",
       "      <td>060379800091014</td>\n",
       "    </tr>\n",
       "    <tr>\n",
       "      <th>56507</th>\n",
       "      <td>8733988</td>\n",
       "      <td>2021-10-16 14:33:08</td>\n",
       "      <td>2021-10-17 12:36:24</td>\n",
       "      <td>3</td>\n",
       "      <td>Animal Remains</td>\n",
       "      <td>5436 W ZOO DR, 90027</td>\n",
       "      <td>3</td>\n",
       "      <td>Atwater Village</td>\n",
       "      <td>POINT (-118.30602 34.15556)</td>\n",
       "      <td>060379800091014</td>\n",
       "    </tr>\n",
       "    <tr>\n",
       "      <th>...</th>\n",
       "      <td>...</td>\n",
       "      <td>...</td>\n",
       "      <td>...</td>\n",
       "      <td>...</td>\n",
       "      <td>...</td>\n",
       "      <td>...</td>\n",
       "      <td>...</td>\n",
       "      <td>...</td>\n",
       "      <td>...</td>\n",
       "      <td>...</td>\n",
       "    </tr>\n",
       "    <tr>\n",
       "      <th>1019715</th>\n",
       "      <td>10671139</td>\n",
       "      <td>2022-09-22 11:42:44</td>\n",
       "      <td>2022-09-29 23:23:30</td>\n",
       "      <td>2</td>\n",
       "      <td>Homeless Encampment</td>\n",
       "      <td>6331 N WOODLEY AVE, 91406</td>\n",
       "      <td>24</td>\n",
       "      <td>Encino</td>\n",
       "      <td>POINT (-118.48409 34.18432)</td>\n",
       "      <td>060379800241006</td>\n",
       "    </tr>\n",
       "    <tr>\n",
       "      <th>1020081</th>\n",
       "      <td>10672112</td>\n",
       "      <td>2022-09-22 13:07:56</td>\n",
       "      <td>2022-09-29 15:37:57</td>\n",
       "      <td>6</td>\n",
       "      <td>Illegal Dumping</td>\n",
       "      <td>WOODLEY AVE AT BURBANK BLVD, 91436</td>\n",
       "      <td>24</td>\n",
       "      <td>Encino</td>\n",
       "      <td>POINT (-118.47560 34.17152)</td>\n",
       "      <td>060379800241017</td>\n",
       "    </tr>\n",
       "    <tr>\n",
       "      <th>1021459</th>\n",
       "      <td>10675618</td>\n",
       "      <td>2022-09-22 18:10:32</td>\n",
       "      <td>2022-09-23 09:08:33</td>\n",
       "      <td>1</td>\n",
       "      <td>Graffiti</td>\n",
       "      <td>6034 N BALBOA BLVD, 91406</td>\n",
       "      <td>24</td>\n",
       "      <td>Encino</td>\n",
       "      <td>POINT (-118.50100 34.18022)</td>\n",
       "      <td>060379800241003</td>\n",
       "    </tr>\n",
       "    <tr>\n",
       "      <th>1023889</th>\n",
       "      <td>10684517</td>\n",
       "      <td>2022-09-23 15:47:06</td>\n",
       "      <td>2022-09-29 23:22:19</td>\n",
       "      <td>4</td>\n",
       "      <td>Bulky Items</td>\n",
       "      <td>WOODLEY AVE AT BURBANK BLVD, 91436</td>\n",
       "      <td>24</td>\n",
       "      <td>Encino</td>\n",
       "      <td>POINT (-118.47560 34.17152)</td>\n",
       "      <td>060379800241017</td>\n",
       "    </tr>\n",
       "    <tr>\n",
       "      <th>1027245</th>\n",
       "      <td>10691629</td>\n",
       "      <td>2022-09-25 20:11:22</td>\n",
       "      <td>2022-09-25 20:19:54</td>\n",
       "      <td>1</td>\n",
       "      <td>Graffiti</td>\n",
       "      <td>6300 N WOODLEY AVE, 91406</td>\n",
       "      <td>24</td>\n",
       "      <td>Encino</td>\n",
       "      <td>POINT (-118.48357 34.18496)</td>\n",
       "      <td>060379800241007</td>\n",
       "    </tr>\n",
       "  </tbody>\n",
       "</table>\n",
       "<p>198 rows × 10 columns</p>\n",
       "</div>"
      ],
      "text/plain": [
       "         requestId          createdDate           closedDate  typeId  \\\n",
       "30506      8677227  2021-10-08 16:42:13  2021-10-10 23:50:21       1   \n",
       "49023      8713144  2021-10-13 18:58:10  2021-10-13 19:00:29       1   \n",
       "54052      8726941  2021-10-15 11:06:11  2022-03-16 11:32:25       2   \n",
       "56506      8733988  2021-10-16 14:33:08  2021-10-17 12:36:24       3   \n",
       "56507      8733988  2021-10-16 14:33:08  2021-10-17 12:36:24       3   \n",
       "...            ...                  ...                  ...     ...   \n",
       "1019715   10671139  2022-09-22 11:42:44  2022-09-29 23:23:30       2   \n",
       "1020081   10672112  2022-09-22 13:07:56  2022-09-29 15:37:57       6   \n",
       "1021459   10675618  2022-09-22 18:10:32  2022-09-23 09:08:33       1   \n",
       "1023889   10684517  2022-09-23 15:47:06  2022-09-29 23:22:19       4   \n",
       "1027245   10691629  2022-09-25 20:11:22  2022-09-25 20:19:54       1   \n",
       "\n",
       "                    typeName                             address  councilId  \\\n",
       "30506               Graffiti           5941 N WOODLEY AVE, 91436         24   \n",
       "49023               Graffiti           6300 N WOODLEY AVE, 91406         24   \n",
       "54052    Homeless Encampment           6300 N BALBOA BLVD, 91406         24   \n",
       "56506         Animal Remains                5436 W ZOO DR, 90027          3   \n",
       "56507         Animal Remains                5436 W ZOO DR, 90027          3   \n",
       "...                      ...                                 ...        ...   \n",
       "1019715  Homeless Encampment           6331 N WOODLEY AVE, 91406         24   \n",
       "1020081      Illegal Dumping  WOODLEY AVE AT BURBANK BLVD, 91436         24   \n",
       "1021459             Graffiti           6034 N BALBOA BLVD, 91406         24   \n",
       "1023889          Bulky Items  WOODLEY AVE AT BURBANK BLVD, 91436         24   \n",
       "1027245             Graffiti           6300 N WOODLEY AVE, 91406         24   \n",
       "\n",
       "             councilName                     geometry          GEOID20  \n",
       "30506             Encino  POINT (-118.48160 34.17900)  060379800241006  \n",
       "49023             Encino  POINT (-118.48357 34.18496)  060379800241007  \n",
       "54052             Encino  POINT (-118.50100 34.18439)  060379800241003  \n",
       "56506    Atwater Village  POINT (-118.30602 34.15556)  060379800091014  \n",
       "56507    Atwater Village  POINT (-118.30602 34.15556)  060379800091014  \n",
       "...                  ...                          ...              ...  \n",
       "1019715           Encino  POINT (-118.48409 34.18432)  060379800241006  \n",
       "1020081           Encino  POINT (-118.47560 34.17152)  060379800241017  \n",
       "1021459           Encino  POINT (-118.50100 34.18022)  060379800241003  \n",
       "1023889           Encino  POINT (-118.47560 34.17152)  060379800241017  \n",
       "1027245           Encino  POINT (-118.48357 34.18496)  060379800241007  \n",
       "\n",
       "[198 rows x 10 columns]"
      ]
     },
     "execution_count": 28,
     "metadata": {},
     "output_type": "execute_result"
    }
   ],
   "source": [
    "df_blk_nc[df_blk_nc['requestId'].duplicated() == True]"
   ]
  },
  {
   "cell_type": "code",
   "execution_count": 29,
   "id": "29498679-c8d2-4395-8bd3-29c9712f6384",
   "metadata": {},
   "outputs": [
    {
     "data": {
      "text/html": [
       "<div>\n",
       "<style scoped>\n",
       "    .dataframe tbody tr th:only-of-type {\n",
       "        vertical-align: middle;\n",
       "    }\n",
       "\n",
       "    .dataframe tbody tr th {\n",
       "        vertical-align: top;\n",
       "    }\n",
       "\n",
       "    .dataframe thead th {\n",
       "        text-align: right;\n",
       "    }\n",
       "</style>\n",
       "<table border=\"1\" class=\"dataframe\">\n",
       "  <thead>\n",
       "    <tr style=\"text-align: right;\">\n",
       "      <th></th>\n",
       "      <th>requestId</th>\n",
       "      <th>createdDate</th>\n",
       "      <th>closedDate</th>\n",
       "      <th>typeId</th>\n",
       "      <th>typeName</th>\n",
       "      <th>address</th>\n",
       "      <th>councilId</th>\n",
       "      <th>councilName</th>\n",
       "      <th>geometry</th>\n",
       "      <th>GEOID20</th>\n",
       "    </tr>\n",
       "  </thead>\n",
       "  <tbody>\n",
       "    <tr>\n",
       "      <th>30505</th>\n",
       "      <td>8677227</td>\n",
       "      <td>2021-10-08 16:42:13</td>\n",
       "      <td>2021-10-10 23:50:21</td>\n",
       "      <td>1</td>\n",
       "      <td>Graffiti</td>\n",
       "      <td>5941 N WOODLEY AVE, 91436</td>\n",
       "      <td>24</td>\n",
       "      <td>Encino</td>\n",
       "      <td>POINT (-118.48160 34.17900)</td>\n",
       "      <td>060379800241006</td>\n",
       "    </tr>\n",
       "    <tr>\n",
       "      <th>30506</th>\n",
       "      <td>8677227</td>\n",
       "      <td>2021-10-08 16:42:13</td>\n",
       "      <td>2021-10-10 23:50:21</td>\n",
       "      <td>1</td>\n",
       "      <td>Graffiti</td>\n",
       "      <td>5941 N WOODLEY AVE, 91436</td>\n",
       "      <td>24</td>\n",
       "      <td>Encino</td>\n",
       "      <td>POINT (-118.48160 34.17900)</td>\n",
       "      <td>060379800241006</td>\n",
       "    </tr>\n",
       "  </tbody>\n",
       "</table>\n",
       "</div>"
      ],
      "text/plain": [
       "       requestId          createdDate           closedDate  typeId  typeName  \\\n",
       "30505    8677227  2021-10-08 16:42:13  2021-10-10 23:50:21       1  Graffiti   \n",
       "30506    8677227  2021-10-08 16:42:13  2021-10-10 23:50:21       1  Graffiti   \n",
       "\n",
       "                         address  councilId councilName  \\\n",
       "30505  5941 N WOODLEY AVE, 91436         24      Encino   \n",
       "30506  5941 N WOODLEY AVE, 91436         24      Encino   \n",
       "\n",
       "                          geometry          GEOID20  \n",
       "30505  POINT (-118.48160 34.17900)  060379800241006  \n",
       "30506  POINT (-118.48160 34.17900)  060379800241006  "
      ]
     },
     "execution_count": 29,
     "metadata": {},
     "output_type": "execute_result"
    }
   ],
   "source": [
    "df_blk_nc[df_blk_nc['requestId']== 8677227]"
   ]
  },
  {
   "cell_type": "code",
   "execution_count": 30,
   "id": "143876b6-b5a5-4b6b-848c-8f6d055570d6",
   "metadata": {},
   "outputs": [
    {
     "name": "stdout",
     "output_type": "stream",
     "text": [
      "(1042202, 10)\n"
     ]
    }
   ],
   "source": [
    "df_blk_nc.drop_duplicates(subset = ['requestId'], inplace = True)\n",
    "print(df_blk_nc.shape)"
   ]
  },
  {
   "cell_type": "markdown",
   "id": "17600678-5867-4f86-9b9e-f7292dde328a",
   "metadata": {},
   "source": [
    "## Nulls"
   ]
  },
  {
   "cell_type": "code",
   "execution_count": 31,
   "id": "0d2333bf-8ad8-4591-9de2-4a4ba883ce8e",
   "metadata": {},
   "outputs": [
    {
     "data": {
      "text/plain": [
       "requestId           0\n",
       "createdDate         0\n",
       "closedDate          0\n",
       "typeId              0\n",
       "typeName            0\n",
       "address             0\n",
       "councilId           0\n",
       "councilName         0\n",
       "geometry            0\n",
       "GEOID20        160710\n",
       "dtype: int64"
      ]
     },
     "execution_count": 31,
     "metadata": {},
     "output_type": "execute_result"
    }
   ],
   "source": [
    "df_blk_nc.isnull().sum()"
   ]
  },
  {
   "cell_type": "code",
   "execution_count": 32,
   "id": "f323f150-23b3-4133-91ef-589383605fa4",
   "metadata": {},
   "outputs": [
    {
     "data": {
      "text/plain": [
       "0.15420235232709206"
      ]
     },
     "execution_count": 32,
     "metadata": {},
     "output_type": "execute_result"
    }
   ],
   "source": [
    "# Check for null less than 30%\n",
    "df_blk_nc.isnull().sum().sum() / len(df_blk_nc)"
   ]
  },
  {
   "cell_type": "code",
   "execution_count": 33,
   "id": "68da1b7e-6868-4838-8029-17843545fba1",
   "metadata": {},
   "outputs": [],
   "source": [
    "# drop nulls if less than 30%\n",
    "df_blk_nc.dropna(inplace = True)"
   ]
  },
  {
   "cell_type": "code",
   "execution_count": 37,
   "id": "9f83721c-5c74-4ecf-9b7f-b1fe5728ec89",
   "metadata": {},
   "outputs": [
    {
     "data": {
      "text/plain": [
       "requestId      0\n",
       "createdDate    0\n",
       "closedDate     0\n",
       "typeId         0\n",
       "typeName       0\n",
       "address        0\n",
       "councilId      0\n",
       "councilName    0\n",
       "geometry       0\n",
       "GEOID20        0\n",
       "dtype: int64"
      ]
     },
     "execution_count": 37,
     "metadata": {},
     "output_type": "execute_result"
    }
   ],
   "source": [
    "df_blk_nc.isnull().sum()"
   ]
  },
  {
   "cell_type": "markdown",
   "id": "0cda64e0-7bf7-4930-9fba-7435409b48f4",
   "metadata": {},
   "source": [
    "## Save cleaned request set with block geodata"
   ]
  },
  {
   "cell_type": "code",
   "execution_count": 34,
   "id": "9c166f59-0a9c-4ecc-98cb-994836654941",
   "metadata": {},
   "outputs": [
    {
     "data": {
      "text/plain": [
       "8610592     1\n",
       "10017300    1\n",
       "10017304    1\n",
       "10017307    1\n",
       "10017329    1\n",
       "           ..\n",
       "9312932     1\n",
       "9312913     1\n",
       "9313502     1\n",
       "9312987     1\n",
       "10747580    1\n",
       "Name: requestId, Length: 881492, dtype: int64"
      ]
     },
     "execution_count": 34,
     "metadata": {},
     "output_type": "execute_result"
    }
   ],
   "source": [
    "df_blk_nc['requestId'].value_counts(ascending = False)"
   ]
  },
  {
   "cell_type": "code",
   "execution_count": 36,
   "id": "d293bca3-a2fb-4326-910b-c5146586e3a5",
   "metadata": {},
   "outputs": [],
   "source": [
    "# Save request data with block IDs csv and shp\n",
    "df_blk_nc.to_csv('data/clean_01Oct21_01Oct22_nc_blk_req.csv', index = False)\n",
    "gdf_blk_nc.to_file('data/clean_01Oct21_01Oct22_nc_blk_req.geojson', driver='GeoJSON')\n",
    "df_blk_nc.to_file('data/SHAPE-clean_01Oct21_01Oct22_nc_blk_req/clean_01Oct21_01Oct22_nc_blk_req.shp') "
   ]
  },
  {
   "cell_type": "code",
   "execution_count": null,
   "id": "a285ef27-2f69-4c4b-ae22-cade0f6ef5fd",
   "metadata": {},
   "outputs": [],
   "source": []
  }
 ],
 "metadata": {
  "kernelspec": {
   "display_name": "Python [conda env:root] *",
   "language": "python",
   "name": "conda-root-py"
  },
  "language_info": {
   "codemirror_mode": {
    "name": "ipython",
    "version": 3
   },
   "file_extension": ".py",
   "mimetype": "text/x-python",
   "name": "python",
   "nbconvert_exporter": "python",
   "pygments_lexer": "ipython3",
   "version": "3.9.13"
  },
  "vscode": {
   "interpreter": {
    "hash": "cc4a74134c548e3ca501d5ceaad85f423bf7ea23af0081d49e66d9434ab0cecb"
   }
  }
 },
 "nbformat": 4,
 "nbformat_minor": 5
}
