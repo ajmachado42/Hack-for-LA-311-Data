{
 "cells": [
  {
   "cell_type": "code",
   "execution_count": 59,
   "id": "e79a3134-deaf-446d-8e92-d4dc2414213b",
   "metadata": {},
   "outputs": [],
   "source": [
    "import pandas as pd\n",
    "import numpy as np\n",
    "import matplotlib.pyplot as plt\n",
    "import seaborn as sns\n",
    "from datetime import datetime\n",
    "\n",
    "# https://stackoverflow.com/questions/13440102/getting-bounding-box-of-city\n",
    "import geopandas\n",
    "from geopandas import GeoDataFrame, GeoSeries\n",
    "from pyproj import CRS\n",
    "from matplotlib.colors import Normalize\n",
    "import matplotlib.cm as cm\n",
    "from shapely.geometry import Point, Polygon\n",
    "import googlemaps\n",
    "\n",
    "%matplotlib inline"
   ]
  },
  {
   "cell_type": "code",
   "execution_count": 60,
   "id": "225f2b49-e2ef-489e-8395-02e3202d5822",
   "metadata": {},
   "outputs": [
    {
     "data": {
      "text/html": [
       "<div>\n",
       "<style scoped>\n",
       "    .dataframe tbody tr th:only-of-type {\n",
       "        vertical-align: middle;\n",
       "    }\n",
       "\n",
       "    .dataframe tbody tr th {\n",
       "        vertical-align: top;\n",
       "    }\n",
       "\n",
       "    .dataframe thead th {\n",
       "        text-align: right;\n",
       "    }\n",
       "</style>\n",
       "<table border=\"1\" class=\"dataframe\">\n",
       "  <thead>\n",
       "    <tr style=\"text-align: right;\">\n",
       "      <th></th>\n",
       "      <th>date_certi</th>\n",
       "      <th>time_certi</th>\n",
       "      <th>dwebsite</th>\n",
       "      <th>name</th>\n",
       "      <th>nc_id</th>\n",
       "      <th>objectid</th>\n",
       "      <th>service_re</th>\n",
       "      <th>waddress</th>\n",
       "      <th>geometry</th>\n",
       "    </tr>\n",
       "  </thead>\n",
       "  <tbody>\n",
       "    <tr>\n",
       "      <th>28</th>\n",
       "      <td>2002-09-10</td>\n",
       "      <td>00:00:00.000</td>\n",
       "      <td>http://empowerla.org/GHNNC</td>\n",
       "      <td>GRANADA HILLS NORTH NC</td>\n",
       "      <td>4.0</td>\n",
       "      <td>27.0</td>\n",
       "      <td>REGION 2 - NORTH WEST VALLEY</td>\n",
       "      <td>http://ghnnc.org/</td>\n",
       "      <td>POLYGON ((-118.50737 34.33461, -118.50570 34.3...</td>\n",
       "    </tr>\n",
       "    <tr>\n",
       "      <th>81</th>\n",
       "      <td>2003-05-06</td>\n",
       "      <td>00:00:00.000</td>\n",
       "      <td>http://empowerla.org/SNC</td>\n",
       "      <td>SYLMAR NC</td>\n",
       "      <td>5.0</td>\n",
       "      <td>79.0</td>\n",
       "      <td>REGION 1 - NORTH EAST VALLEY</td>\n",
       "      <td>http://www.sylmarneighborhoodcouncil.org/</td>\n",
       "      <td>POLYGON ((-118.50737 34.33461, -118.50380 34.3...</td>\n",
       "    </tr>\n",
       "    <tr>\n",
       "      <th>0</th>\n",
       "      <td>2002-10-22</td>\n",
       "      <td>00:00:00.000</td>\n",
       "      <td>http://empowerla.org/ANC</td>\n",
       "      <td>ARLETA NC</td>\n",
       "      <td>6.0</td>\n",
       "      <td>1.0</td>\n",
       "      <td>REGION 1 - NORTH EAST VALLEY</td>\n",
       "      <td>http://www.arletanc.org/</td>\n",
       "      <td>POLYGON ((-118.45005 34.24992, -118.45055 34.2...</td>\n",
       "    </tr>\n",
       "    <tr>\n",
       "      <th>62</th>\n",
       "      <td>2002-03-07</td>\n",
       "      <td>00:00:00.000</td>\n",
       "      <td>http://empowerla.org/PNC</td>\n",
       "      <td>PACOIMA NC</td>\n",
       "      <td>7.0</td>\n",
       "      <td>63.0</td>\n",
       "      <td>REGION 1 - NORTH EAST VALLEY</td>\n",
       "      <td>http://pacoimanc.com/</td>\n",
       "      <td>POLYGON ((-118.41566 34.29392, -118.40815 34.2...</td>\n",
       "    </tr>\n",
       "    <tr>\n",
       "      <th>75</th>\n",
       "      <td>2002-05-07</td>\n",
       "      <td>00:00:00.000</td>\n",
       "      <td>http://empowerla.org/SVANC</td>\n",
       "      <td>SUN VALLEY AREA NC</td>\n",
       "      <td>8.0</td>\n",
       "      <td>77.0</td>\n",
       "      <td>REGION 1 - NORTH EAST VALLEY</td>\n",
       "      <td>http://svanc.org/</td>\n",
       "      <td>POLYGON ((-118.36516 34.22933, -118.36400 34.2...</td>\n",
       "    </tr>\n",
       "  </tbody>\n",
       "</table>\n",
       "</div>"
      ],
      "text/plain": [
       "   date_certi    time_certi                    dwebsite  \\\n",
       "28 2002-09-10  00:00:00.000  http://empowerla.org/GHNNC   \n",
       "81 2003-05-06  00:00:00.000    http://empowerla.org/SNC   \n",
       "0  2002-10-22  00:00:00.000    http://empowerla.org/ANC   \n",
       "62 2002-03-07  00:00:00.000    http://empowerla.org/PNC   \n",
       "75 2002-05-07  00:00:00.000  http://empowerla.org/SVANC   \n",
       "\n",
       "                      name  nc_id  objectid                    service_re  \\\n",
       "28  GRANADA HILLS NORTH NC    4.0      27.0  REGION 2 - NORTH WEST VALLEY   \n",
       "81               SYLMAR NC    5.0      79.0  REGION 1 - NORTH EAST VALLEY   \n",
       "0                ARLETA NC    6.0       1.0  REGION 1 - NORTH EAST VALLEY   \n",
       "62              PACOIMA NC    7.0      63.0  REGION 1 - NORTH EAST VALLEY   \n",
       "75      SUN VALLEY AREA NC    8.0      77.0  REGION 1 - NORTH EAST VALLEY   \n",
       "\n",
       "                                     waddress  \\\n",
       "28                          http://ghnnc.org/   \n",
       "81  http://www.sylmarneighborhoodcouncil.org/   \n",
       "0                    http://www.arletanc.org/   \n",
       "62                      http://pacoimanc.com/   \n",
       "75                          http://svanc.org/   \n",
       "\n",
       "                                             geometry  \n",
       "28  POLYGON ((-118.50737 34.33461, -118.50570 34.3...  \n",
       "81  POLYGON ((-118.50737 34.33461, -118.50380 34.3...  \n",
       "0   POLYGON ((-118.45005 34.24992, -118.45055 34.2...  \n",
       "62  POLYGON ((-118.41566 34.29392, -118.40815 34.2...  \n",
       "75  POLYGON ((-118.36516 34.22933, -118.36400 34.2...  "
      ]
     },
     "execution_count": 60,
     "metadata": {},
     "output_type": "execute_result"
    }
   ],
   "source": [
    "# https://geopandas.org/en/stable/getting_started/introduction.html\n",
    "# NC boundaries: https://data.lacity.org/City-Infrastructure-Service-Requests/Neighborhood-Councils-Certified-/fu65-dz2f\n",
    "gdf = geopandas.read_file(\"./data/Neighborhood Councils (Certified)/geo_export_88bb18d9-f96c-4351-8be9-594f258ed0d3.shp\")\n",
    "gdf.sort_values(by = 'nc_id').head()"
   ]
  },
  {
   "cell_type": "code",
   "execution_count": null,
   "id": "711f42d7-9fda-4b2a-82e8-7db473b0a493",
   "metadata": {},
   "outputs": [],
   "source": []
  },
  {
   "cell_type": "code",
   "execution_count": 62,
   "id": "9166fb44-6fd2-41d3-a11b-f85cd20f2502",
   "metadata": {},
   "outputs": [
    {
     "data": {
      "text/plain": [
       "<AxesSubplot:>"
      ]
     },
     "execution_count": 62,
     "metadata": {},
     "output_type": "execute_result"
    },
    {
     "data": {
      "image/png": "[encoded data removed]",
      "text/plain": [
       "<Figure size 432x288 with 1 Axes>"
      ]
     },
     "metadata": {
      "needs_background": "light"
     },
     "output_type": "display_data"
    }
   ],
   "source": [
    "gdf.plot()"
   ]
  },
  {
   "cell_type": "code",
   "execution_count": null,
   "id": "53d437df-833c-4b18-86df-eb09df6d70a5",
   "metadata": {},
   "outputs": [],
   "source": []
  }
 ],
 "metadata": {
  "kernelspec": {
   "display_name": "Python 3 (ipykernel)",
   "language": "python",
   "name": "python3"
  },
  "language_info": {
   "codemirror_mode": {
    "name": "ipython",
    "version": 3
   },
   "file_extension": ".py",
   "mimetype": "text/x-python",
   "name": "python",
   "nbconvert_exporter": "python",
   "pygments_lexer": "ipython3",
   "version": "3.9.12"
  }
 },
 "nbformat": 4,
 "nbformat_minor": 5
}
