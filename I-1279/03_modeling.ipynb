{
 "cells": [
  {
   "cell_type": "code",
   "execution_count": 1,
   "id": "0ba64da8-a16a-4c45-a80f-cb01f3ca17b5",
   "metadata": {},
   "outputs": [],
   "source": [
    "import pandas as pd\n",
    "import numpy as np\n",
    "import seaborn as sns\n",
    "import matplotlib.pyplot as plt\n",
    "\n",
    "from sklearn.preprocessing import StandardScaler\n",
    "from sklearn.metrics import silhouette_score\n",
    "from sklearn.cluster import DBSCAN, KMeans"
   ]
  },
  {
   "cell_type": "code",
   "execution_count": 2,
   "id": "d84d3ef6-6592-46aa-b3b1-a619f79ace37",
   "metadata": {},
   "outputs": [],
   "source": [
    "# 311 Data 10/01/2021-10/01/2022 from API see 01 notebook\n",
    "raw_df = pd.read_csv('./data/clean_01Oct21_01Oct22_api.csv')\n",
    "df = raw_df.copy()"
   ]
  },
  {
   "cell_type": "code",
   "execution_count": 3,
   "id": "6fe1e821-404d-47c6-a00a-f02abf811c03",
   "metadata": {},
   "outputs": [
    {
     "name": "stdout",
     "output_type": "stream",
     "text": [
      "(1042208, 16)\n"
     ]
    },
    {
     "data": {
      "text/html": [
       "<div>\n",
       "<style scoped>\n",
       "    .dataframe tbody tr th:only-of-type {\n",
       "        vertical-align: middle;\n",
       "    }\n",
       "\n",
       "    .dataframe tbody tr th {\n",
       "        vertical-align: top;\n",
       "    }\n",
       "\n",
       "    .dataframe thead th {\n",
       "        text-align: right;\n",
       "    }\n",
       "</style>\n",
       "<table border=\"1\" class=\"dataframe\">\n",
       "  <thead>\n",
       "    <tr style=\"text-align: right;\">\n",
       "      <th></th>\n",
       "      <th>requestId</th>\n",
       "      <th>createdDate</th>\n",
       "      <th>closedDate</th>\n",
       "      <th>typeId</th>\n",
       "      <th>typeName</th>\n",
       "      <th>address</th>\n",
       "      <th>lat_lon</th>\n",
       "      <th>latitude</th>\n",
       "      <th>longitude</th>\n",
       "      <th>agencyId</th>\n",
       "      <th>agencyName</th>\n",
       "      <th>sourceId</th>\n",
       "      <th>srnumber</th>\n",
       "      <th>sourceName</th>\n",
       "      <th>councilId</th>\n",
       "      <th>councilName</th>\n",
       "    </tr>\n",
       "  </thead>\n",
       "  <tbody>\n",
       "    <tr>\n",
       "      <th>0</th>\n",
       "      <td>8610592</td>\n",
       "      <td>2021-10-01 00:01:14</td>\n",
       "      <td>2021-10-08 09:24:53</td>\n",
       "      <td>4</td>\n",
       "      <td>Bulky Items</td>\n",
       "      <td>11614 N HERRICK AVE, 91340</td>\n",
       "      <td>(34.2813123418, -118.425453201)</td>\n",
       "      <td>34.281312</td>\n",
       "      <td>-118.425453</td>\n",
       "      <td>3</td>\n",
       "      <td>Sanitation Bureau</td>\n",
       "      <td>8</td>\n",
       "      <td>1-2079512481</td>\n",
       "      <td>Phone Call</td>\n",
       "      <td>64</td>\n",
       "      <td>Pacoima</td>\n",
       "    </tr>\n",
       "    <tr>\n",
       "      <th>1</th>\n",
       "      <td>8610569</td>\n",
       "      <td>2021-10-01 00:02:19</td>\n",
       "      <td>2021-10-08 13:36:33</td>\n",
       "      <td>5</td>\n",
       "      <td>Electronic Waste</td>\n",
       "      <td>11614 N HERRICK AVE, 91340</td>\n",
       "      <td>(34.2813123418, -118.425453201)</td>\n",
       "      <td>34.281312</td>\n",
       "      <td>-118.425453</td>\n",
       "      <td>3</td>\n",
       "      <td>Sanitation Bureau</td>\n",
       "      <td>8</td>\n",
       "      <td>1-2079516251</td>\n",
       "      <td>Phone Call</td>\n",
       "      <td>64</td>\n",
       "      <td>Pacoima</td>\n",
       "    </tr>\n",
       "    <tr>\n",
       "      <th>2</th>\n",
       "      <td>8610575</td>\n",
       "      <td>2021-10-01 00:03:11</td>\n",
       "      <td>2021-10-13 12:31:58</td>\n",
       "      <td>4</td>\n",
       "      <td>Bulky Items</td>\n",
       "      <td>4539 N VISTA DEL MONTE AVE, 91403</td>\n",
       "      <td>(34.1541582469, -118.450024901)</td>\n",
       "      <td>34.154158</td>\n",
       "      <td>-118.450025</td>\n",
       "      <td>3</td>\n",
       "      <td>Sanitation Bureau</td>\n",
       "      <td>8</td>\n",
       "      <td>1-2079512561</td>\n",
       "      <td>Phone Call</td>\n",
       "      <td>72</td>\n",
       "      <td>Sherman Oaks</td>\n",
       "    </tr>\n",
       "    <tr>\n",
       "      <th>3</th>\n",
       "      <td>8612855</td>\n",
       "      <td>2021-10-01 00:04:14</td>\n",
       "      <td>2021-10-05 14:25:02</td>\n",
       "      <td>6</td>\n",
       "      <td>Illegal Dumping</td>\n",
       "      <td>918 W COLLEGE ST, 90012</td>\n",
       "      <td>(34.066466398, -118.245112635)</td>\n",
       "      <td>34.066466</td>\n",
       "      <td>-118.245113</td>\n",
       "      <td>3</td>\n",
       "      <td>Sanitation Bureau</td>\n",
       "      <td>3</td>\n",
       "      <td>1-2079516331</td>\n",
       "      <td>Email</td>\n",
       "      <td>38</td>\n",
       "      <td>Historic Cultural North</td>\n",
       "    </tr>\n",
       "    <tr>\n",
       "      <th>4</th>\n",
       "      <td>8610587</td>\n",
       "      <td>2021-10-01 00:05:25</td>\n",
       "      <td>2021-10-08 14:16:32</td>\n",
       "      <td>7</td>\n",
       "      <td>Metal/Appliances</td>\n",
       "      <td>11614 N HERRICK AVE, 91340</td>\n",
       "      <td>(34.2813123418, -118.425453201)</td>\n",
       "      <td>34.281312</td>\n",
       "      <td>-118.425453</td>\n",
       "      <td>3</td>\n",
       "      <td>Sanitation Bureau</td>\n",
       "      <td>8</td>\n",
       "      <td>1-2079516401</td>\n",
       "      <td>Phone Call</td>\n",
       "      <td>64</td>\n",
       "      <td>Pacoima</td>\n",
       "    </tr>\n",
       "  </tbody>\n",
       "</table>\n",
       "</div>"
      ],
      "text/plain": [
       "   requestId          createdDate           closedDate  typeId  \\\n",
       "0    8610592  2021-10-01 00:01:14  2021-10-08 09:24:53       4   \n",
       "1    8610569  2021-10-01 00:02:19  2021-10-08 13:36:33       5   \n",
       "2    8610575  2021-10-01 00:03:11  2021-10-13 12:31:58       4   \n",
       "3    8612855  2021-10-01 00:04:14  2021-10-05 14:25:02       6   \n",
       "4    8610587  2021-10-01 00:05:25  2021-10-08 14:16:32       7   \n",
       "\n",
       "           typeName                            address  \\\n",
       "0       Bulky Items         11614 N HERRICK AVE, 91340   \n",
       "1  Electronic Waste         11614 N HERRICK AVE, 91340   \n",
       "2       Bulky Items  4539 N VISTA DEL MONTE AVE, 91403   \n",
       "3   Illegal Dumping            918 W COLLEGE ST, 90012   \n",
       "4  Metal/Appliances         11614 N HERRICK AVE, 91340   \n",
       "\n",
       "                           lat_lon   latitude   longitude  agencyId  \\\n",
       "0  (34.2813123418, -118.425453201)  34.281312 -118.425453         3   \n",
       "1  (34.2813123418, -118.425453201)  34.281312 -118.425453         3   \n",
       "2  (34.1541582469, -118.450024901)  34.154158 -118.450025         3   \n",
       "3   (34.066466398, -118.245112635)  34.066466 -118.245113         3   \n",
       "4  (34.2813123418, -118.425453201)  34.281312 -118.425453         3   \n",
       "\n",
       "          agencyName  sourceId      srnumber  sourceName  councilId  \\\n",
       "0  Sanitation Bureau         8  1-2079512481  Phone Call         64   \n",
       "1  Sanitation Bureau         8  1-2079516251  Phone Call         64   \n",
       "2  Sanitation Bureau         8  1-2079512561  Phone Call         72   \n",
       "3  Sanitation Bureau         3  1-2079516331       Email         38   \n",
       "4  Sanitation Bureau         8  1-2079516401  Phone Call         64   \n",
       "\n",
       "               councilName  \n",
       "0                  Pacoima  \n",
       "1                  Pacoima  \n",
       "2             Sherman Oaks  \n",
       "3  Historic Cultural North  \n",
       "4                  Pacoima  "
      ]
     },
     "execution_count": 3,
     "metadata": {},
     "output_type": "execute_result"
    }
   ],
   "source": [
    "print(df.shape)\n",
    "df.head()"
   ]
  },
  {
   "cell_type": "code",
   "execution_count": 4,
   "id": "d52d29aa-40b2-4d88-a2f3-396d7a70d34e",
   "metadata": {},
   "outputs": [
    {
     "name": "stdout",
     "output_type": "stream",
     "text": [
      "(1042208, 6)\n"
     ]
    },
    {
     "data": {
      "text/html": [
       "<div>\n",
       "<style scoped>\n",
       "    .dataframe tbody tr th:only-of-type {\n",
       "        vertical-align: middle;\n",
       "    }\n",
       "\n",
       "    .dataframe tbody tr th {\n",
       "        vertical-align: top;\n",
       "    }\n",
       "\n",
       "    .dataframe thead th {\n",
       "        text-align: right;\n",
       "    }\n",
       "</style>\n",
       "<table border=\"1\" class=\"dataframe\">\n",
       "  <thead>\n",
       "    <tr style=\"text-align: right;\">\n",
       "      <th></th>\n",
       "      <th>typeId</th>\n",
       "      <th>latitude</th>\n",
       "      <th>longitude</th>\n",
       "      <th>agencyId</th>\n",
       "      <th>sourceId</th>\n",
       "      <th>councilId</th>\n",
       "    </tr>\n",
       "  </thead>\n",
       "  <tbody>\n",
       "    <tr>\n",
       "      <th>0</th>\n",
       "      <td>4</td>\n",
       "      <td>34.281312</td>\n",
       "      <td>-118.425453</td>\n",
       "      <td>3</td>\n",
       "      <td>8</td>\n",
       "      <td>64</td>\n",
       "    </tr>\n",
       "    <tr>\n",
       "      <th>1</th>\n",
       "      <td>5</td>\n",
       "      <td>34.281312</td>\n",
       "      <td>-118.425453</td>\n",
       "      <td>3</td>\n",
       "      <td>8</td>\n",
       "      <td>64</td>\n",
       "    </tr>\n",
       "    <tr>\n",
       "      <th>2</th>\n",
       "      <td>4</td>\n",
       "      <td>34.154158</td>\n",
       "      <td>-118.450025</td>\n",
       "      <td>3</td>\n",
       "      <td>8</td>\n",
       "      <td>72</td>\n",
       "    </tr>\n",
       "    <tr>\n",
       "      <th>3</th>\n",
       "      <td>6</td>\n",
       "      <td>34.066466</td>\n",
       "      <td>-118.245113</td>\n",
       "      <td>3</td>\n",
       "      <td>3</td>\n",
       "      <td>38</td>\n",
       "    </tr>\n",
       "    <tr>\n",
       "      <th>4</th>\n",
       "      <td>7</td>\n",
       "      <td>34.281312</td>\n",
       "      <td>-118.425453</td>\n",
       "      <td>3</td>\n",
       "      <td>8</td>\n",
       "      <td>64</td>\n",
       "    </tr>\n",
       "  </tbody>\n",
       "</table>\n",
       "</div>"
      ],
      "text/plain": [
       "   typeId   latitude   longitude  agencyId  sourceId  councilId\n",
       "0       4  34.281312 -118.425453         3         8         64\n",
       "1       5  34.281312 -118.425453         3         8         64\n",
       "2       4  34.154158 -118.450025         3         8         72\n",
       "3       6  34.066466 -118.245113         3         3         38\n",
       "4       7  34.281312 -118.425453         3         8         64"
      ]
     },
     "execution_count": 4,
     "metadata": {},
     "output_type": "execute_result"
    }
   ],
   "source": [
    "df = df[['typeId', 'latitude', 'longitude', 'agencyId', 'sourceId', 'councilId']]\n",
    "#df = df[['typeId', 'councilId']]\n",
    "print(df.shape)\n",
    "df.head()"
   ]
  },
  {
   "cell_type": "markdown",
   "id": "378e5012-963c-4916-b8fd-44d0cf1e9480",
   "metadata": {},
   "source": [
    "# Clustering - DBSCAN"
   ]
  },
  {
   "cell_type": "code",
   "execution_count": 49,
   "id": "69b196d9-f8ce-4b42-8717-04be29ccbd11",
   "metadata": {},
   "outputs": [],
   "source": [
    "# smaller dataset for processing\n",
    "# df_test = df.sample(frac = .01, random_state = 42)\n",
    "df_test = df[:500].copy()"
   ]
  },
  {
   "cell_type": "code",
   "execution_count": 50,
   "id": "e0c17c0f-54b1-4f9e-a4b4-0b063593c49c",
   "metadata": {},
   "outputs": [],
   "source": [
    "# Function created by Jeff Hale\n",
    "\n",
    "def find_best_silhouette(X):     \n",
    "    ss = StandardScaler()\n",
    "    X_scaled = ss.fit_transform(X)\n",
    "    max_score=-1\n",
    "    for eps in np.linspace(0.2, 5, 50):\n",
    "        for minsamples in range(2, round(len(X) / 2)):\n",
    "            dbscan = DBSCAN(eps=eps, min_samples=minsamples)\n",
    "            dbscan.fit(X_scaled)\n",
    "            if len(set(dbscan.labels_)) > 1:\n",
    "                score = silhouette_score(X_scaled, dbscan.labels_)\n",
    "                if -1 in set(dbscan.labels_):\n",
    "                    nclusters = len(set(dbscan.labels_)) - 1\n",
    "                else:\n",
    "                    nclusters = len(set(dbscan.labels_)) \n",
    "                if score > max_score:\n",
    "                    max_score = score\n",
    "                    best_eps = eps\n",
    "                    best_minsamples = minsamples\n",
    "                    best_clusters = nclusters\n",
    "    print(f'Best silhouette score was {round(max_score, 5)}')\n",
    "    print(f'Best eps was {round(best_eps, 2)}')\n",
    "    print(f'Best min_samples was {best_minsamples}.')\n",
    "    print(f'Model found {best_clusters} clusters.')\n",
    "    return"
   ]
  },
  {
   "cell_type": "code",
   "execution_count": 51,
   "id": "169dca66-11aa-4556-a76d-049a271ca93c",
   "metadata": {},
   "outputs": [
    {
     "name": "stdout",
     "output_type": "stream",
     "text": [
      "Best silhouette score was 0.42969\n",
      "Best eps was 3.04\n",
      "Best min_samples was 2.\n",
      "Model found 2 clusters.\n"
     ]
    }
   ],
   "source": [
    "find_best_silhouette(df_test)"
   ]
  },
  {
   "cell_type": "code",
   "execution_count": null,
   "id": "e0f5c507-75fc-4eb6-8aeb-b26a165c88f3",
   "metadata": {},
   "outputs": [],
   "source": [
    "asdfads"
   ]
  },
  {
   "cell_type": "code",
   "execution_count": 52,
   "id": "468f15c1-62a7-43b5-8fde-b8a23841a7c2",
   "metadata": {},
   "outputs": [],
   "source": [
    "# Scale dataframe\n",
    "ss = StandardScaler()\n",
    "X_sc = ss.fit_transform(df_test)"
   ]
  },
  {
   "cell_type": "code",
   "execution_count": 53,
   "id": "abe849d3-9f3c-491f-a4f6-4e2090390716",
   "metadata": {},
   "outputs": [
    {
     "data": {
      "text/plain": [
       "DBSCAN(eps=2.26, min_samples=2)"
      ]
     },
     "execution_count": 53,
     "metadata": {},
     "output_type": "execute_result"
    }
   ],
   "source": [
    "# Fit DBSCAN with default parameters\n",
    "dbscan = DBSCAN(eps = 2.26, min_samples = 2) \n",
    "dbscan.fit(X_sc)"
   ]
  },
  {
   "cell_type": "markdown",
   "id": "e5010432-42f5-4a61-bfa2-8b0a945409f6",
   "metadata": {},
   "source": [
    "## Evaluation"
   ]
  },
  {
   "cell_type": "code",
   "execution_count": 54,
   "id": "d2151f0b-c89a-43ab-9355-9002de715259",
   "metadata": {},
   "outputs": [
    {
     "name": "stdout",
     "output_type": "stream",
     "text": [
      "[ 0  1  2  3 -1  4]\n"
     ]
    }
   ],
   "source": [
    "# Labels\n",
    "print(pd.Series(dbscan.labels_).unique())"
   ]
  },
  {
   "cell_type": "code",
   "execution_count": 55,
   "id": "e09f396a-4ec8-4cf2-9957-839cba08c17d",
   "metadata": {},
   "outputs": [
    {
     "data": {
      "text/plain": [
       "0.32715566005592406"
      ]
     },
     "execution_count": 55,
     "metadata": {},
     "output_type": "execute_result"
    }
   ],
   "source": [
    "silhouette_score(X_sc, dbscan.labels_) # -1 to 1"
   ]
  },
  {
   "cell_type": "code",
   "execution_count": 56,
   "id": "c8fb32a6-1af1-4162-810f-56e3aa9e8493",
   "metadata": {},
   "outputs": [],
   "source": [
    "# Create cluster column\n",
    "df_test['cluster'] = dbscan.labels_"
   ]
  },
  {
   "cell_type": "code",
   "execution_count": 57,
   "id": "be37520d-ecff-4a40-9af9-d0921db400cc",
   "metadata": {},
   "outputs": [
    {
     "data": {
      "text/plain": [
       " 0    0.934\n",
       " 1    0.026\n",
       " 2    0.018\n",
       " 3    0.016\n",
       " 4    0.004\n",
       "-1    0.002\n",
       "Name: cluster, dtype: float64"
      ]
     },
     "execution_count": 57,
     "metadata": {},
     "output_type": "execute_result"
    }
   ],
   "source": [
    "df_test.cluster.value_counts(normalize = True, ascending = False)"
   ]
  },
  {
   "cell_type": "code",
   "execution_count": 58,
   "id": "33241a2e-a8de-4762-bbec-30609c73f60c",
   "metadata": {},
   "outputs": [],
   "source": [
    "# Pairplot\n",
    "sns.pairplot(df_test, hue = 'cluster', palette = 'viridis', corner = True);"
   ]
  },
  {
   "cell_type": "code",
   "execution_count": null,
   "id": "ec5dac5b-bebb-4378-9ee5-ce9b16e7fc58",
   "metadata": {},
   "outputs": [],
   "source": []
  },
  {
   "cell_type": "code",
   "execution_count": null,
   "id": "2faa0d1a-ccab-4af7-b00d-ab9f4f45cc97",
   "metadata": {},
   "outputs": [],
   "source": []
  }
 ],
 "metadata": {
  "kernelspec": {
   "display_name": "Python 3 (ipykernel)",
   "language": "python",
   "name": "python3"
  },
  "language_info": {
   "codemirror_mode": {
    "name": "ipython",
    "version": 3
   },
   "file_extension": ".py",
   "mimetype": "text/x-python",
   "name": "python",
   "nbconvert_exporter": "python",
   "pygments_lexer": "ipython3",
   "version": "3.9.13"
  }
 },
 "nbformat": 4,
 "nbformat_minor": 5
}
