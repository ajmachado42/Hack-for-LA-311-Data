{
 "cells": [
  {
   "cell_type": "markdown",
   "id": "2734e6ec-3a6e-4a0f-85fe-4db1805de035",
   "metadata": {},
   "source": [
    "# 01.02 Exploratory Data Analysis: Block-by-Block (311 Requests Merged w/ Block Geometries)\n",
    "## Issue 1279\n",
    "---"
   ]
  },
  {
   "cell_type": "markdown",
   "id": "77301dd5-b599-4902-8da6-8570a7e56903",
   "metadata": {
    "tags": []
   },
   "source": [
    "# Package & Data Imports\n",
    "-----"
   ]
  },
  {
   "cell_type": "code",
   "execution_count": 3,
   "id": "ba95c793-a093-432c-b38a-cd9ba5434848",
   "metadata": {},
   "outputs": [],
   "source": [
    "import pandas as pd\n",
    "import numpy as np\n",
    "import seaborn as sns\n",
    "import matplotlib.pyplot as plt\n",
    "\n",
    "%matplotlib inline\n",
    "pd.set_option('display.max_columns', None)\n",
    "\n",
    "import warnings\n",
    "warnings.simplefilter(\"ignore\")\n",
    "with warnings.catch_warnings():\n",
    "    warnings.filterwarnings(\"ignore\", category=DeprecationWarning)"
   ]
  },
  {
   "cell_type": "code",
   "execution_count": 4,
   "id": "20636787-089a-4baa-844c-34de8004b1bd",
   "metadata": {},
   "outputs": [],
   "source": [
    "blk_df_raw = pd.read_csv('../data/clean_01Oct21_01Oct22_nc_blk_req.csv')\n",
    "blk_df = blk_df_raw.copy()"
   ]
  },
  {
   "cell_type": "code",
   "execution_count": 5,
   "id": "06b5ddb1-5a07-428d-b704-bff7c77eccd1",
   "metadata": {},
   "outputs": [
    {
     "name": "stdout",
     "output_type": "stream",
     "text": [
      "(881492, 11)\n"
     ]
    },
    {
     "data": {
      "text/html": [
       "<div>\n",
       "<style scoped>\n",
       "    .dataframe tbody tr th:only-of-type {\n",
       "        vertical-align: middle;\n",
       "    }\n",
       "\n",
       "    .dataframe tbody tr th {\n",
       "        vertical-align: top;\n",
       "    }\n",
       "\n",
       "    .dataframe thead th {\n",
       "        text-align: right;\n",
       "    }\n",
       "</style>\n",
       "<table border=\"1\" class=\"dataframe\">\n",
       "  <thead>\n",
       "    <tr style=\"text-align: right;\">\n",
       "      <th></th>\n",
       "      <th>requestId</th>\n",
       "      <th>createdDate</th>\n",
       "      <th>closedDate</th>\n",
       "      <th>typeId</th>\n",
       "      <th>typeName</th>\n",
       "      <th>address</th>\n",
       "      <th>councilId</th>\n",
       "      <th>councilName</th>\n",
       "      <th>total_population</th>\n",
       "      <th>GEOID20</th>\n",
       "      <th>geometry</th>\n",
       "    </tr>\n",
       "  </thead>\n",
       "  <tbody>\n",
       "    <tr>\n",
       "      <th>0</th>\n",
       "      <td>8610592</td>\n",
       "      <td>2021-10-01 00:01:14</td>\n",
       "      <td>2021-10-08 09:24:53</td>\n",
       "      <td>4</td>\n",
       "      <td>Bulky Items</td>\n",
       "      <td>11614 N HERRICK AVE, 91340</td>\n",
       "      <td>64</td>\n",
       "      <td>Pacoima</td>\n",
       "      <td>24732.0</td>\n",
       "      <td>60371043101005</td>\n",
       "      <td>POINT (-118.425453201 34.2813123418)</td>\n",
       "    </tr>\n",
       "    <tr>\n",
       "      <th>1</th>\n",
       "      <td>8610569</td>\n",
       "      <td>2021-10-01 00:02:19</td>\n",
       "      <td>2021-10-08 13:36:33</td>\n",
       "      <td>5</td>\n",
       "      <td>Electronic Waste</td>\n",
       "      <td>11614 N HERRICK AVE, 91340</td>\n",
       "      <td>64</td>\n",
       "      <td>Pacoima</td>\n",
       "      <td>24732.0</td>\n",
       "      <td>60371043101005</td>\n",
       "      <td>POINT (-118.425453201 34.2813123418)</td>\n",
       "    </tr>\n",
       "    <tr>\n",
       "      <th>2</th>\n",
       "      <td>8610575</td>\n",
       "      <td>2021-10-01 00:03:11</td>\n",
       "      <td>2021-10-13 12:31:58</td>\n",
       "      <td>4</td>\n",
       "      <td>Bulky Items</td>\n",
       "      <td>4539 N VISTA DEL MONTE AVE, 91403</td>\n",
       "      <td>72</td>\n",
       "      <td>Sherman Oaks</td>\n",
       "      <td>NaN</td>\n",
       "      <td>60371413042005</td>\n",
       "      <td>POINT (-118.450024901 34.1541582469)</td>\n",
       "    </tr>\n",
       "    <tr>\n",
       "      <th>3</th>\n",
       "      <td>8612855</td>\n",
       "      <td>2021-10-01 00:04:14</td>\n",
       "      <td>2021-10-05 14:25:02</td>\n",
       "      <td>6</td>\n",
       "      <td>Illegal Dumping</td>\n",
       "      <td>918 W COLLEGE ST, 90012</td>\n",
       "      <td>38</td>\n",
       "      <td>Historic Cultural North</td>\n",
       "      <td>30626.0</td>\n",
       "      <td>60371977002002</td>\n",
       "      <td>POINT (-118.245112635 34.066466398)</td>\n",
       "    </tr>\n",
       "    <tr>\n",
       "      <th>4</th>\n",
       "      <td>8610587</td>\n",
       "      <td>2021-10-01 00:05:25</td>\n",
       "      <td>2021-10-08 14:16:32</td>\n",
       "      <td>7</td>\n",
       "      <td>Metal/Appliances</td>\n",
       "      <td>11614 N HERRICK AVE, 91340</td>\n",
       "      <td>64</td>\n",
       "      <td>Pacoima</td>\n",
       "      <td>24732.0</td>\n",
       "      <td>60371043101005</td>\n",
       "      <td>POINT (-118.425453201 34.2813123418)</td>\n",
       "    </tr>\n",
       "  </tbody>\n",
       "</table>\n",
       "</div>"
      ],
      "text/plain": [
       "   requestId          createdDate           closedDate  typeId  \\\n",
       "0    8610592  2021-10-01 00:01:14  2021-10-08 09:24:53       4   \n",
       "1    8610569  2021-10-01 00:02:19  2021-10-08 13:36:33       5   \n",
       "2    8610575  2021-10-01 00:03:11  2021-10-13 12:31:58       4   \n",
       "3    8612855  2021-10-01 00:04:14  2021-10-05 14:25:02       6   \n",
       "4    8610587  2021-10-01 00:05:25  2021-10-08 14:16:32       7   \n",
       "\n",
       "           typeName                            address  councilId  \\\n",
       "0       Bulky Items         11614 N HERRICK AVE, 91340         64   \n",
       "1  Electronic Waste         11614 N HERRICK AVE, 91340         64   \n",
       "2       Bulky Items  4539 N VISTA DEL MONTE AVE, 91403         72   \n",
       "3   Illegal Dumping            918 W COLLEGE ST, 90012         38   \n",
       "4  Metal/Appliances         11614 N HERRICK AVE, 91340         64   \n",
       "\n",
       "               councilName  total_population         GEOID20  \\\n",
       "0                  Pacoima           24732.0  60371043101005   \n",
       "1                  Pacoima           24732.0  60371043101005   \n",
       "2             Sherman Oaks               NaN  60371413042005   \n",
       "3  Historic Cultural North           30626.0  60371977002002   \n",
       "4                  Pacoima           24732.0  60371043101005   \n",
       "\n",
       "                               geometry  \n",
       "0  POINT (-118.425453201 34.2813123418)  \n",
       "1  POINT (-118.425453201 34.2813123418)  \n",
       "2  POINT (-118.450024901 34.1541582469)  \n",
       "3   POINT (-118.245112635 34.066466398)  \n",
       "4  POINT (-118.425453201 34.2813123418)  "
      ]
     },
     "execution_count": 5,
     "metadata": {},
     "output_type": "execute_result"
    }
   ],
   "source": [
    "print(blk_df.shape)\n",
    "blk_df.head()"
   ]
  },
  {
   "cell_type": "markdown",
   "id": "110ba026-4f91-4b17-b4e1-933944e21d13",
   "metadata": {},
   "source": [
    "# Cleaning & Transforming\n",
    "---"
   ]
  },
  {
   "cell_type": "code",
   "execution_count": 6,
   "id": "f1acc693-f18a-49d4-8712-83ca78b49f4b",
   "metadata": {},
   "outputs": [
    {
     "data": {
      "text/plain": [
       "requestId                0\n",
       "createdDate              0\n",
       "closedDate               0\n",
       "typeId                   0\n",
       "typeName                 0\n",
       "address                  0\n",
       "councilId                0\n",
       "councilName              0\n",
       "total_population    164090\n",
       "GEOID20                  0\n",
       "geometry                 0\n",
       "dtype: int64"
      ]
     },
     "execution_count": 6,
     "metadata": {},
     "output_type": "execute_result"
    }
   ],
   "source": [
    "blk_df.isnull().sum()"
   ]
  },
  {
   "cell_type": "code",
   "execution_count": 7,
   "id": "6274be38-3a3b-4aae-a99c-abdbf290b890",
   "metadata": {},
   "outputs": [
    {
     "data": {
      "text/plain": [
       "False"
      ]
     },
     "execution_count": 7,
     "metadata": {},
     "output_type": "execute_result"
    }
   ],
   "source": [
    "blk_df.duplicated(subset=['requestId']).any()"
   ]
  },
  {
   "cell_type": "code",
   "execution_count": 8,
   "id": "fc98159b-c51a-4e64-8b10-109d7f299be2",
   "metadata": {},
   "outputs": [
    {
     "data": {
      "text/plain": [
       "(881492, 11)"
      ]
     },
     "execution_count": 8,
     "metadata": {},
     "output_type": "execute_result"
    }
   ],
   "source": [
    "blk_df.drop_duplicates(subset = ['requestId']).shape"
   ]
  },
  {
   "cell_type": "code",
   "execution_count": 9,
   "id": "48f0cc95-a355-4f4f-9dff-58774f6a51ab",
   "metadata": {},
   "outputs": [],
   "source": [
    "df_311_raw = pd.read_csv('../data/clean_01Oct21_01Oct22_api.csv')\n",
    "df_311 = df_311_raw.copy()"
   ]
  },
  {
   "cell_type": "code",
   "execution_count": 10,
   "id": "fb7746c0-f2aa-41bd-8f9c-3de7524f0229",
   "metadata": {},
   "outputs": [
    {
     "data": {
      "text/plain": [
       "8610592     1\n",
       "10015992    1\n",
       "10016038    1\n",
       "10016040    1\n",
       "10016037    1\n",
       "           ..\n",
       "9312360     1\n",
       "9312363     1\n",
       "9312366     1\n",
       "9312367     1\n",
       "10747580    1\n",
       "Name: requestId, Length: 1042202, dtype: int64"
      ]
     },
     "execution_count": 10,
     "metadata": {},
     "output_type": "execute_result"
    }
   ],
   "source": [
    "df_311['requestId'].value_counts(ascending = False)"
   ]
  },
  {
   "cell_type": "code",
   "execution_count": 11,
   "id": "8dd24073-aa36-4853-958b-b60aaa0416e8",
   "metadata": {},
   "outputs": [
    {
     "data": {
      "text/plain": [
       "8610592     1\n",
       "10017300    1\n",
       "10017304    1\n",
       "10017307    1\n",
       "10017329    1\n",
       "           ..\n",
       "9312932     1\n",
       "9312913     1\n",
       "9313502     1\n",
       "9312987     1\n",
       "10747580    1\n",
       "Name: requestId, Length: 881492, dtype: int64"
      ]
     },
     "execution_count": 11,
     "metadata": {},
     "output_type": "execute_result"
    }
   ],
   "source": [
    "blk_df['requestId'].value_counts(ascending = False)"
   ]
  },
  {
   "cell_type": "code",
   "execution_count": null,
   "id": "c3f6912a-c59b-4042-9971-ccb78ee5b9d8",
   "metadata": {},
   "outputs": [],
   "source": []
  }
 ],
 "metadata": {
  "kernelspec": {
   "display_name": "base",
   "language": "python",
   "name": "python3"
  },
  "language_info": {
   "codemirror_mode": {
    "name": "ipython",
    "version": 3
   },
   "file_extension": ".py",
   "mimetype": "text/x-python",
   "name": "python",
   "nbconvert_exporter": "python",
   "pygments_lexer": "ipython3",
   "version": "3.9.13"
  },
  "vscode": {
   "interpreter": {
    "hash": "cc4a74134c548e3ca501d5ceaad85f423bf7ea23af0081d49e66d9434ab0cecb"
   }
  }
 },
 "nbformat": 4,
 "nbformat_minor": 5
}
