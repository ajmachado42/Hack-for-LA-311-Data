{
 "cells": [
  {
   "cell_type": "markdown",
   "id": "b620e88f-94fa-4014-8d46-9d853c6fe178",
   "metadata": {},
   "source": [
    "# 03.00 Cluster Analysis Using DBScan\n",
    "## Issue 1279\n",
    "---\n",
    "### *Used small subset since 1M+ dataset was too large to run locally. The code is here for when the ability to run the larger set is possible.*\n",
    "### Conclusion: There seems to be clusters based on location, agencyId, and typeID. This can be explored further to identify areas that have repeat request types which also require the same agency to be dispatched. \n",
    "\n",
    "# ADD IN POPULATION DATA"
   ]
  },
  {
   "cell_type": "code",
   "execution_count": 1,
   "id": "0ba64da8-a16a-4c45-a80f-cb01f3ca17b5",
   "metadata": {},
   "outputs": [],
   "source": [
    "import pandas as pd\n",
    "import numpy as np\n",
    "import seaborn as sns\n",
    "import matplotlib.pyplot as plt\n",
    "\n",
    "from sklearn.preprocessing import StandardScaler\n",
    "from sklearn.metrics import silhouette_score\n",
    "from sklearn.cluster import DBSCAN, KMeans"
   ]
  },
  {
   "cell_type": "code",
   "execution_count": 2,
   "id": "d84d3ef6-6592-46aa-b3b1-a619f79ace37",
   "metadata": {},
   "outputs": [],
   "source": [
    "# 311 Data 10/01/2021-10/01/2022 from API see 01 notebook\n",
    "raw_df = pd.read_csv('../data/clean_01Oct21_01Oct22_api.csv')\n",
    "df = raw_df.copy()\n",
    "\n",
    "# Anupriya's Population Data\n",
    "raw_pop = pd.read_csv('../data/pop_tracts_nc_final.csv')\n",
    "pop = raw_pop.copy()"
   ]
  },
  {
   "cell_type": "code",
   "execution_count": 3,
   "id": "6fe1e821-404d-47c6-a00a-f02abf811c03",
   "metadata": {},
   "outputs": [
    {
     "name": "stdout",
     "output_type": "stream",
     "text": [
      "(1042202, 16)\n"
     ]
    },
    {
     "data": {
      "text/html": [
       "<div>\n",
       "<style scoped>\n",
       "    .dataframe tbody tr th:only-of-type {\n",
       "        vertical-align: middle;\n",
       "    }\n",
       "\n",
       "    .dataframe tbody tr th {\n",
       "        vertical-align: top;\n",
       "    }\n",
       "\n",
       "    .dataframe thead th {\n",
       "        text-align: right;\n",
       "    }\n",
       "</style>\n",
       "<table border=\"1\" class=\"dataframe\">\n",
       "  <thead>\n",
       "    <tr style=\"text-align: right;\">\n",
       "      <th></th>\n",
       "      <th>requestId</th>\n",
       "      <th>createdDate</th>\n",
       "      <th>closedDate</th>\n",
       "      <th>typeId</th>\n",
       "      <th>typeName</th>\n",
       "      <th>address</th>\n",
       "      <th>latitude</th>\n",
       "      <th>longitude</th>\n",
       "      <th>agencyId</th>\n",
       "      <th>agencyName</th>\n",
       "      <th>sourceId</th>\n",
       "      <th>srnumber</th>\n",
       "      <th>sourceName</th>\n",
       "      <th>councilId</th>\n",
       "      <th>councilName</th>\n",
       "      <th>councilID</th>\n",
       "    </tr>\n",
       "  </thead>\n",
       "  <tbody>\n",
       "    <tr>\n",
       "      <th>0</th>\n",
       "      <td>8610592</td>\n",
       "      <td>2021-10-01 00:01:14</td>\n",
       "      <td>2021-10-08 09:24:53</td>\n",
       "      <td>4</td>\n",
       "      <td>Bulky Items</td>\n",
       "      <td>11614 N HERRICK AVE, 91340</td>\n",
       "      <td>34.281312</td>\n",
       "      <td>-118.425453</td>\n",
       "      <td>3</td>\n",
       "      <td>Sanitation Bureau</td>\n",
       "      <td>8</td>\n",
       "      <td>1-2079512481</td>\n",
       "      <td>Phone Call</td>\n",
       "      <td>64</td>\n",
       "      <td>Pacoima</td>\n",
       "      <td>64</td>\n",
       "    </tr>\n",
       "    <tr>\n",
       "      <th>1</th>\n",
       "      <td>8610569</td>\n",
       "      <td>2021-10-01 00:02:19</td>\n",
       "      <td>2021-10-08 13:36:33</td>\n",
       "      <td>5</td>\n",
       "      <td>Electronic Waste</td>\n",
       "      <td>11614 N HERRICK AVE, 91340</td>\n",
       "      <td>34.281312</td>\n",
       "      <td>-118.425453</td>\n",
       "      <td>3</td>\n",
       "      <td>Sanitation Bureau</td>\n",
       "      <td>8</td>\n",
       "      <td>1-2079516251</td>\n",
       "      <td>Phone Call</td>\n",
       "      <td>64</td>\n",
       "      <td>Pacoima</td>\n",
       "      <td>64</td>\n",
       "    </tr>\n",
       "    <tr>\n",
       "      <th>2</th>\n",
       "      <td>8610575</td>\n",
       "      <td>2021-10-01 00:03:11</td>\n",
       "      <td>2021-10-13 12:31:58</td>\n",
       "      <td>4</td>\n",
       "      <td>Bulky Items</td>\n",
       "      <td>4539 N VISTA DEL MONTE AVE, 91403</td>\n",
       "      <td>34.154158</td>\n",
       "      <td>-118.450025</td>\n",
       "      <td>3</td>\n",
       "      <td>Sanitation Bureau</td>\n",
       "      <td>8</td>\n",
       "      <td>1-2079512561</td>\n",
       "      <td>Phone Call</td>\n",
       "      <td>72</td>\n",
       "      <td>Sherman Oaks</td>\n",
       "      <td>72</td>\n",
       "    </tr>\n",
       "    <tr>\n",
       "      <th>3</th>\n",
       "      <td>8612855</td>\n",
       "      <td>2021-10-01 00:04:14</td>\n",
       "      <td>2021-10-05 14:25:02</td>\n",
       "      <td>6</td>\n",
       "      <td>Illegal Dumping</td>\n",
       "      <td>918 W COLLEGE ST, 90012</td>\n",
       "      <td>34.066466</td>\n",
       "      <td>-118.245113</td>\n",
       "      <td>3</td>\n",
       "      <td>Sanitation Bureau</td>\n",
       "      <td>3</td>\n",
       "      <td>1-2079516331</td>\n",
       "      <td>Email</td>\n",
       "      <td>38</td>\n",
       "      <td>Historic Cultural North</td>\n",
       "      <td>38</td>\n",
       "    </tr>\n",
       "    <tr>\n",
       "      <th>4</th>\n",
       "      <td>8610587</td>\n",
       "      <td>2021-10-01 00:05:25</td>\n",
       "      <td>2021-10-08 14:16:32</td>\n",
       "      <td>7</td>\n",
       "      <td>Metal/Appliances</td>\n",
       "      <td>11614 N HERRICK AVE, 91340</td>\n",
       "      <td>34.281312</td>\n",
       "      <td>-118.425453</td>\n",
       "      <td>3</td>\n",
       "      <td>Sanitation Bureau</td>\n",
       "      <td>8</td>\n",
       "      <td>1-2079516401</td>\n",
       "      <td>Phone Call</td>\n",
       "      <td>64</td>\n",
       "      <td>Pacoima</td>\n",
       "      <td>64</td>\n",
       "    </tr>\n",
       "  </tbody>\n",
       "</table>\n",
       "</div>"
      ],
      "text/plain": [
       "   requestId          createdDate           closedDate  typeId  \\\n",
       "0    8610592  2021-10-01 00:01:14  2021-10-08 09:24:53       4   \n",
       "1    8610569  2021-10-01 00:02:19  2021-10-08 13:36:33       5   \n",
       "2    8610575  2021-10-01 00:03:11  2021-10-13 12:31:58       4   \n",
       "3    8612855  2021-10-01 00:04:14  2021-10-05 14:25:02       6   \n",
       "4    8610587  2021-10-01 00:05:25  2021-10-08 14:16:32       7   \n",
       "\n",
       "           typeName                            address   latitude   longitude  \\\n",
       "0       Bulky Items         11614 N HERRICK AVE, 91340  34.281312 -118.425453   \n",
       "1  Electronic Waste         11614 N HERRICK AVE, 91340  34.281312 -118.425453   \n",
       "2       Bulky Items  4539 N VISTA DEL MONTE AVE, 91403  34.154158 -118.450025   \n",
       "3   Illegal Dumping            918 W COLLEGE ST, 90012  34.066466 -118.245113   \n",
       "4  Metal/Appliances         11614 N HERRICK AVE, 91340  34.281312 -118.425453   \n",
       "\n",
       "   agencyId         agencyName  sourceId      srnumber  sourceName  councilId  \\\n",
       "0         3  Sanitation Bureau         8  1-2079512481  Phone Call         64   \n",
       "1         3  Sanitation Bureau         8  1-2079516251  Phone Call         64   \n",
       "2         3  Sanitation Bureau         8  1-2079512561  Phone Call         72   \n",
       "3         3  Sanitation Bureau         3  1-2079516331       Email         38   \n",
       "4         3  Sanitation Bureau         8  1-2079516401  Phone Call         64   \n",
       "\n",
       "               councilName  councilID  \n",
       "0                  Pacoima         64  \n",
       "1                  Pacoima         64  \n",
       "2             Sherman Oaks         72  \n",
       "3  Historic Cultural North         38  \n",
       "4                  Pacoima         64  "
      ]
     },
     "execution_count": 3,
     "metadata": {},
     "output_type": "execute_result"
    }
   ],
   "source": [
    "print(df.shape)\n",
    "df.head()"
   ]
  },
  {
   "cell_type": "code",
   "execution_count": 24,
   "id": "9fe1a0d9-893e-47cd-aef4-de7f0f4a06fd",
   "metadata": {},
   "outputs": [
    {
     "data": {
      "text/plain": [
       "typeId  typeName             \n",
       "4       Bulky Items              490106\n",
       "1       Graffiti                 251080\n",
       "7       Metal/Appliances          85094\n",
       "6       Illegal Dumping           83683\n",
       "2       Homeless Encampment       43412\n",
       "5       Electronic Waste          30703\n",
       "3       Animal Remains            22574\n",
       "11      Other                     15150\n",
       "9       Multiple Streetlights      8887\n",
       "8       Single Streetlight         8237\n",
       "10      Water Waste                2995\n",
       "12      Feedback                    281\n",
       "dtype: int64"
      ]
     },
     "execution_count": 24,
     "metadata": {},
     "output_type": "execute_result"
    }
   ],
   "source": [
    "df[['typeId', 'typeName']].value_counts()"
   ]
  },
  {
   "cell_type": "markdown",
   "id": "e7db8d78-6f1c-40bb-9d79-10a636ef68f2",
   "metadata": {
    "jp-MarkdownHeadingCollapsed": true,
    "tags": []
   },
   "source": [
    "# Create Latitude Longitude Zone Identifier Using KNN?"
   ]
  },
  {
   "cell_type": "code",
   "execution_count": 4,
   "id": "88ae263f-724f-495f-b103-354987a475e3",
   "metadata": {},
   "outputs": [],
   "source": [
    "ll_X = df[['latitude', 'longitude']]\n",
    "\n",
    "# Scale variables\n",
    "ll_sc = StandardScaler()\n",
    "ll_X_sc = ll_sc.fit_transform(ll_X)"
   ]
  },
  {
   "cell_type": "code",
   "execution_count": 5,
   "id": "0f4a0ec8-dcdc-4bd4-a508-ec03c51fd91c",
   "metadata": {},
   "outputs": [
    {
     "data": {
      "text/plain": [
       "'\\ninertia_list = []\\n\\nfor k in range(1, 11):\\n    kmeans = KMeans(n_clusters = k, random_state = 42)\\n    kmeans.fit(ll_X_sc)\\n    inertia_list.append(kmeans.inertia_)\\n\\ninertia_list\\n'"
      ]
     },
     "execution_count": 5,
     "metadata": {},
     "output_type": "execute_result"
    }
   ],
   "source": [
    "# Look for best Inertia\n",
    "'''\n",
    "inertia_list = []\n",
    "\n",
    "for k in range(1, 11):\n",
    "    kmeans = KMeans(n_clusters = k, random_state = 42)\n",
    "    kmeans.fit(ll_X_sc)\n",
    "    inertia_list.append(kmeans.inertia_)\n",
    "\n",
    "inertia_list\n",
    "'''"
   ]
  },
  {
   "cell_type": "code",
   "execution_count": 6,
   "id": "9b9cb433-e367-47d4-8a5e-baa15a3f27ef",
   "metadata": {},
   "outputs": [
    {
     "data": {
      "text/plain": [
       "\"\\nplt.plot(range(1,11), inertia_list, marker = 'o')\\nplt.xlabel('# of Clusters')\\nplt.ylabel('Inertia')\\nplt.title('Inertia Scores')\\n\""
      ]
     },
     "execution_count": 6,
     "metadata": {},
     "output_type": "execute_result"
    }
   ],
   "source": [
    "'''\n",
    "plt.plot(range(1,11), inertia_list, marker = 'o')\n",
    "plt.xlabel('# of Clusters')\n",
    "plt.ylabel('Inertia')\n",
    "plt.title('Inertia Scores')\n",
    "'''"
   ]
  },
  {
   "cell_type": "code",
   "execution_count": 7,
   "id": "6f303029-3a86-484d-bb05-4e5130cebe5e",
   "metadata": {},
   "outputs": [
    {
     "data": {
      "text/plain": [
       "'\\nsilhouette_list = []\\n\\nfor k in range(2, 11):\\n    kmeans = KMeans(n_clusters = k, random_state = 42)\\n    kmeans.fit(ll_X_sc)\\n    silhouette_list.append(silhouette_score(ll_X_sc, kmeans.labels_))\\n    \\nsilhouette_list\\n'"
      ]
     },
     "execution_count": 7,
     "metadata": {},
     "output_type": "execute_result"
    }
   ],
   "source": [
    "# Look for best silhouette\n",
    "'''\n",
    "silhouette_list = []\n",
    "\n",
    "for k in range(2, 11):\n",
    "    kmeans = KMeans(n_clusters = k, random_state = 42)\n",
    "    kmeans.fit(ll_X_sc)\n",
    "    silhouette_list.append(silhouette_score(ll_X_sc, kmeans.labels_))\n",
    "    \n",
    "silhouette_list\n",
    "'''"
   ]
  },
  {
   "cell_type": "code",
   "execution_count": 8,
   "id": "0b7e5c11-16d0-4c00-b59e-a2325e2c64cf",
   "metadata": {},
   "outputs": [
    {
     "data": {
      "text/plain": [
       "\"\\nplt.plot(range(2, 11), silhouette_list, marker='o')\\nplt.xlabel('# of Clusters')\\nplt.ylabel('Score')\\nplt.title('Silhouette Scores');\\n\""
      ]
     },
     "execution_count": 8,
     "metadata": {},
     "output_type": "execute_result"
    }
   ],
   "source": [
    "'''\n",
    "plt.plot(range(2, 11), silhouette_list, marker='o')\n",
    "plt.xlabel('# of Clusters')\n",
    "plt.ylabel('Score')\n",
    "plt.title('Silhouette Scores');\n",
    "'''"
   ]
  },
  {
   "cell_type": "markdown",
   "id": "378e5012-963c-4916-b8fd-44d0cf1e9480",
   "metadata": {},
   "source": [
    "# Clustering - DBSCAN"
   ]
  },
  {
   "cell_type": "code",
   "execution_count": 9,
   "id": "2a6711f2-4b31-423a-898e-08a947e742d4",
   "metadata": {},
   "outputs": [
    {
     "name": "stdout",
     "output_type": "stream",
     "text": [
      "(1042202, 16)\n"
     ]
    },
    {
     "data": {
      "text/html": [
       "<div>\n",
       "<style scoped>\n",
       "    .dataframe tbody tr th:only-of-type {\n",
       "        vertical-align: middle;\n",
       "    }\n",
       "\n",
       "    .dataframe tbody tr th {\n",
       "        vertical-align: top;\n",
       "    }\n",
       "\n",
       "    .dataframe thead th {\n",
       "        text-align: right;\n",
       "    }\n",
       "</style>\n",
       "<table border=\"1\" class=\"dataframe\">\n",
       "  <thead>\n",
       "    <tr style=\"text-align: right;\">\n",
       "      <th></th>\n",
       "      <th>typeId</th>\n",
       "      <th>councilId</th>\n",
       "    </tr>\n",
       "  </thead>\n",
       "  <tbody>\n",
       "    <tr>\n",
       "      <th>0</th>\n",
       "      <td>4</td>\n",
       "      <td>64</td>\n",
       "    </tr>\n",
       "    <tr>\n",
       "      <th>1</th>\n",
       "      <td>5</td>\n",
       "      <td>64</td>\n",
       "    </tr>\n",
       "    <tr>\n",
       "      <th>2</th>\n",
       "      <td>4</td>\n",
       "      <td>72</td>\n",
       "    </tr>\n",
       "    <tr>\n",
       "      <th>3</th>\n",
       "      <td>6</td>\n",
       "      <td>38</td>\n",
       "    </tr>\n",
       "    <tr>\n",
       "      <th>4</th>\n",
       "      <td>7</td>\n",
       "      <td>64</td>\n",
       "    </tr>\n",
       "  </tbody>\n",
       "</table>\n",
       "</div>"
      ],
      "text/plain": [
       "   typeId  councilId\n",
       "0       4         64\n",
       "1       5         64\n",
       "2       4         72\n",
       "3       6         38\n",
       "4       7         64"
      ]
     },
     "execution_count": 9,
     "metadata": {},
     "output_type": "execute_result"
    }
   ],
   "source": [
    "# X = df[['typeId', 'latitude', 'longitude', 'agencyId', 'sourceId', 'councilId']]\n",
    "X = df[['typeId', 'councilId']]\n",
    "print(df.shape)\n",
    "X.head()"
   ]
  },
  {
   "cell_type": "code",
   "execution_count": 10,
   "id": "69b196d9-f8ce-4b42-8717-04be29ccbd11",
   "metadata": {},
   "outputs": [],
   "source": [
    "# smaller dataset for processing\n",
    "# df_test = df.sample(frac = .01, random_state = 42)\n",
    "X_test = X[:1000].copy()"
   ]
  },
  {
   "cell_type": "code",
   "execution_count": 11,
   "id": "e0c17c0f-54b1-4f9e-a4b4-0b063593c49c",
   "metadata": {},
   "outputs": [],
   "source": [
    "# Adapted from function created by Jeff Hale\n",
    "\n",
    "def find_best_silhouette(X):     \n",
    "    ss = StandardScaler()\n",
    "    X_scaled = ss.fit_transform(X)\n",
    "    max_score=-1\n",
    "    for eps in np.linspace(0.2, 5, 50):\n",
    "        for minsamples in range(2, round(len(X) / 2)):\n",
    "            dbscan = DBSCAN(eps=eps, min_samples=minsamples)\n",
    "            dbscan.fit(X_scaled)\n",
    "            if len(set(dbscan.labels_)) > 1:\n",
    "                score = silhouette_score(X_scaled, dbscan.labels_)\n",
    "                if -1 in set(dbscan.labels_):\n",
    "                    nclusters = len(set(dbscan.labels_)) - 1\n",
    "                else:\n",
    "                    nclusters = len(set(dbscan.labels_)) \n",
    "                if score > max_score:\n",
    "                    max_score = score\n",
    "                    best_eps = eps\n",
    "                    best_min_samples = minsamples\n",
    "                    best_clusters = nclusters\n",
    "    print(f'Best silhouette score was {round(max_score, 5)}')\n",
    "    print(f'Best eps was {round(best_eps, 2)}')\n",
    "    print(f'Best min_samples was {best_min_samples}.')\n",
    "    print(f'Model found {best_clusters} clusters.')\n",
    "    return best_eps, best_min_samples"
   ]
  },
  {
   "cell_type": "code",
   "execution_count": 12,
   "id": "169dca66-11aa-4556-a76d-049a271ca93c",
   "metadata": {},
   "outputs": [
    {
     "name": "stdout",
     "output_type": "stream",
     "text": [
      "Best silhouette score was 0.50387\n",
      "Best eps was 0.98\n",
      "Best min_samples was 52.\n",
      "Model found 1 clusters.\n"
     ]
    }
   ],
   "source": [
    "best_eps, best_min_samples = find_best_silhouette(X_test)"
   ]
  },
  {
   "cell_type": "code",
   "execution_count": 13,
   "id": "468f15c1-62a7-43b5-8fde-b8a23841a7c2",
   "metadata": {},
   "outputs": [],
   "source": [
    "# Scale dataframe\n",
    "ss = StandardScaler()\n",
    "X_sc = ss.fit_transform(X_test)"
   ]
  },
  {
   "cell_type": "code",
   "execution_count": 14,
   "id": "abe849d3-9f3c-491f-a4f6-4e2090390716",
   "metadata": {},
   "outputs": [
    {
     "data": {
      "text/plain": [
       "DBSCAN(eps=0.9836734693877551, min_samples=52)"
      ]
     },
     "execution_count": 14,
     "metadata": {},
     "output_type": "execute_result"
    }
   ],
   "source": [
    "# Fit DBSCAN with best parameters\n",
    "dbscan = DBSCAN(eps = best_eps, min_samples = best_min_samples) \n",
    "dbscan.fit(X_sc)"
   ]
  },
  {
   "cell_type": "markdown",
   "id": "e5010432-42f5-4a61-bfa2-8b0a945409f6",
   "metadata": {},
   "source": [
    "## Evaluation\n",
    "---"
   ]
  },
  {
   "cell_type": "code",
   "execution_count": 15,
   "id": "d2151f0b-c89a-43ab-9355-9002de715259",
   "metadata": {},
   "outputs": [
    {
     "name": "stdout",
     "output_type": "stream",
     "text": [
      "[ 0 -1]\n"
     ]
    }
   ],
   "source": [
    "# Labels\n",
    "print(pd.Series(dbscan.labels_).unique())"
   ]
  },
  {
   "cell_type": "code",
   "execution_count": 16,
   "id": "e09f396a-4ec8-4cf2-9957-839cba08c17d",
   "metadata": {},
   "outputs": [
    {
     "data": {
      "text/plain": [
       "0.5038718344221602"
      ]
     },
     "execution_count": 16,
     "metadata": {},
     "output_type": "execute_result"
    }
   ],
   "source": [
    "silhouette_score(X_sc, dbscan.labels_) # -1 to 1"
   ]
  },
  {
   "cell_type": "code",
   "execution_count": 18,
   "id": "c8fb32a6-1af1-4162-810f-56e3aa9e8493",
   "metadata": {},
   "outputs": [],
   "source": [
    "# Create cluster column\n",
    "X_test['cluster'] = dbscan.labels_"
   ]
  },
  {
   "cell_type": "code",
   "execution_count": 21,
   "id": "be37520d-ecff-4a40-9af9-d0921db400cc",
   "metadata": {},
   "outputs": [
    {
     "data": {
      "text/plain": [
       " 0    0.973\n",
       "-1    0.027\n",
       "Name: cluster, dtype: float64"
      ]
     },
     "execution_count": 21,
     "metadata": {},
     "output_type": "execute_result"
    }
   ],
   "source": [
    "X_test.cluster.value_counts(normalize = True, ascending = False)"
   ]
  },
  {
   "cell_type": "code",
   "execution_count": 22,
   "id": "33241a2e-a8de-4762-bbec-30609c73f60c",
   "metadata": {},
   "outputs": [
    {
     "data": {
      "text/plain": [
       "<seaborn.axisgrid.PairGrid at 0x13b6d7040>"
      ]
     },
     "execution_count": 22,
     "metadata": {},
     "output_type": "execute_result"
    },
    {
     "data": {
      "image/png": "[encoded data removed]",
      "text/plain": [
       "<Figure size 563.75x500 with 5 Axes>"
      ]
     },
     "metadata": {},
     "output_type": "display_data"
    }
   ],
   "source": [
    "# Pairplot\n",
    "sns.pairplot(X_test, hue = 'cluster', palette = 'viridis', corner = True)"
   ]
  },
  {
   "cell_type": "code",
   "execution_count": null,
   "id": "ec5dac5b-bebb-4378-9ee5-ce9b16e7fc58",
   "metadata": {},
   "outputs": [],
   "source": []
  },
  {
   "cell_type": "code",
   "execution_count": null,
   "id": "2faa0d1a-ccab-4af7-b00d-ab9f4f45cc97",
   "metadata": {},
   "outputs": [],
   "source": []
  }
 ],
 "metadata": {
  "kernelspec": {
   "display_name": "Python 3 (ipykernel)",
   "language": "python",
   "name": "python3"
  },
  "language_info": {
   "codemirror_mode": {
    "name": "ipython",
    "version": 3
   },
   "file_extension": ".py",
   "mimetype": "text/x-python",
   "name": "python",
   "nbconvert_exporter": "python",
   "pygments_lexer": "ipython3",
   "version": "3.9.13"
  },
  "vscode": {
   "interpreter": {
    "hash": "cc4a74134c548e3ca501d5ceaad85f423bf7ea23af0081d49e66d9434ab0cecb"
   }
  }
 },
 "nbformat": 4,
 "nbformat_minor": 5
}
