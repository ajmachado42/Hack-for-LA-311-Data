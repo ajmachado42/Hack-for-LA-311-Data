{
 "cells": [
  {
   "cell_type": "markdown",
   "id": "14aeb6c5-d57f-4f9e-b36d-8c60af9a3db6",
   "metadata": {},
   "source": [
    "# 02.03 Geospatial Analysis: Neighborhood Council & Census Block Layered Visualizations\n",
    "## Issue 1279\n",
    "[Census Blocks Shapefile Source - 2020 US Census Blocks ](https://www2.census.gov/geo/tiger/TIGER2020PL/STATE/06_CALIFORNIA/06037/)\n",
    " | [NC Shapefile Source - City of LA](https://data.lacity.org/City-Infrastructure-Service-Requests/Neighborhood-Councils-Certified-/fu65-dz2f)\n",
    " \n",
    " ---"
   ]
  },
  {
   "cell_type": "markdown",
   "id": "3e4b4ef6-406a-4b5e-b1f6-ce03c0c955e4",
   "metadata": {},
   "source": [
    "# Package & Data Imports\n",
    "---"
   ]
  },
  {
   "cell_type": "code",
   "execution_count": null,
   "id": "319180a9-f715-41ff-83ac-9f7c740a755f",
   "metadata": {},
   "outputs": [],
   "source": [
    "import pandas as pd\n",
    "import numpy as np\n",
    "import matplotlib.pyplot as plt\n",
    "import seaborn as sns\n",
    "from datetime import datetime\n",
    "\n",
    "# https://stackoverflow.com/questions/13440102/getting-bounding-box-of-city\n",
    "import geopandas as gpd\n",
    "\n",
    "# https://www.analyticsvidhya.com/blog/2020/06/guide-geospatial-analysis-folium-python/\n",
    "import folium\n",
    "from branca.element import Figure\n",
    "from folium.plugins import TimeSliderChoropleth\n",
    "\n",
    "%matplotlib inline\n",
    "import warnings\n",
    "warnings.simplefilter(\"ignore\")\n",
    "with warnings.catch_warnings():\n",
    "    warnings.filterwarnings(\"ignore\", category=DeprecationWarning)"
   ]
  },
  {
   "cell_type": "code",
   "execution_count": null,
   "id": "adfd85a5-bcd1-42d8-8e2e-a9c63b1f41d8",
   "metadata": {},
   "outputs": [],
   "source": [
    "# 311 Data 10/01/2021-10/01/2022 from API see 01 notebook\n",
    "raw_df = pd.read_csv('../data/clean_01Oct21_01Oct22_api.csv')\n",
    "df = raw_df.copy()\n",
    "\n",
    "# https://geopandas.org/en/stable/getting_started/introduction.html\n",
    "# NC boundaries: https://data.lacity.org/City-Infrastructure-Service-Requests/Neighborhood-Councils-Certified-/fu65-dz2f\n",
    "raw_gdf_nc = gpd.read_file('../data/Neighborhood Councils (Certified)/geo_export_88bb18d9-f96c-4351-8be9-594f258ed0d3.shp')\n",
    "gdf_nc = raw_gdf_nc.copy()\n",
    "\n",
    "# Block boundaries: https://www2.census.gov/geo/tiger/TIGER2020PL/STATE/06_CALIFORNIA/06037/\n",
    "# tl_2020_06037_tabblock20.zip\n",
    "raw_gdf_blk = gpd.read_file(\"../data/tl_2020_06037_tabblock20/tl_2020_06037_tabblock20.shp\")\n",
    "gdf_blk = raw_gdf_blk.copy()\n",
    "\n",
    "# merged nc and blk geodata\n",
    "gdf_blk_nc_raw = gpd.read_file('../data/SHAPE-clean_01Oct21_01Oct22_nc_blk/clean_01Oct21_01Oct22_nc_blk.shp')\n",
    "gdf_blk_nc = gdf_blk_nc_raw.copy()\n",
    "\n",
    "# merged request dataset with nc block geodata\n",
    "df_blk_nc_raw = gpd.read_file('../data/SHAPE-clean_01Oct21_01Oct22_nc_blk_req/clean_01Oct21_01Oct22_nc_blk_req.shp')\n",
    "df_blk_nc = df_blk_nc_raw.copy()"
   ]
  },
  {
   "cell_type": "markdown",
   "id": "2882b512-853b-4927-b7c0-a00942e94b23",
   "metadata": {
    "tags": []
   },
   "source": [
    "# Neighborhood Council and Block-by-Block Layered Map\n",
    "---"
   ]
  },
  {
   "cell_type": "code",
   "execution_count": null,
   "id": "b548996a-7339-4c9c-b305-9a0ebe49d65d",
   "metadata": {},
   "outputs": [],
   "source": [
    "# create groupby neighborhood council\n",
    "df_nc_ct = df.groupby('councilName')['councilId'].value_counts().reset_index(name = 'count')\n",
    "print(df_nc_ct.shape)\n",
    "df_nc_ct.head()"
   ]
  },
  {
   "cell_type": "code",
   "execution_count": null,
   "id": "9d5ee9b0-ff5b-4c4e-87d2-7ed64bddae24",
   "metadata": {},
   "outputs": [],
   "source": [
    "# merge NC grouping with geometries\n",
    "gdf_nc_plt = pd.merge(gdf_nc, df_nc_ct, how = 'left', left_on = 'objectid', right_on = 'councilId')\n",
    "gdf_nc_plt.drop(columns = 'objectid', inplace = True)\n",
    "\n",
    "# incase need to minimize dataset for testing\n",
    "# gdf_nc_plt = gdf_nc_plt.sample(frac = .01, random_state = 42)\n",
    "\n",
    "# sort and remove unnecessary columns\n",
    "gdf_nc_plt = gdf_nc_plt.sort_values(by = 'councilId').reset_index(drop = True)\n",
    "gdf_nc_plt = gdf_nc_plt[['geometry', 'councilId', 'councilName', 'count']]\n",
    "\n",
    "# put geometry in format for folium\n",
    "gdf_nc_plt = gdf_nc_plt.to_crs(epsg=4326)\n",
    "\n",
    "# check geodataframe\n",
    "print(gdf_nc_plt.shape)\n",
    "gdf_nc_plt.head()"
   ]
  },
  {
   "cell_type": "code",
   "execution_count": null,
   "id": "d7ab02b0-1b26-43ee-aa10-60dd989ad92c",
   "metadata": {},
   "outputs": [],
   "source": [
    "# BLOCK\n",
    "# create groupby neighborhood council\n",
    "df_blk_ct = df_blk_nc.groupby(['councilId','councilNam'])['GEOID20'].value_counts().reset_index(name = 'count')\n",
    "print(df_blk_ct.shape)\n",
    "df_blk_ct.head()"
   ]
  },
  {
   "cell_type": "code",
   "execution_count": null,
   "id": "909ac819-d099-4e8b-8a1e-4be20fc6702d",
   "metadata": {},
   "outputs": [],
   "source": [
    "# merge block grouping with geometries\n",
    "gdf_blk_plt = pd.merge(gdf_blk_nc, df_blk_ct, how = 'inner', on = 'GEOID20')\n",
    "\n",
    "# incase need to minimize dataset for testing\n",
    "# gdf_blk_plt = gdf_blk_plt.sample(frac = .01, random_state = 42)\n",
    "\n",
    "# sort and remove unnecessary columns\n",
    "gdf_blk_plt = gdf_blk_plt.sort_values(by = 'GEOID20').reset_index(drop = True)\n",
    "gdf_blk_plt = gdf_blk_plt[['GEOID20', 'geometry', 'councilId_x', 'name', 'count']]\n",
    "gdf_blk_plt.rename(columns = {'councilId_x':'councilId', 'name_x':'councilName'}, inplace = True)\n",
    "\n",
    "# check geodataframe\n",
    "print(gdf_blk_plt.shape)\n",
    "gdf_blk_plt.head()"
   ]
  },
  {
   "cell_type": "code",
   "execution_count": null,
   "id": "8c7f7fa3-447e-474e-a580-c1c2dda45790",
   "metadata": {},
   "outputs": [],
   "source": [
    "# https://geopandas.org/en/stable/gallery/polygon_plotting_with_folium.html\n",
    "\n",
    "# basemap\n",
    "fig = Figure(height = 600, width = 1000)\n",
    "map = folium.Map(location = (34.03, -118.39), tiles='cartodbpositron', zoom_start=9.5)\n",
    "fig.add_child(map)\n",
    "\n",
    "# neighborhood council requests choropleth\n",
    "# adapted from https://python-visualization.github.io/folium/quickstart.html\n",
    "choro_nc = folium.Choropleth(\n",
    "    geo_data = gdf_nc_plt.to_json(),\n",
    "    name=\"NC choropleth\",\n",
    "    data = gdf_nc_plt,\n",
    "    columns=['councilName', 'count'],\n",
    "    key_on=\"feature.properties.councilName\",\n",
    "    fill_color=\"YlGn\",\n",
    "    fill_opacity=0.7,\n",
    "    nan_fill_opacity = 0,\n",
    "    line_opacity=0.2,\n",
    "    legend_name=\"311 Requests per Neighborhood Council\",\n",
    ")\n",
    "\n",
    "map.add_child(choro_nc)\n",
    "\n",
    "# NC tooltip\n",
    "# adapted from https://stackoverflow.com/questions/61144877/currency-geojsontooltip-formatting-in-folium\n",
    "choro_nc.geojson.add_child(folium.features.GeoJsonTooltip(\n",
    "    fields = ['councilName', 'councilId', 'count'],\n",
    "    aliases = ['Neighborhood Council', 'Council ID', '# of Requests'],\n",
    "    localize = True\n",
    "))\n",
    "\n",
    "######\n",
    "\n",
    "# block-by-block requests choropleth\n",
    "# adapted from https://python-visualization.github.io/folium/quickstart.html\n",
    "bins = gdf_blk_plt[\"count\"].quantile([0, 0.1, 0.25, 0.5, .75, .95, 1]).tolist()\n",
    "\n",
    "choro_blk = folium.Choropleth(\n",
    "    geo_data = gdf_blk_plt.to_json(),\n",
    "    name=\"Block Choropleth\",\n",
    "    data = gdf_blk_plt,\n",
    "    columns=['GEOID20', 'count'],\n",
    "    key_on=\"feature.properties.GEOID20\",\n",
    "    bins = bins,\n",
    "    fill_color=\"BuPu\",\n",
    "    fill_opacity=0.7,\n",
    "    nan_fill_opacity = 0,\n",
    "    line_opacity=0.2,\n",
    "    legend_name=\"311 Requests per Block\",\n",
    ")\n",
    "\n",
    "map.add_child(choro_blk)\n",
    "\n",
    "# block tooltip\n",
    "# adapted from https://stackoverflow.com/questions/61144877/currency-geojsontooltip-formatting-in-folium\n",
    "choro_blk.geojson.add_child(folium.features.GeoJsonTooltip(\n",
    "    fields = ['name', 'councilId', 'GEOID20', 'count'],\n",
    "    aliases = ['Neighborhood Council', 'Council ID', 'Block Census ID', '# of Requests'],\n",
    "    localize = True\n",
    "))\n",
    "\n",
    "# NC boundary lines\n",
    "folium.GeoJson(data = gdf_nc[\"geometry\"], name = 'NC Boundaries',\n",
    "               style_function = lambda x:{\n",
    "                   \"color\": \"#000000\",\n",
    "                   \"weight\": 1,\n",
    "                   \"opacity\": .25,\n",
    "                   \"fill\": False\n",
    "               }\n",
    "              ).add_to(map)\n",
    "\n",
    "folium.LayerControl(collapsed = False).add_to(map)\n",
    "\n",
    "map"
   ]
  },
  {
   "cell_type": "code",
   "execution_count": null,
   "id": "c422026a-bd51-4650-b6e3-3a9c56f0c5e2",
   "metadata": {},
   "outputs": [],
   "source": [
    "map.save('../streamlit/nc_blk_layered.html')"
   ]
  },
  {
   "cell_type": "code",
   "execution_count": null,
   "id": "9659ebd3-943f-4244-96f5-07b36a1c3ad4",
   "metadata": {},
   "outputs": [],
   "source": []
  }
 ],
 "metadata": {
  "kernelspec": {
   "display_name": "base",
   "language": "python",
   "name": "python3"
  },
  "language_info": {
   "codemirror_mode": {
    "name": "ipython",
    "version": 3
   },
   "file_extension": ".py",
   "mimetype": "text/x-python",
   "name": "python",
   "nbconvert_exporter": "python",
   "pygments_lexer": "ipython3",
   "version": "3.9.13 | packaged by conda-forge | (main, May 27 2022, 17:00:52) \n[Clang 13.0.1 ]"
  },
  "vscode": {
   "interpreter": {
    "hash": "cc4a74134c548e3ca501d5ceaad85f423bf7ea23af0081d49e66d9434ab0cecb"
   }
  }
 },
 "nbformat": 4,
 "nbformat_minor": 5
}
