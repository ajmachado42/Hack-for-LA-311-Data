{
 "cells": [
  {
   "cell_type": "markdown",
   "id": "e2b6f8fa-3bbe-48c5-b22b-5ef3c81b5a59",
   "metadata": {},
   "source": [
    "# 01.00 City of LA 311 Request Data: API Data Cleaning\n",
    "## Issue 1279\n",
    "---\n",
    "Identify addresses or small areas that could benefit from more signage, increased community assistance, or other actions"
   ]
  },
  {
   "cell_type": "markdown",
   "id": "2b3e087c-cb58-4dc1-987b-53e70cacee9a",
   "metadata": {
    "tags": []
   },
   "source": [
    "# Package & Data Imports\n",
    "-----"
   ]
  },
  {
   "cell_type": "code",
   "execution_count": 1,
   "id": "f648dc47-d70b-4863-b37b-657ac8db8c0e",
   "metadata": {},
   "outputs": [],
   "source": [
    "import pandas as pd\n",
    "from pandas import json_normalize\n",
    "import numpy as np\n",
    "import seaborn as sns\n",
    "import matplotlib.pyplot as plt\n",
    "\n",
    "%matplotlib inline\n",
    "pd.set_option('display.max_columns', None)\n",
    "\n",
    "import warnings\n",
    "warnings.simplefilter(\"ignore\")\n",
    "with warnings.catch_warnings():\n",
    "    warnings.filterwarnings(\"ignore\", category=DeprecationWarning)"
   ]
  },
  {
   "cell_type": "markdown",
   "id": "2278d0c0-162e-4d21-9258-109b7393aecf",
   "metadata": {
    "tags": []
   },
   "source": [
    "## LA 311 Raw Data Imports\n",
    "-----\n",
    "[API Source](https://data.lacity.org/City-Infrastructure-Service-Requests/MyLA311-Service-Request-Data-2022/i5ke-k6by) | [Documentation](https://dev.socrata.com/foundry/data.lacity.org/i5ke-k6by) | [Hack for LA API File](https://github.com/hackforla/311-data/blob/dev/server/utils/get_request_data_csv.py)"
   ]
  },
  {
   "cell_type": "code",
   "execution_count": 2,
   "id": "1d656f1b-a018-47c3-a3af-ae40eea976b9",
   "metadata": {},
   "outputs": [],
   "source": [
    "# CMD LINE: python get_311_request_data_csv.py \"2021-10-01\" \"2022-10-01\"\n",
    "df_311_raw = pd.read_csv('../data/01Oct21_01Oct22_api.csv')\n",
    "df_311 = df_311_raw.copy()"
   ]
  },
  {
   "cell_type": "code",
   "execution_count": 3,
   "id": "96b773a1-e7b9-484e-8f9d-5eceb82e9bd5",
   "metadata": {},
   "outputs": [
    {
     "name": "stdout",
     "output_type": "stream",
     "text": [
      "(1096525, 16)\n"
     ]
    },
    {
     "data": {
      "text/html": [
       "<div>\n",
       "<style scoped>\n",
       "    .dataframe tbody tr th:only-of-type {\n",
       "        vertical-align: middle;\n",
       "    }\n",
       "\n",
       "    .dataframe tbody tr th {\n",
       "        vertical-align: top;\n",
       "    }\n",
       "\n",
       "    .dataframe thead th {\n",
       "        text-align: right;\n",
       "    }\n",
       "</style>\n",
       "<table border=\"1\" class=\"dataframe\">\n",
       "  <thead>\n",
       "    <tr style=\"text-align: right;\">\n",
       "      <th></th>\n",
       "      <th>Unnamed: 0</th>\n",
       "      <th>requestId</th>\n",
       "      <th>srnumber</th>\n",
       "      <th>councilId</th>\n",
       "      <th>councilName</th>\n",
       "      <th>typeId</th>\n",
       "      <th>typeName</th>\n",
       "      <th>agencyId</th>\n",
       "      <th>agencyName</th>\n",
       "      <th>sourceId</th>\n",
       "      <th>sourceName</th>\n",
       "      <th>createdDate</th>\n",
       "      <th>closedDate</th>\n",
       "      <th>address</th>\n",
       "      <th>latitude</th>\n",
       "      <th>longitude</th>\n",
       "    </tr>\n",
       "  </thead>\n",
       "  <tbody>\n",
       "    <tr>\n",
       "      <th>0</th>\n",
       "      <td>0</td>\n",
       "      <td>8610592</td>\n",
       "      <td>1-2079512481</td>\n",
       "      <td>64</td>\n",
       "      <td>Pacoima</td>\n",
       "      <td>4</td>\n",
       "      <td>Bulky Items</td>\n",
       "      <td>3</td>\n",
       "      <td>Sanitation Bureau</td>\n",
       "      <td>8</td>\n",
       "      <td>Phone Call</td>\n",
       "      <td>2021-10-01T00:01:14</td>\n",
       "      <td>2021-10-08T09:24:53</td>\n",
       "      <td>11614 N HERRICK AVE, 91340</td>\n",
       "      <td>34.281312</td>\n",
       "      <td>-118.425453</td>\n",
       "    </tr>\n",
       "    <tr>\n",
       "      <th>1</th>\n",
       "      <td>1</td>\n",
       "      <td>8610569</td>\n",
       "      <td>1-2079516251</td>\n",
       "      <td>64</td>\n",
       "      <td>Pacoima</td>\n",
       "      <td>5</td>\n",
       "      <td>Electronic Waste</td>\n",
       "      <td>3</td>\n",
       "      <td>Sanitation Bureau</td>\n",
       "      <td>8</td>\n",
       "      <td>Phone Call</td>\n",
       "      <td>2021-10-01T00:02:19</td>\n",
       "      <td>2021-10-08T13:36:33</td>\n",
       "      <td>11614 N HERRICK AVE, 91340</td>\n",
       "      <td>34.281312</td>\n",
       "      <td>-118.425453</td>\n",
       "    </tr>\n",
       "    <tr>\n",
       "      <th>2</th>\n",
       "      <td>2</td>\n",
       "      <td>8610575</td>\n",
       "      <td>1-2079512561</td>\n",
       "      <td>72</td>\n",
       "      <td>Sherman Oaks</td>\n",
       "      <td>4</td>\n",
       "      <td>Bulky Items</td>\n",
       "      <td>3</td>\n",
       "      <td>Sanitation Bureau</td>\n",
       "      <td>8</td>\n",
       "      <td>Phone Call</td>\n",
       "      <td>2021-10-01T00:03:11</td>\n",
       "      <td>2021-10-13T12:31:58</td>\n",
       "      <td>4539 N VISTA DEL MONTE AVE, 91403</td>\n",
       "      <td>34.154158</td>\n",
       "      <td>-118.450025</td>\n",
       "    </tr>\n",
       "    <tr>\n",
       "      <th>3</th>\n",
       "      <td>3</td>\n",
       "      <td>8612855</td>\n",
       "      <td>1-2079516331</td>\n",
       "      <td>38</td>\n",
       "      <td>Historic Cultural North</td>\n",
       "      <td>6</td>\n",
       "      <td>Illegal Dumping</td>\n",
       "      <td>3</td>\n",
       "      <td>Sanitation Bureau</td>\n",
       "      <td>3</td>\n",
       "      <td>Email</td>\n",
       "      <td>2021-10-01T00:04:14</td>\n",
       "      <td>2021-10-05T14:25:02</td>\n",
       "      <td>918 W COLLEGE ST, 90012</td>\n",
       "      <td>34.066466</td>\n",
       "      <td>-118.245113</td>\n",
       "    </tr>\n",
       "    <tr>\n",
       "      <th>4</th>\n",
       "      <td>4</td>\n",
       "      <td>8610587</td>\n",
       "      <td>1-2079516401</td>\n",
       "      <td>64</td>\n",
       "      <td>Pacoima</td>\n",
       "      <td>7</td>\n",
       "      <td>Metal/Appliances</td>\n",
       "      <td>3</td>\n",
       "      <td>Sanitation Bureau</td>\n",
       "      <td>8</td>\n",
       "      <td>Phone Call</td>\n",
       "      <td>2021-10-01T00:05:25</td>\n",
       "      <td>2021-10-08T14:16:32</td>\n",
       "      <td>11614 N HERRICK AVE, 91340</td>\n",
       "      <td>34.281312</td>\n",
       "      <td>-118.425453</td>\n",
       "    </tr>\n",
       "  </tbody>\n",
       "</table>\n",
       "</div>"
      ],
      "text/plain": [
       "   Unnamed: 0  requestId      srnumber  councilId              councilName  \\\n",
       "0           0    8610592  1-2079512481         64                  Pacoima   \n",
       "1           1    8610569  1-2079516251         64                  Pacoima   \n",
       "2           2    8610575  1-2079512561         72             Sherman Oaks   \n",
       "3           3    8612855  1-2079516331         38  Historic Cultural North   \n",
       "4           4    8610587  1-2079516401         64                  Pacoima   \n",
       "\n",
       "   typeId          typeName  agencyId         agencyName  sourceId  \\\n",
       "0       4       Bulky Items         3  Sanitation Bureau         8   \n",
       "1       5  Electronic Waste         3  Sanitation Bureau         8   \n",
       "2       4       Bulky Items         3  Sanitation Bureau         8   \n",
       "3       6   Illegal Dumping         3  Sanitation Bureau         3   \n",
       "4       7  Metal/Appliances         3  Sanitation Bureau         8   \n",
       "\n",
       "   sourceName          createdDate           closedDate  \\\n",
       "0  Phone Call  2021-10-01T00:01:14  2021-10-08T09:24:53   \n",
       "1  Phone Call  2021-10-01T00:02:19  2021-10-08T13:36:33   \n",
       "2  Phone Call  2021-10-01T00:03:11  2021-10-13T12:31:58   \n",
       "3       Email  2021-10-01T00:04:14  2021-10-05T14:25:02   \n",
       "4  Phone Call  2021-10-01T00:05:25  2021-10-08T14:16:32   \n",
       "\n",
       "                             address   latitude   longitude  \n",
       "0         11614 N HERRICK AVE, 91340  34.281312 -118.425453  \n",
       "1         11614 N HERRICK AVE, 91340  34.281312 -118.425453  \n",
       "2  4539 N VISTA DEL MONTE AVE, 91403  34.154158 -118.450025  \n",
       "3            918 W COLLEGE ST, 90012  34.066466 -118.245113  \n",
       "4         11614 N HERRICK AVE, 91340  34.281312 -118.425453  "
      ]
     },
     "execution_count": 3,
     "metadata": {},
     "output_type": "execute_result"
    }
   ],
   "source": [
    "print(df_311.shape)\n",
    "df_311.head()"
   ]
  },
  {
   "cell_type": "markdown",
   "id": "3770a52a-f861-4306-b43a-2d171185ad30",
   "metadata": {
    "tags": []
   },
   "source": [
    "# Cleaning\n",
    "---"
   ]
  },
  {
   "cell_type": "markdown",
   "id": "e1485cb1-80da-4b58-884c-0a9fa21f4e54",
   "metadata": {
    "tags": []
   },
   "source": [
    "## Arrange Columns"
   ]
  },
  {
   "cell_type": "code",
   "execution_count": 4,
   "id": "92a50bbd-4257-4bd2-9802-b0f038586af6",
   "metadata": {},
   "outputs": [
    {
     "name": "stdout",
     "output_type": "stream",
     "text": [
      "(1096525, 16)\n"
     ]
    }
   ],
   "source": [
    "print(df_311.shape)\n",
    "# df_311.head()"
   ]
  },
  {
   "cell_type": "code",
   "execution_count": 5,
   "id": "59cc831d-2121-4507-8f09-61075565d35f",
   "metadata": {},
   "outputs": [
    {
     "data": {
      "text/plain": [
       "Index(['Unnamed: 0', 'requestId', 'srnumber', 'councilId', 'councilName',\n",
       "       'typeId', 'typeName', 'agencyId', 'agencyName', 'sourceId',\n",
       "       'sourceName', 'createdDate', 'closedDate', 'address', 'latitude',\n",
       "       'longitude'],\n",
       "      dtype='object')"
      ]
     },
     "execution_count": 5,
     "metadata": {},
     "output_type": "execute_result"
    }
   ],
   "source": [
    "df_311.columns"
   ]
  },
  {
   "cell_type": "code",
   "execution_count": 6,
   "id": "246e135e-c65b-48cd-af5d-46ace2d59dac",
   "metadata": {},
   "outputs": [],
   "source": [
    "df_311 = df_311[['requestId', 'createdDate', 'closedDate', 'typeId', 'typeName', 'address', 'latitude',\n",
    "       'longitude', 'agencyId', 'agencyName', 'sourceId', 'srnumber', 'sourceName', 'councilId', 'councilName']]"
   ]
  },
  {
   "cell_type": "markdown",
   "id": "b6e82de7-b83e-44f2-bbc7-33a191a587ad",
   "metadata": {
    "tags": []
   },
   "source": [
    "## Nulls & Duplicates"
   ]
  },
  {
   "cell_type": "code",
   "execution_count": 7,
   "id": "c9bbd16a-078d-4a57-8b9d-aa3ccc806b8a",
   "metadata": {},
   "outputs": [
    {
     "name": "stdout",
     "output_type": "stream",
     "text": [
      "df shape: (1096525, 15)\n",
      "null #/total length: 0.049535578304188234\n"
     ]
    }
   ],
   "source": [
    "# check null is less than 30%\n",
    "print(f'df shape: {df_311.shape}')\n",
    "print(f'null #/total length: {(df_311.isnull().sum().sum())/len(df_311)}')"
   ]
  },
  {
   "cell_type": "code",
   "execution_count": 8,
   "id": "e568ef3c-d425-44cf-8c72-98e17dae9f68",
   "metadata": {},
   "outputs": [
    {
     "data": {
      "text/plain": [
       "(1042208, 15)"
      ]
     },
     "execution_count": 8,
     "metadata": {},
     "output_type": "execute_result"
    }
   ],
   "source": [
    "# drop if less than 30%\n",
    "df_311.dropna(inplace = True)\n",
    "df_311.shape"
   ]
  },
  {
   "cell_type": "code",
   "execution_count": 9,
   "id": "5a0e6ec0-b4dc-4563-9178-a171504ff07d",
   "metadata": {},
   "outputs": [
    {
     "name": "stdout",
     "output_type": "stream",
     "text": [
      "number of duplicates: 6\n"
     ]
    },
    {
     "data": {
      "text/html": [
       "<div>\n",
       "<style scoped>\n",
       "    .dataframe tbody tr th:only-of-type {\n",
       "        vertical-align: middle;\n",
       "    }\n",
       "\n",
       "    .dataframe tbody tr th {\n",
       "        vertical-align: top;\n",
       "    }\n",
       "\n",
       "    .dataframe thead th {\n",
       "        text-align: right;\n",
       "    }\n",
       "</style>\n",
       "<table border=\"1\" class=\"dataframe\">\n",
       "  <thead>\n",
       "    <tr style=\"text-align: right;\">\n",
       "      <th></th>\n",
       "      <th>requestId</th>\n",
       "      <th>createdDate</th>\n",
       "      <th>closedDate</th>\n",
       "      <th>typeId</th>\n",
       "      <th>typeName</th>\n",
       "      <th>address</th>\n",
       "      <th>latitude</th>\n",
       "      <th>longitude</th>\n",
       "      <th>agencyId</th>\n",
       "      <th>agencyName</th>\n",
       "      <th>sourceId</th>\n",
       "      <th>srnumber</th>\n",
       "      <th>sourceName</th>\n",
       "      <th>councilId</th>\n",
       "      <th>councilName</th>\n",
       "    </tr>\n",
       "  </thead>\n",
       "  <tbody>\n",
       "    <tr>\n",
       "      <th>96525</th>\n",
       "      <td>8810203</td>\n",
       "      <td>2021-10-27T16:10:27</td>\n",
       "      <td>2021-10-27T16:18:38</td>\n",
       "      <td>1</td>\n",
       "      <td>Graffiti</td>\n",
       "      <td>711 S COLUMBIA AVE, 90017</td>\n",
       "      <td>34.052395</td>\n",
       "      <td>-118.268942</td>\n",
       "      <td>4</td>\n",
       "      <td>Office of Community Beautification</td>\n",
       "      <td>18</td>\n",
       "      <td>1-2102413556</td>\n",
       "      <td>Work Crew</td>\n",
       "      <td>92</td>\n",
       "      <td>Westlake South</td>\n",
       "    </tr>\n",
       "    <tr>\n",
       "      <th>136525</th>\n",
       "      <td>8890322</td>\n",
       "      <td>2021-11-08T09:04:04</td>\n",
       "      <td>2021-11-08T09:06:45</td>\n",
       "      <td>1</td>\n",
       "      <td>Graffiti</td>\n",
       "      <td>800 E 28TH ST, 90011</td>\n",
       "      <td>34.018859</td>\n",
       "      <td>-118.260670</td>\n",
       "      <td>4</td>\n",
       "      <td>Office of Community Beautification</td>\n",
       "      <td>18</td>\n",
       "      <td>1-2111333835</td>\n",
       "      <td>Work Crew</td>\n",
       "      <td>74</td>\n",
       "      <td>South Central</td>\n",
       "    </tr>\n",
       "    <tr>\n",
       "      <th>506525</th>\n",
       "      <td>9593516</td>\n",
       "      <td>2022-04-04T13:57:29</td>\n",
       "      <td>2022-04-05T15:48:29</td>\n",
       "      <td>7</td>\n",
       "      <td>Metal/Appliances</td>\n",
       "      <td>720 N HALLIDAY AVE, 90049</td>\n",
       "      <td>34.074131</td>\n",
       "      <td>-118.477691</td>\n",
       "      <td>3</td>\n",
       "      <td>Sanitation Bureau</td>\n",
       "      <td>8</td>\n",
       "      <td>1-2260892061</td>\n",
       "      <td>Phone Call</td>\n",
       "      <td>0</td>\n",
       "      <td>No council</td>\n",
       "    </tr>\n",
       "    <tr>\n",
       "      <th>556526</th>\n",
       "      <td>9699741</td>\n",
       "      <td>2022-04-19T10:54:38</td>\n",
       "      <td>2022-04-19T10:56:03</td>\n",
       "      <td>1</td>\n",
       "      <td>Graffiti</td>\n",
       "      <td>1015 E MANCHESTER AVE, 90001</td>\n",
       "      <td>33.960323</td>\n",
       "      <td>-118.257181</td>\n",
       "      <td>4</td>\n",
       "      <td>Office of Community Beautification</td>\n",
       "      <td>18</td>\n",
       "      <td>1-2281808695</td>\n",
       "      <td>Work Crew</td>\n",
       "      <td>21</td>\n",
       "      <td>Empowerment Congress Southeast</td>\n",
       "    </tr>\n",
       "    <tr>\n",
       "      <th>836526</th>\n",
       "      <td>10248603</td>\n",
       "      <td>2022-07-12T11:31:16</td>\n",
       "      <td>2022-07-12T11:35:52</td>\n",
       "      <td>1</td>\n",
       "      <td>Graffiti</td>\n",
       "      <td>516 S MOTT ST, 90033</td>\n",
       "      <td>34.036386</td>\n",
       "      <td>-118.209504</td>\n",
       "      <td>4</td>\n",
       "      <td>Office of Community Beautification</td>\n",
       "      <td>18</td>\n",
       "      <td>1-2399489439</td>\n",
       "      <td>Work Crew</td>\n",
       "      <td>5</td>\n",
       "      <td>Boyle Heights</td>\n",
       "    </tr>\n",
       "    <tr>\n",
       "      <th>926528</th>\n",
       "      <td>10397670</td>\n",
       "      <td>2022-08-10T12:05:06</td>\n",
       "      <td>2022-08-10T12:14:04</td>\n",
       "      <td>1</td>\n",
       "      <td>Graffiti</td>\n",
       "      <td>5235 W MELROSE AVE, 90038</td>\n",
       "      <td>34.083632</td>\n",
       "      <td>-118.314867</td>\n",
       "      <td>4</td>\n",
       "      <td>Office of Community Beautification</td>\n",
       "      <td>18</td>\n",
       "      <td>1-2443566980</td>\n",
       "      <td>Work Crew</td>\n",
       "      <td>41</td>\n",
       "      <td>Hollywood Studio District</td>\n",
       "    </tr>\n",
       "  </tbody>\n",
       "</table>\n",
       "</div>"
      ],
      "text/plain": [
       "        requestId          createdDate           closedDate  typeId  \\\n",
       "96525     8810203  2021-10-27T16:10:27  2021-10-27T16:18:38       1   \n",
       "136525    8890322  2021-11-08T09:04:04  2021-11-08T09:06:45       1   \n",
       "506525    9593516  2022-04-04T13:57:29  2022-04-05T15:48:29       7   \n",
       "556526    9699741  2022-04-19T10:54:38  2022-04-19T10:56:03       1   \n",
       "836526   10248603  2022-07-12T11:31:16  2022-07-12T11:35:52       1   \n",
       "926528   10397670  2022-08-10T12:05:06  2022-08-10T12:14:04       1   \n",
       "\n",
       "                typeName                       address   latitude   longitude  \\\n",
       "96525           Graffiti     711 S COLUMBIA AVE, 90017  34.052395 -118.268942   \n",
       "136525          Graffiti          800 E 28TH ST, 90011  34.018859 -118.260670   \n",
       "506525  Metal/Appliances     720 N HALLIDAY AVE, 90049  34.074131 -118.477691   \n",
       "556526          Graffiti  1015 E MANCHESTER AVE, 90001  33.960323 -118.257181   \n",
       "836526          Graffiti          516 S MOTT ST, 90033  34.036386 -118.209504   \n",
       "926528          Graffiti     5235 W MELROSE AVE, 90038  34.083632 -118.314867   \n",
       "\n",
       "        agencyId                          agencyName  sourceId      srnumber  \\\n",
       "96525          4  Office of Community Beautification        18  1-2102413556   \n",
       "136525         4  Office of Community Beautification        18  1-2111333835   \n",
       "506525         3                   Sanitation Bureau         8  1-2260892061   \n",
       "556526         4  Office of Community Beautification        18  1-2281808695   \n",
       "836526         4  Office of Community Beautification        18  1-2399489439   \n",
       "926528         4  Office of Community Beautification        18  1-2443566980   \n",
       "\n",
       "        sourceName  councilId                     councilName  \n",
       "96525    Work Crew         92                  Westlake South  \n",
       "136525   Work Crew         74                   South Central  \n",
       "506525  Phone Call          0                      No council  \n",
       "556526   Work Crew         21  Empowerment Congress Southeast  \n",
       "836526   Work Crew          5                   Boyle Heights  \n",
       "926528   Work Crew         41       Hollywood Studio District  "
      ]
     },
     "execution_count": 9,
     "metadata": {},
     "output_type": "execute_result"
    }
   ],
   "source": [
    "# check duplicate request IDs\n",
    "print(f\"number of duplicates: {df_311['requestId'].duplicated().sum()}\")\n",
    "df_311[df_311['requestId'].duplicated() == True]"
   ]
  },
  {
   "cell_type": "code",
   "execution_count": 10,
   "id": "4f23a66b-5bc7-4e65-86b2-24134a123944",
   "metadata": {},
   "outputs": [
    {
     "data": {
      "text/html": [
       "<div>\n",
       "<style scoped>\n",
       "    .dataframe tbody tr th:only-of-type {\n",
       "        vertical-align: middle;\n",
       "    }\n",
       "\n",
       "    .dataframe tbody tr th {\n",
       "        vertical-align: top;\n",
       "    }\n",
       "\n",
       "    .dataframe thead th {\n",
       "        text-align: right;\n",
       "    }\n",
       "</style>\n",
       "<table border=\"1\" class=\"dataframe\">\n",
       "  <thead>\n",
       "    <tr style=\"text-align: right;\">\n",
       "      <th></th>\n",
       "      <th>requestId</th>\n",
       "      <th>createdDate</th>\n",
       "      <th>closedDate</th>\n",
       "      <th>typeId</th>\n",
       "      <th>typeName</th>\n",
       "      <th>address</th>\n",
       "      <th>latitude</th>\n",
       "      <th>longitude</th>\n",
       "      <th>agencyId</th>\n",
       "      <th>agencyName</th>\n",
       "      <th>sourceId</th>\n",
       "      <th>srnumber</th>\n",
       "      <th>sourceName</th>\n",
       "      <th>councilId</th>\n",
       "      <th>councilName</th>\n",
       "    </tr>\n",
       "  </thead>\n",
       "  <tbody>\n",
       "    <tr>\n",
       "      <th>96524</th>\n",
       "      <td>8810203</td>\n",
       "      <td>2021-10-27T16:10:27</td>\n",
       "      <td>2021-10-27T16:18:38</td>\n",
       "      <td>1</td>\n",
       "      <td>Graffiti</td>\n",
       "      <td>711 S COLUMBIA AVE, 90017</td>\n",
       "      <td>34.052395</td>\n",
       "      <td>-118.268942</td>\n",
       "      <td>4</td>\n",
       "      <td>Office of Community Beautification</td>\n",
       "      <td>18</td>\n",
       "      <td>1-2102413556</td>\n",
       "      <td>Work Crew</td>\n",
       "      <td>92</td>\n",
       "      <td>Westlake South</td>\n",
       "    </tr>\n",
       "    <tr>\n",
       "      <th>96525</th>\n",
       "      <td>8810203</td>\n",
       "      <td>2021-10-27T16:10:27</td>\n",
       "      <td>2021-10-27T16:18:38</td>\n",
       "      <td>1</td>\n",
       "      <td>Graffiti</td>\n",
       "      <td>711 S COLUMBIA AVE, 90017</td>\n",
       "      <td>34.052395</td>\n",
       "      <td>-118.268942</td>\n",
       "      <td>4</td>\n",
       "      <td>Office of Community Beautification</td>\n",
       "      <td>18</td>\n",
       "      <td>1-2102413556</td>\n",
       "      <td>Work Crew</td>\n",
       "      <td>92</td>\n",
       "      <td>Westlake South</td>\n",
       "    </tr>\n",
       "  </tbody>\n",
       "</table>\n",
       "</div>"
      ],
      "text/plain": [
       "       requestId          createdDate           closedDate  typeId  typeName  \\\n",
       "96524    8810203  2021-10-27T16:10:27  2021-10-27T16:18:38       1  Graffiti   \n",
       "96525    8810203  2021-10-27T16:10:27  2021-10-27T16:18:38       1  Graffiti   \n",
       "\n",
       "                         address   latitude   longitude  agencyId  \\\n",
       "96524  711 S COLUMBIA AVE, 90017  34.052395 -118.268942         4   \n",
       "96525  711 S COLUMBIA AVE, 90017  34.052395 -118.268942         4   \n",
       "\n",
       "                               agencyName  sourceId      srnumber sourceName  \\\n",
       "96524  Office of Community Beautification        18  1-2102413556  Work Crew   \n",
       "96525  Office of Community Beautification        18  1-2102413556  Work Crew   \n",
       "\n",
       "       councilId     councilName  \n",
       "96524         92  Westlake South  \n",
       "96525         92  Westlake South  "
      ]
     },
     "execution_count": 10,
     "metadata": {},
     "output_type": "execute_result"
    }
   ],
   "source": [
    "df_311[df_311['requestId'] == 8810203]"
   ]
  },
  {
   "cell_type": "code",
   "execution_count": 11,
   "id": "ab2feeae-cdcb-42c7-a161-92478694df4a",
   "metadata": {},
   "outputs": [
    {
     "name": "stdout",
     "output_type": "stream",
     "text": [
      "(1042202, 15)\n"
     ]
    }
   ],
   "source": [
    "# drop duplicates\n",
    "df_311.drop_duplicates(subset = 'requestId', inplace = True)\n",
    "print(df_311.shape)"
   ]
  },
  {
   "cell_type": "markdown",
   "id": "08f42c79-74e0-43bc-9d95-b91d20f57b2b",
   "metadata": {
    "tags": []
   },
   "source": [
    "## Data Types"
   ]
  },
  {
   "cell_type": "code",
   "execution_count": 12,
   "id": "e472579d-9f69-4587-bb56-532304935006",
   "metadata": {},
   "outputs": [
    {
     "data": {
      "text/plain": [
       "requestId        int64\n",
       "createdDate     object\n",
       "closedDate      object\n",
       "typeId           int64\n",
       "typeName        object\n",
       "address         object\n",
       "latitude       float64\n",
       "longitude      float64\n",
       "agencyId         int64\n",
       "agencyName      object\n",
       "sourceId         int64\n",
       "srnumber        object\n",
       "sourceName      object\n",
       "councilId        int64\n",
       "councilName     object\n",
       "dtype: object"
      ]
     },
     "execution_count": 12,
     "metadata": {},
     "output_type": "execute_result"
    }
   ],
   "source": [
    "df_311.dtypes"
   ]
  },
  {
   "cell_type": "code",
   "execution_count": 13,
   "id": "14e337b0-2294-4fc2-9995-a591cdb31b5c",
   "metadata": {},
   "outputs": [],
   "source": [
    "# Dates to datetime\n",
    "df_311['createdDate'] = pd.to_datetime(df_311['createdDate'])\n",
    "df_311['closedDate'] = pd.to_datetime(df_311['closedDate'])\n",
    "\n",
    "# councilID to object\n",
    "df_311['councilID'] = df_311['councilId'].apply(lambda x: str(x))"
   ]
  },
  {
   "cell_type": "code",
   "execution_count": 14,
   "id": "0ac6face-3f5b-4093-8564-ad65b6290cdb",
   "metadata": {},
   "outputs": [
    {
     "data": {
      "text/plain": [
       "requestId               int64\n",
       "createdDate    datetime64[ns]\n",
       "closedDate     datetime64[ns]\n",
       "typeId                  int64\n",
       "typeName               object\n",
       "address                object\n",
       "latitude              float64\n",
       "longitude             float64\n",
       "agencyId                int64\n",
       "agencyName             object\n",
       "sourceId                int64\n",
       "srnumber               object\n",
       "sourceName             object\n",
       "councilId               int64\n",
       "councilName            object\n",
       "councilID              object\n",
       "dtype: object"
      ]
     },
     "execution_count": 14,
     "metadata": {},
     "output_type": "execute_result"
    }
   ],
   "source": [
    "df_311.dtypes"
   ]
  },
  {
   "cell_type": "code",
   "execution_count": 15,
   "id": "7368eaeb-d9b0-41d2-b1db-cb10fd815d60",
   "metadata": {},
   "outputs": [
    {
     "name": "stdout",
     "output_type": "stream",
     "text": [
      "(1042202, 16)\n"
     ]
    },
    {
     "data": {
      "text/html": [
       "<div>\n",
       "<style scoped>\n",
       "    .dataframe tbody tr th:only-of-type {\n",
       "        vertical-align: middle;\n",
       "    }\n",
       "\n",
       "    .dataframe tbody tr th {\n",
       "        vertical-align: top;\n",
       "    }\n",
       "\n",
       "    .dataframe thead th {\n",
       "        text-align: right;\n",
       "    }\n",
       "</style>\n",
       "<table border=\"1\" class=\"dataframe\">\n",
       "  <thead>\n",
       "    <tr style=\"text-align: right;\">\n",
       "      <th></th>\n",
       "      <th>requestId</th>\n",
       "      <th>createdDate</th>\n",
       "      <th>closedDate</th>\n",
       "      <th>typeId</th>\n",
       "      <th>typeName</th>\n",
       "      <th>address</th>\n",
       "      <th>latitude</th>\n",
       "      <th>longitude</th>\n",
       "      <th>agencyId</th>\n",
       "      <th>agencyName</th>\n",
       "      <th>sourceId</th>\n",
       "      <th>srnumber</th>\n",
       "      <th>sourceName</th>\n",
       "      <th>councilId</th>\n",
       "      <th>councilName</th>\n",
       "      <th>councilID</th>\n",
       "    </tr>\n",
       "  </thead>\n",
       "  <tbody>\n",
       "    <tr>\n",
       "      <th>0</th>\n",
       "      <td>8610592</td>\n",
       "      <td>2021-10-01 00:01:14</td>\n",
       "      <td>2021-10-08 09:24:53</td>\n",
       "      <td>4</td>\n",
       "      <td>Bulky Items</td>\n",
       "      <td>11614 N HERRICK AVE, 91340</td>\n",
       "      <td>34.281312</td>\n",
       "      <td>-118.425453</td>\n",
       "      <td>3</td>\n",
       "      <td>Sanitation Bureau</td>\n",
       "      <td>8</td>\n",
       "      <td>1-2079512481</td>\n",
       "      <td>Phone Call</td>\n",
       "      <td>64</td>\n",
       "      <td>Pacoima</td>\n",
       "      <td>64</td>\n",
       "    </tr>\n",
       "    <tr>\n",
       "      <th>1</th>\n",
       "      <td>8610569</td>\n",
       "      <td>2021-10-01 00:02:19</td>\n",
       "      <td>2021-10-08 13:36:33</td>\n",
       "      <td>5</td>\n",
       "      <td>Electronic Waste</td>\n",
       "      <td>11614 N HERRICK AVE, 91340</td>\n",
       "      <td>34.281312</td>\n",
       "      <td>-118.425453</td>\n",
       "      <td>3</td>\n",
       "      <td>Sanitation Bureau</td>\n",
       "      <td>8</td>\n",
       "      <td>1-2079516251</td>\n",
       "      <td>Phone Call</td>\n",
       "      <td>64</td>\n",
       "      <td>Pacoima</td>\n",
       "      <td>64</td>\n",
       "    </tr>\n",
       "    <tr>\n",
       "      <th>2</th>\n",
       "      <td>8610575</td>\n",
       "      <td>2021-10-01 00:03:11</td>\n",
       "      <td>2021-10-13 12:31:58</td>\n",
       "      <td>4</td>\n",
       "      <td>Bulky Items</td>\n",
       "      <td>4539 N VISTA DEL MONTE AVE, 91403</td>\n",
       "      <td>34.154158</td>\n",
       "      <td>-118.450025</td>\n",
       "      <td>3</td>\n",
       "      <td>Sanitation Bureau</td>\n",
       "      <td>8</td>\n",
       "      <td>1-2079512561</td>\n",
       "      <td>Phone Call</td>\n",
       "      <td>72</td>\n",
       "      <td>Sherman Oaks</td>\n",
       "      <td>72</td>\n",
       "    </tr>\n",
       "    <tr>\n",
       "      <th>3</th>\n",
       "      <td>8612855</td>\n",
       "      <td>2021-10-01 00:04:14</td>\n",
       "      <td>2021-10-05 14:25:02</td>\n",
       "      <td>6</td>\n",
       "      <td>Illegal Dumping</td>\n",
       "      <td>918 W COLLEGE ST, 90012</td>\n",
       "      <td>34.066466</td>\n",
       "      <td>-118.245113</td>\n",
       "      <td>3</td>\n",
       "      <td>Sanitation Bureau</td>\n",
       "      <td>3</td>\n",
       "      <td>1-2079516331</td>\n",
       "      <td>Email</td>\n",
       "      <td>38</td>\n",
       "      <td>Historic Cultural North</td>\n",
       "      <td>38</td>\n",
       "    </tr>\n",
       "    <tr>\n",
       "      <th>4</th>\n",
       "      <td>8610587</td>\n",
       "      <td>2021-10-01 00:05:25</td>\n",
       "      <td>2021-10-08 14:16:32</td>\n",
       "      <td>7</td>\n",
       "      <td>Metal/Appliances</td>\n",
       "      <td>11614 N HERRICK AVE, 91340</td>\n",
       "      <td>34.281312</td>\n",
       "      <td>-118.425453</td>\n",
       "      <td>3</td>\n",
       "      <td>Sanitation Bureau</td>\n",
       "      <td>8</td>\n",
       "      <td>1-2079516401</td>\n",
       "      <td>Phone Call</td>\n",
       "      <td>64</td>\n",
       "      <td>Pacoima</td>\n",
       "      <td>64</td>\n",
       "    </tr>\n",
       "  </tbody>\n",
       "</table>\n",
       "</div>"
      ],
      "text/plain": [
       "   requestId         createdDate          closedDate  typeId  \\\n",
       "0    8610592 2021-10-01 00:01:14 2021-10-08 09:24:53       4   \n",
       "1    8610569 2021-10-01 00:02:19 2021-10-08 13:36:33       5   \n",
       "2    8610575 2021-10-01 00:03:11 2021-10-13 12:31:58       4   \n",
       "3    8612855 2021-10-01 00:04:14 2021-10-05 14:25:02       6   \n",
       "4    8610587 2021-10-01 00:05:25 2021-10-08 14:16:32       7   \n",
       "\n",
       "           typeName                            address   latitude   longitude  \\\n",
       "0       Bulky Items         11614 N HERRICK AVE, 91340  34.281312 -118.425453   \n",
       "1  Electronic Waste         11614 N HERRICK AVE, 91340  34.281312 -118.425453   \n",
       "2       Bulky Items  4539 N VISTA DEL MONTE AVE, 91403  34.154158 -118.450025   \n",
       "3   Illegal Dumping            918 W COLLEGE ST, 90012  34.066466 -118.245113   \n",
       "4  Metal/Appliances         11614 N HERRICK AVE, 91340  34.281312 -118.425453   \n",
       "\n",
       "   agencyId         agencyName  sourceId      srnumber  sourceName  councilId  \\\n",
       "0         3  Sanitation Bureau         8  1-2079512481  Phone Call         64   \n",
       "1         3  Sanitation Bureau         8  1-2079516251  Phone Call         64   \n",
       "2         3  Sanitation Bureau         8  1-2079512561  Phone Call         72   \n",
       "3         3  Sanitation Bureau         3  1-2079516331       Email         38   \n",
       "4         3  Sanitation Bureau         8  1-2079516401  Phone Call         64   \n",
       "\n",
       "               councilName councilID  \n",
       "0                  Pacoima        64  \n",
       "1                  Pacoima        64  \n",
       "2             Sherman Oaks        72  \n",
       "3  Historic Cultural North        38  \n",
       "4                  Pacoima        64  "
      ]
     },
     "execution_count": 15,
     "metadata": {},
     "output_type": "execute_result"
    }
   ],
   "source": [
    "print(df_311.shape)\n",
    "df_311.head()"
   ]
  },
  {
   "cell_type": "code",
   "execution_count": 16,
   "id": "51f1978e-b0ce-4039-a862-980e538ed67b",
   "metadata": {},
   "outputs": [],
   "source": [
    "df_311.to_csv('../data/clean_01Oct21_01Oct22_api.csv', index = False)"
   ]
  },
  {
   "cell_type": "code",
   "execution_count": null,
   "id": "bdf50c0f-dc63-48dc-82e1-0f173e197e60",
   "metadata": {},
   "outputs": [],
   "source": []
  }
 ],
 "metadata": {
  "kernelspec": {
   "display_name": "Python 3 (ipykernel)",
   "language": "python",
   "name": "python3"
  },
  "language_info": {
   "codemirror_mode": {
    "name": "ipython",
    "version": 3
   },
   "file_extension": ".py",
   "mimetype": "text/x-python",
   "name": "python",
   "nbconvert_exporter": "python",
   "pygments_lexer": "ipython3",
   "version": "3.9.13"
  },
  "vscode": {
   "interpreter": {
    "hash": "cc4a74134c548e3ca501d5ceaad85f423bf7ea23af0081d49e66d9434ab0cecb"
   }
  }
 },
 "nbformat": 4,
 "nbformat_minor": 5
}
