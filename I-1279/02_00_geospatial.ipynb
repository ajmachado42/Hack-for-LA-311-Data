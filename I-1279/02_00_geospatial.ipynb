{
 "cells": [
  {
   "cell_type": "markdown",
   "id": "43039261-317f-4b13-b70b-233936c9d96f",
   "metadata": {},
   "source": [
    "# For Issue 1279 | 311 Geospatial Analysis\n",
    "---\n",
    "Identify addresses or small areas that could benefit from more signage, increased community assistance, or other actions\n",
    "\n",
    "[Neighborhood Council Shapefile Source](https://data.lacity.org/City-Infrastructure-Service-Requests/Neighborhood-Councils-Certified-/fu65-dz2f) | [LA Blocks Census Shapefile Source](https://www2.census.gov/geo/tiger/TIGER2020PL/STATE/06_CALIFORNIA/06037/)"
   ]
  },
  {
   "cell_type": "markdown",
   "id": "2481e06e-7b70-465e-8707-00561ad95a8e",
   "metadata": {},
   "source": [
    "# Table of Contents\n",
    "---\n",
    "### [Package & Data Imports  ](#Package-&-Data-Imports)\n",
    "### [Data Cleaning & Geopandas Prep  ](#Data-Cleaning)\n",
    "### Folium Maps\n",
    "> #### [Neighborhood Council Choropleth  ](#Neighborhood-Council-Choropleth)\n",
    ">> #### [Type of Request by Neighborhood Council Layered Choropleths    ](#Type-of-Request-by-Neighborhood-Council-Layered-Choropleths)\n",
    "\n",
    "> #### [Block Choropleth  ](#Block-Choropleth)\n",
    "\n",
    "> #### [Neighborhood Council and Block-by-Block Layered Map  ](#Neighborhood-Council-and-Block-by-Block-Layered-Map)"
   ]
  },
  {
   "cell_type": "markdown",
   "id": "a2dcffaf-28f7-45e4-9fa8-9a611c6b1f12",
   "metadata": {
    "tags": []
   },
   "source": [
    "# Package & Data Imports\n",
    "---"
   ]
  },
  {
   "cell_type": "code",
   "execution_count": 1,
   "id": "e79a3134-deaf-446d-8e92-d4dc2414213b",
   "metadata": {},
   "outputs": [],
   "source": [
    "import pandas as pd\n",
    "import numpy as np\n",
    "import matplotlib.pyplot as plt\n",
    "import seaborn as sns\n",
    "from datetime import datetime\n",
    "\n",
    "# https://stackoverflow.com/questions/13440102/getting-bounding-box-of-city\n",
    "import geopandas as gpd\n",
    "\n",
    "# https://towardsdatascience.com/geopandas-101-plot-any-data-with-a-latitude-and-longitude-on-a-map-98e01944b972\n",
    "from shapely.geometry import Point, Polygon\n",
    "\n",
    "# https://www.analyticsvidhya.com/blog/2020/06/guide-geospatial-analysis-folium-python/\n",
    "import folium\n",
    "from branca.element import Figure\n",
    "import re\n",
    "import matplotlib\n",
    "from folium.plugins import TimeSliderChoropleth\n",
    "\n",
    "from titlecase import titlecase\n",
    "\n",
    "%matplotlib inline\n",
    "import warnings\n",
    "warnings.simplefilter(\"ignore\")\n",
    "with warnings.catch_warnings():\n",
    "    warnings.filterwarnings(\"ignore\", category=DeprecationWarning)"
   ]
  },
  {
   "cell_type": "code",
   "execution_count": 2,
   "id": "ee0f5ee5-5254-4c42-973a-d186a966fd97",
   "metadata": {},
   "outputs": [],
   "source": [
    "# 311 Data 10/01/2021-10/01/2022 from API see 01 notebook\n",
    "raw_df = pd.read_csv('./data/clean_01Oct21_01Oct22_api.csv')\n",
    "df = raw_df.copy()\n",
    "\n",
    "# https://geopandas.org/en/stable/getting_started/introduction.html\n",
    "# NC boundaries: https://data.lacity.org/City-Infrastructure-Service-Requests/Neighborhood-Councils-Certified-/fu65-dz2f\n",
    "raw_gdf_nc = gpd.read_file('./data/Neighborhood Councils (Certified)/geo_export_88bb18d9-f96c-4351-8be9-594f258ed0d3.shp')\n",
    "gdf_nc = raw_gdf_nc.copy()\n",
    "\n",
    "# Block boundaries: https://www2.census.gov/geo/tiger/TIGER2020PL/STATE/06_CALIFORNIA/06037/\n",
    "# tl_2020_06037_tabblock20.zip\n",
    "raw_gdf_blk = gpd.read_file(\"./data/tl_2020_06037_tabblock20/tl_2020_06037_tabblock20.shp\")\n",
    "gdf_blk = raw_gdf_blk.copy()"
   ]
  },
  {
   "cell_type": "code",
   "execution_count": 3,
   "id": "375a785e-022e-44e0-9d13-e1e11f21eea8",
   "metadata": {},
   "outputs": [
    {
     "name": "stdout",
     "output_type": "stream",
     "text": [
      "(1042208, 16)\n"
     ]
    },
    {
     "data": {
      "text/html": [
       "<div>\n",
       "<style scoped>\n",
       "    .dataframe tbody tr th:only-of-type {\n",
       "        vertical-align: middle;\n",
       "    }\n",
       "\n",
       "    .dataframe tbody tr th {\n",
       "        vertical-align: top;\n",
       "    }\n",
       "\n",
       "    .dataframe thead th {\n",
       "        text-align: right;\n",
       "    }\n",
       "</style>\n",
       "<table border=\"1\" class=\"dataframe\">\n",
       "  <thead>\n",
       "    <tr style=\"text-align: right;\">\n",
       "      <th></th>\n",
       "      <th>requestId</th>\n",
       "      <th>createdDate</th>\n",
       "      <th>closedDate</th>\n",
       "      <th>typeId</th>\n",
       "      <th>typeName</th>\n",
       "      <th>address</th>\n",
       "      <th>lat_lon</th>\n",
       "      <th>latitude</th>\n",
       "      <th>longitude</th>\n",
       "      <th>agencyId</th>\n",
       "      <th>agencyName</th>\n",
       "      <th>sourceId</th>\n",
       "      <th>srnumber</th>\n",
       "      <th>sourceName</th>\n",
       "      <th>councilId</th>\n",
       "      <th>councilName</th>\n",
       "    </tr>\n",
       "  </thead>\n",
       "  <tbody>\n",
       "    <tr>\n",
       "      <th>0</th>\n",
       "      <td>8610592</td>\n",
       "      <td>2021-10-01 00:01:14</td>\n",
       "      <td>2021-10-08 09:24:53</td>\n",
       "      <td>4</td>\n",
       "      <td>Bulky Items</td>\n",
       "      <td>11614 N HERRICK AVE, 91340</td>\n",
       "      <td>(34.2813123418, -118.425453201)</td>\n",
       "      <td>34.281312</td>\n",
       "      <td>-118.425453</td>\n",
       "      <td>3</td>\n",
       "      <td>Sanitation Bureau</td>\n",
       "      <td>8</td>\n",
       "      <td>1-2079512481</td>\n",
       "      <td>Phone Call</td>\n",
       "      <td>64</td>\n",
       "      <td>Pacoima</td>\n",
       "    </tr>\n",
       "  </tbody>\n",
       "</table>\n",
       "</div>"
      ],
      "text/plain": [
       "   requestId          createdDate           closedDate  typeId     typeName  \\\n",
       "0    8610592  2021-10-01 00:01:14  2021-10-08 09:24:53       4  Bulky Items   \n",
       "\n",
       "                      address                          lat_lon   latitude  \\\n",
       "0  11614 N HERRICK AVE, 91340  (34.2813123418, -118.425453201)  34.281312   \n",
       "\n",
       "    longitude  agencyId         agencyName  sourceId      srnumber  \\\n",
       "0 -118.425453         3  Sanitation Bureau         8  1-2079512481   \n",
       "\n",
       "   sourceName  councilId councilName  \n",
       "0  Phone Call         64     Pacoima  "
      ]
     },
     "execution_count": 3,
     "metadata": {},
     "output_type": "execute_result"
    }
   ],
   "source": [
    "print(df.shape)\n",
    "df.head(1)"
   ]
  },
  {
   "cell_type": "code",
   "execution_count": 4,
   "id": "de978cfa-26e1-4599-bb05-9d7c673f3afe",
   "metadata": {},
   "outputs": [
    {
     "name": "stdout",
     "output_type": "stream",
     "text": [
      "(99, 9)\n"
     ]
    },
    {
     "data": {
      "text/html": [
       "<div>\n",
       "<style scoped>\n",
       "    .dataframe tbody tr th:only-of-type {\n",
       "        vertical-align: middle;\n",
       "    }\n",
       "\n",
       "    .dataframe tbody tr th {\n",
       "        vertical-align: top;\n",
       "    }\n",
       "\n",
       "    .dataframe thead th {\n",
       "        text-align: right;\n",
       "    }\n",
       "</style>\n",
       "<table border=\"1\" class=\"dataframe\">\n",
       "  <thead>\n",
       "    <tr style=\"text-align: right;\">\n",
       "      <th></th>\n",
       "      <th>date_certi</th>\n",
       "      <th>time_certi</th>\n",
       "      <th>dwebsite</th>\n",
       "      <th>name</th>\n",
       "      <th>nc_id</th>\n",
       "      <th>objectid</th>\n",
       "      <th>service_re</th>\n",
       "      <th>waddress</th>\n",
       "      <th>geometry</th>\n",
       "    </tr>\n",
       "  </thead>\n",
       "  <tbody>\n",
       "    <tr>\n",
       "      <th>0</th>\n",
       "      <td>2002-10-22</td>\n",
       "      <td>00:00:00.000</td>\n",
       "      <td>http://empowerla.org/ANC</td>\n",
       "      <td>ARLETA NC</td>\n",
       "      <td>6.0</td>\n",
       "      <td>1.0</td>\n",
       "      <td>REGION 1 - NORTH EAST VALLEY</td>\n",
       "      <td>http://www.arletanc.org/</td>\n",
       "      <td>POLYGON ((-118.45005 34.24992, -118.45055 34.2...</td>\n",
       "    </tr>\n",
       "  </tbody>\n",
       "</table>\n",
       "</div>"
      ],
      "text/plain": [
       "   date_certi    time_certi                  dwebsite       name  nc_id  \\\n",
       "0  2002-10-22  00:00:00.000  http://empowerla.org/ANC  ARLETA NC    6.0   \n",
       "\n",
       "   objectid                    service_re                  waddress  \\\n",
       "0       1.0  REGION 1 - NORTH EAST VALLEY  http://www.arletanc.org/   \n",
       "\n",
       "                                            geometry  \n",
       "0  POLYGON ((-118.45005 34.24992, -118.45055 34.2...  "
      ]
     },
     "execution_count": 4,
     "metadata": {},
     "output_type": "execute_result"
    }
   ],
   "source": [
    "print(gdf_nc.shape)\n",
    "gdf_nc.head(1)"
   ]
  },
  {
   "cell_type": "code",
   "execution_count": 5,
   "id": "36775ce8-2321-433b-9694-55e4bca09f57",
   "metadata": {},
   "outputs": [
    {
     "name": "stdout",
     "output_type": "stream",
     "text": [
      "(91626, 16)\n"
     ]
    },
    {
     "data": {
      "text/html": [
       "<div>\n",
       "<style scoped>\n",
       "    .dataframe tbody tr th:only-of-type {\n",
       "        vertical-align: middle;\n",
       "    }\n",
       "\n",
       "    .dataframe tbody tr th {\n",
       "        vertical-align: top;\n",
       "    }\n",
       "\n",
       "    .dataframe thead th {\n",
       "        text-align: right;\n",
       "    }\n",
       "</style>\n",
       "<table border=\"1\" class=\"dataframe\">\n",
       "  <thead>\n",
       "    <tr style=\"text-align: right;\">\n",
       "      <th></th>\n",
       "      <th>STATEFP20</th>\n",
       "      <th>COUNTYFP20</th>\n",
       "      <th>TRACTCE20</th>\n",
       "      <th>BLOCKCE20</th>\n",
       "      <th>GEOID20</th>\n",
       "      <th>NAME20</th>\n",
       "      <th>MTFCC20</th>\n",
       "      <th>UR20</th>\n",
       "      <th>UACE20</th>\n",
       "      <th>UATYPE20</th>\n",
       "      <th>FUNCSTAT20</th>\n",
       "      <th>ALAND20</th>\n",
       "      <th>AWATER20</th>\n",
       "      <th>INTPTLAT20</th>\n",
       "      <th>INTPTLON20</th>\n",
       "      <th>geometry</th>\n",
       "    </tr>\n",
       "  </thead>\n",
       "  <tbody>\n",
       "    <tr>\n",
       "      <th>0</th>\n",
       "      <td>06</td>\n",
       "      <td>037</td>\n",
       "      <td>109300</td>\n",
       "      <td>2015</td>\n",
       "      <td>060371093002015</td>\n",
       "      <td>Block 2015</td>\n",
       "      <td>G5040</td>\n",
       "      <td>None</td>\n",
       "      <td>None</td>\n",
       "      <td>None</td>\n",
       "      <td>S</td>\n",
       "      <td>17913</td>\n",
       "      <td>0</td>\n",
       "      <td>+34.2673969</td>\n",
       "      <td>-118.4797070</td>\n",
       "      <td>POLYGON ((-118.48022 34.26741, -118.48021 34.2...</td>\n",
       "    </tr>\n",
       "  </tbody>\n",
       "</table>\n",
       "</div>"
      ],
      "text/plain": [
       "  STATEFP20 COUNTYFP20 TRACTCE20 BLOCKCE20          GEOID20      NAME20  \\\n",
       "0        06        037    109300      2015  060371093002015  Block 2015   \n",
       "\n",
       "  MTFCC20  UR20 UACE20 UATYPE20 FUNCSTAT20  ALAND20  AWATER20   INTPTLAT20  \\\n",
       "0   G5040  None   None     None          S    17913         0  +34.2673969   \n",
       "\n",
       "     INTPTLON20                                           geometry  \n",
       "0  -118.4797070  POLYGON ((-118.48022 34.26741, -118.48021 34.2...  "
      ]
     },
     "execution_count": 5,
     "metadata": {},
     "output_type": "execute_result"
    }
   ],
   "source": [
    "print(gdf_blk.shape)\n",
    "gdf_blk.head(1)"
   ]
  },
  {
   "cell_type": "markdown",
   "id": "6170ec5c-713d-42d4-981e-5ea10f58c03f",
   "metadata": {
    "tags": []
   },
   "source": [
    "# Data Cleaning\n",
    "---"
   ]
  },
  {
   "cell_type": "markdown",
   "id": "42e4698e-0504-46cd-b974-4a02713739b5",
   "metadata": {
    "tags": []
   },
   "source": [
    "## Checking Consistency Between gdf_nc and df\n",
    "#### To Note:\n",
    "- df['councilID'] == gdf['objectiid']\n",
    "- df contains a 0 ID for No Council"
   ]
  },
  {
   "cell_type": "code",
   "execution_count": 6,
   "id": "0fd2eb72-2bc9-455b-8348-4516152ab108",
   "metadata": {},
   "outputs": [],
   "source": [
    "# gdf_nc"
   ]
  },
  {
   "cell_type": "code",
   "execution_count": 7,
   "id": "5f595ad3-364a-441f-a60f-49bbb522b747",
   "metadata": {},
   "outputs": [],
   "source": [
    "# gdf_nc.sort_values(by = 'objectid')"
   ]
  },
  {
   "cell_type": "code",
   "execution_count": 8,
   "id": "6e849f49-bc88-40c5-8015-0306029917e6",
   "metadata": {},
   "outputs": [],
   "source": [
    "# df[df['councilId'] == 27]"
   ]
  },
  {
   "cell_type": "code",
   "execution_count": 9,
   "id": "f6ba19f9-f968-45d7-8e1e-20a7275dd7dc",
   "metadata": {},
   "outputs": [],
   "source": [
    "# gdf_nc[gdf_nc['objectid'] == 27]"
   ]
  },
  {
   "cell_type": "markdown",
   "id": "f88b084c-0796-49eb-ac90-eac622666397",
   "metadata": {
    "tags": []
   },
   "source": [
    "## Geopandas - Neighborhood Council and Blocks - Spatial Join"
   ]
  },
  {
   "cell_type": "code",
   "execution_count": 10,
   "id": "85ea8e4b-a13c-4320-a3b9-0e61936b6e7b",
   "metadata": {},
   "outputs": [
    {
     "name": "stdout",
     "output_type": "stream",
     "text": [
      "(99, 3)\n"
     ]
    },
    {
     "data": {
      "text/html": [
       "<div>\n",
       "<style scoped>\n",
       "    .dataframe tbody tr th:only-of-type {\n",
       "        vertical-align: middle;\n",
       "    }\n",
       "\n",
       "    .dataframe tbody tr th {\n",
       "        vertical-align: top;\n",
       "    }\n",
       "\n",
       "    .dataframe thead th {\n",
       "        text-align: right;\n",
       "    }\n",
       "</style>\n",
       "<table border=\"1\" class=\"dataframe\">\n",
       "  <thead>\n",
       "    <tr style=\"text-align: right;\">\n",
       "      <th></th>\n",
       "      <th>name</th>\n",
       "      <th>objectid</th>\n",
       "      <th>geometry</th>\n",
       "    </tr>\n",
       "  </thead>\n",
       "  <tbody>\n",
       "    <tr>\n",
       "      <th>0</th>\n",
       "      <td>Arleta</td>\n",
       "      <td>1</td>\n",
       "      <td>POLYGON ((-118.45005 34.24992, -118.45055 34.2...</td>\n",
       "    </tr>\n",
       "    <tr>\n",
       "      <th>1</th>\n",
       "      <td>Arroyo Seco</td>\n",
       "      <td>2</td>\n",
       "      <td>POLYGON ((-118.22325 34.10393, -118.22367 34.1...</td>\n",
       "    </tr>\n",
       "    <tr>\n",
       "      <th>2</th>\n",
       "      <td>Atwater Village</td>\n",
       "      <td>3</td>\n",
       "      <td>POLYGON ((-118.27576 34.15376, -118.26184 34.1...</td>\n",
       "    </tr>\n",
       "    <tr>\n",
       "      <th>3</th>\n",
       "      <td>Bel Air-Beverly Crest</td>\n",
       "      <td>4</td>\n",
       "      <td>POLYGON ((-118.47485 34.12634, -118.47411 34.1...</td>\n",
       "    </tr>\n",
       "    <tr>\n",
       "      <th>4</th>\n",
       "      <td>Boyle Heights</td>\n",
       "      <td>5</td>\n",
       "      <td>POLYGON ((-118.21439 34.06063, -118.21303 34.0...</td>\n",
       "    </tr>\n",
       "  </tbody>\n",
       "</table>\n",
       "</div>"
      ],
      "text/plain": [
       "                    name  objectid  \\\n",
       "0                 Arleta         1   \n",
       "1            Arroyo Seco         2   \n",
       "2        Atwater Village         3   \n",
       "3  Bel Air-Beverly Crest         4   \n",
       "4          Boyle Heights         5   \n",
       "\n",
       "                                            geometry  \n",
       "0  POLYGON ((-118.45005 34.24992, -118.45055 34.2...  \n",
       "1  POLYGON ((-118.22325 34.10393, -118.22367 34.1...  \n",
       "2  POLYGON ((-118.27576 34.15376, -118.26184 34.1...  \n",
       "3  POLYGON ((-118.47485 34.12634, -118.47411 34.1...  \n",
       "4  POLYGON ((-118.21439 34.06063, -118.21303 34.0...  "
      ]
     },
     "execution_count": 10,
     "metadata": {},
     "output_type": "execute_result"
    }
   ],
   "source": [
    "# Neighborhood Council\n",
    "# get necessary columns; objectid = councilId\n",
    "gdf_nc = gdf_nc[['name', 'objectid', 'geometry']].sort_values(by = 'objectid').reset_index(drop = True)\n",
    "\n",
    "# format data\n",
    "gdf_nc['name'] = gdf_nc['name'].apply(lambda x: titlecase(x.strip(' NC')))\n",
    "gdf_nc['objectid'] = gdf_nc['objectid'].apply(lambda x: int(x))\n",
    "\n",
    "print(gdf_nc.shape)\n",
    "gdf_nc.head()"
   ]
  },
  {
   "cell_type": "code",
   "execution_count": 11,
   "id": "0335524c-487b-46a7-9628-200730f4404f",
   "metadata": {},
   "outputs": [
    {
     "name": "stdout",
     "output_type": "stream",
     "text": [
      "(91626, 5)\n"
     ]
    },
    {
     "data": {
      "text/html": [
       "<div>\n",
       "<style scoped>\n",
       "    .dataframe tbody tr th:only-of-type {\n",
       "        vertical-align: middle;\n",
       "    }\n",
       "\n",
       "    .dataframe tbody tr th {\n",
       "        vertical-align: top;\n",
       "    }\n",
       "\n",
       "    .dataframe thead th {\n",
       "        text-align: right;\n",
       "    }\n",
       "</style>\n",
       "<table border=\"1\" class=\"dataframe\">\n",
       "  <thead>\n",
       "    <tr style=\"text-align: right;\">\n",
       "      <th></th>\n",
       "      <th>GEOID20</th>\n",
       "      <th>geometry</th>\n",
       "      <th>NAME20</th>\n",
       "      <th>TRACTCE20</th>\n",
       "      <th>COUNTYFP20</th>\n",
       "    </tr>\n",
       "  </thead>\n",
       "  <tbody>\n",
       "    <tr>\n",
       "      <th>0</th>\n",
       "      <td>060371093002015</td>\n",
       "      <td>POLYGON ((-118.48022 34.26741, -118.48021 34.2...</td>\n",
       "      <td>Block 2015</td>\n",
       "      <td>109300</td>\n",
       "      <td>037</td>\n",
       "    </tr>\n",
       "  </tbody>\n",
       "</table>\n",
       "</div>"
      ],
      "text/plain": [
       "           GEOID20                                           geometry  \\\n",
       "0  060371093002015  POLYGON ((-118.48022 34.26741, -118.48021 34.2...   \n",
       "\n",
       "       NAME20 TRACTCE20 COUNTYFP20  \n",
       "0  Block 2015    109300        037  "
      ]
     },
     "execution_count": 11,
     "metadata": {},
     "output_type": "execute_result"
    }
   ],
   "source": [
    "# Blocks\n",
    "gdf_blk = gdf_blk[['GEOID20', 'geometry', 'NAME20', 'TRACTCE20', 'COUNTYFP20']]\n",
    "print(gdf_blk.shape)\n",
    "gdf_blk.head(1)"
   ]
  },
  {
   "cell_type": "code",
   "execution_count": 12,
   "id": "21fc893f-8816-41e3-aabe-4dbdae12e7b8",
   "metadata": {},
   "outputs": [
    {
     "data": {
      "text/plain": [
       "060371093002015    1\n",
       "060379203421001    1\n",
       "060379203261025    1\n",
       "060379203031015    1\n",
       "060379304002025    1\n",
       "Name: GEOID20, dtype: int64"
      ]
     },
     "execution_count": 12,
     "metadata": {},
     "output_type": "execute_result"
    }
   ],
   "source": [
    "# confirming unique ID is 'GEOID20'\n",
    "gdf_blk['GEOID20'].value_counts(ascending = False).head()"
   ]
  },
  {
   "cell_type": "code",
   "execution_count": 13,
   "id": "c3be3f18-42ba-41a6-8eb2-b4699c7cfa3f",
   "metadata": {},
   "outputs": [],
   "source": [
    "# spatial join of blocks and neighborhood councils\n",
    "gdf_blk_nc = gpd.sjoin(gdf_blk, gdf_nc, how = 'inner', op = 'within')\n",
    "gdf_blk_nc = gdf_blk_nc[['objectid', 'name', 'GEOID20', 'geometry']]\n",
    "gdf_blk_nc['objectid'] = gdf_blk_nc['objectid'].apply(lambda x: int(x))\n",
    "gdf_blk_nc.rename(columns = {'objectid': 'councilId'}, inplace = True)"
   ]
  },
  {
   "cell_type": "code",
   "execution_count": 14,
   "id": "ebc62ca2-a230-4271-bbd5-a76a98e5d7ac",
   "metadata": {},
   "outputs": [
    {
     "name": "stdout",
     "output_type": "stream",
     "text": [
      "(23836, 4)\n"
     ]
    },
    {
     "data": {
      "text/html": [
       "<div>\n",
       "<style scoped>\n",
       "    .dataframe tbody tr th:only-of-type {\n",
       "        vertical-align: middle;\n",
       "    }\n",
       "\n",
       "    .dataframe tbody tr th {\n",
       "        vertical-align: top;\n",
       "    }\n",
       "\n",
       "    .dataframe thead th {\n",
       "        text-align: right;\n",
       "    }\n",
       "</style>\n",
       "<table border=\"1\" class=\"dataframe\">\n",
       "  <thead>\n",
       "    <tr style=\"text-align: right;\">\n",
       "      <th></th>\n",
       "      <th>councilId</th>\n",
       "      <th>name</th>\n",
       "      <th>GEOID20</th>\n",
       "      <th>geometry</th>\n",
       "    </tr>\n",
       "  </thead>\n",
       "  <tbody>\n",
       "    <tr>\n",
       "      <th>0</th>\n",
       "      <td>27</td>\n",
       "      <td>Granada Hills North</td>\n",
       "      <td>060371093002015</td>\n",
       "      <td>POLYGON ((-118.48022 34.26741, -118.48021 34.2...</td>\n",
       "    </tr>\n",
       "  </tbody>\n",
       "</table>\n",
       "</div>"
      ],
      "text/plain": [
       "   councilId                 name          GEOID20  \\\n",
       "0         27  Granada Hills North  060371093002015   \n",
       "\n",
       "                                            geometry  \n",
       "0  POLYGON ((-118.48022 34.26741, -118.48021 34.2...  "
      ]
     },
     "execution_count": 14,
     "metadata": {},
     "output_type": "execute_result"
    }
   ],
   "source": [
    "print(gdf_blk_nc.shape)\n",
    "gdf_blk_nc.head(1)"
   ]
  },
  {
   "cell_type": "code",
   "execution_count": 34,
   "id": "106faa3b-e3e0-4226-8f89-9e51fad97e09",
   "metadata": {},
   "outputs": [],
   "source": [
    "# Save request data with block IDs csv and shp\n",
    "gdf_blk_nc.to_csv('data/clean_01Oct21_01Oct22_nc_blk.csv', index = False)\n",
    "gdf_blk_nc.to_file('data/SHAPE-clean_01Oct21_01Oct22_nc_blk/clean_01Oct21_01Oct22_nc_blk.geojson', driver='GeoJSON')"
   ]
  },
  {
   "cell_type": "markdown",
   "id": "b27a1bd9-7092-4cd4-96a9-380c6385deb4",
   "metadata": {
    "tags": []
   },
   "source": [
    "## Spatial Join of 311 Request Data and Block-Neighborhood Council"
   ]
  },
  {
   "cell_type": "code",
   "execution_count": 16,
   "id": "3745a4d9-999f-41ea-8843-97c7e6440573",
   "metadata": {},
   "outputs": [],
   "source": [
    "# https://towardsdatascience.com/geopandas-101-plot-any-data-with-a-latitude-and-longitude-on-a-map-98e01944b972"
   ]
  },
  {
   "cell_type": "code",
   "execution_count": 17,
   "id": "b293bb60-ed5e-4b36-b72d-8bb1f673fbfe",
   "metadata": {},
   "outputs": [
    {
     "data": {
      "text/html": [
       "<div>\n",
       "<style scoped>\n",
       "    .dataframe tbody tr th:only-of-type {\n",
       "        vertical-align: middle;\n",
       "    }\n",
       "\n",
       "    .dataframe tbody tr th {\n",
       "        vertical-align: top;\n",
       "    }\n",
       "\n",
       "    .dataframe thead th {\n",
       "        text-align: right;\n",
       "    }\n",
       "</style>\n",
       "<table border=\"1\" class=\"dataframe\">\n",
       "  <thead>\n",
       "    <tr style=\"text-align: right;\">\n",
       "      <th></th>\n",
       "      <th>requestId</th>\n",
       "      <th>createdDate</th>\n",
       "      <th>closedDate</th>\n",
       "      <th>typeId</th>\n",
       "      <th>typeName</th>\n",
       "      <th>address</th>\n",
       "      <th>lat_lon</th>\n",
       "      <th>latitude</th>\n",
       "      <th>longitude</th>\n",
       "      <th>agencyId</th>\n",
       "      <th>agencyName</th>\n",
       "      <th>sourceId</th>\n",
       "      <th>srnumber</th>\n",
       "      <th>sourceName</th>\n",
       "      <th>councilId</th>\n",
       "      <th>councilName</th>\n",
       "    </tr>\n",
       "  </thead>\n",
       "  <tbody>\n",
       "    <tr>\n",
       "      <th>0</th>\n",
       "      <td>8610592</td>\n",
       "      <td>2021-10-01 00:01:14</td>\n",
       "      <td>2021-10-08 09:24:53</td>\n",
       "      <td>4</td>\n",
       "      <td>Bulky Items</td>\n",
       "      <td>11614 N HERRICK AVE, 91340</td>\n",
       "      <td>(34.2813123418, -118.425453201)</td>\n",
       "      <td>34.281312</td>\n",
       "      <td>-118.425453</td>\n",
       "      <td>3</td>\n",
       "      <td>Sanitation Bureau</td>\n",
       "      <td>8</td>\n",
       "      <td>1-2079512481</td>\n",
       "      <td>Phone Call</td>\n",
       "      <td>64</td>\n",
       "      <td>Pacoima</td>\n",
       "    </tr>\n",
       "  </tbody>\n",
       "</table>\n",
       "</div>"
      ],
      "text/plain": [
       "   requestId          createdDate           closedDate  typeId     typeName  \\\n",
       "0    8610592  2021-10-01 00:01:14  2021-10-08 09:24:53       4  Bulky Items   \n",
       "\n",
       "                      address                          lat_lon   latitude  \\\n",
       "0  11614 N HERRICK AVE, 91340  (34.2813123418, -118.425453201)  34.281312   \n",
       "\n",
       "    longitude  agencyId         agencyName  sourceId      srnumber  \\\n",
       "0 -118.425453         3  Sanitation Bureau         8  1-2079512481   \n",
       "\n",
       "   sourceName  councilId councilName  \n",
       "0  Phone Call         64     Pacoima  "
      ]
     },
     "execution_count": 17,
     "metadata": {},
     "output_type": "execute_result"
    }
   ],
   "source": [
    "df.head(1)"
   ]
  },
  {
   "cell_type": "code",
   "execution_count": 18,
   "id": "8b3eb215-d2e9-4920-862b-08e096938c39",
   "metadata": {},
   "outputs": [
    {
     "data": {
      "text/plain": [
       "[<shapely.geometry.point.Point at 0x1505d3190>,\n",
       " <shapely.geometry.point.Point at 0x1505d3220>,\n",
       " <shapely.geometry.point.Point at 0x1505d3280>]"
      ]
     },
     "execution_count": 18,
     "metadata": {},
     "output_type": "execute_result"
    }
   ],
   "source": [
    "# get points from longitude, latitude in df\n",
    "geometry = [Point(xy) for xy in zip(df['longitude'], df['latitude'])]\n",
    "geometry[:3]"
   ]
  },
  {
   "cell_type": "code",
   "execution_count": 19,
   "id": "ca3157c4-0436-4ed7-a64f-3565ef151e78",
   "metadata": {},
   "outputs": [],
   "source": [
    "# assign crs value and create GeoDataframe from 311 Requests df with Points geometry variable\n",
    "crs = {'init': 'epsg:4326'}\n",
    "df_geo = gpd.GeoDataFrame(df, crs = crs, geometry = geometry)"
   ]
  },
  {
   "cell_type": "code",
   "execution_count": 20,
   "id": "918d4251-bd18-4c13-9552-0f53ab0733e1",
   "metadata": {},
   "outputs": [
    {
     "data": {
      "text/plain": [
       "(1042202, 17)"
      ]
     },
     "execution_count": 20,
     "metadata": {},
     "output_type": "execute_result"
    }
   ],
   "source": [
    "# Check for duplicates (duplicates exist in original dataframe)\n",
    "df_geo.drop_duplicates(subset = ['requestId']).shape"
   ]
  },
  {
   "cell_type": "code",
   "execution_count": 21,
   "id": "3aa99dcd-36f3-4284-a6f8-6a011df68669",
   "metadata": {},
   "outputs": [],
   "source": [
    "# spatial join of addresses and blocks (and nc)\n",
    "df_blk_nc = gpd.sjoin(df_geo, gdf_blk_nc, how=\"inner\", op='within')\n",
    "df_blk_nc = df_blk_nc[['requestId', 'createdDate', 'closedDate', 'typeId', 'typeName',\n",
    "       'address', 'councilId_left', 'councilName', 'geometry','GEOID20']]\n",
    "df_blk_nc.rename(columns = {'councilId_left': 'councilId'}, inplace = True)\n",
    "df_blk_nc.reset_index(drop = True, inplace = True)"
   ]
  },
  {
   "cell_type": "code",
   "execution_count": 22,
   "id": "2ae5c3b6-beed-497d-9b7b-b117a83a31c5",
   "metadata": {},
   "outputs": [
    {
     "name": "stdout",
     "output_type": "stream",
     "text": [
      "df_blk_nc shape: (881694, 10)\n",
      "df shape: (1042208, 17)\n"
     ]
    },
    {
     "data": {
      "text/html": [
       "<div>\n",
       "<style scoped>\n",
       "    .dataframe tbody tr th:only-of-type {\n",
       "        vertical-align: middle;\n",
       "    }\n",
       "\n",
       "    .dataframe tbody tr th {\n",
       "        vertical-align: top;\n",
       "    }\n",
       "\n",
       "    .dataframe thead th {\n",
       "        text-align: right;\n",
       "    }\n",
       "</style>\n",
       "<table border=\"1\" class=\"dataframe\">\n",
       "  <thead>\n",
       "    <tr style=\"text-align: right;\">\n",
       "      <th></th>\n",
       "      <th>requestId</th>\n",
       "      <th>createdDate</th>\n",
       "      <th>closedDate</th>\n",
       "      <th>typeId</th>\n",
       "      <th>typeName</th>\n",
       "      <th>address</th>\n",
       "      <th>councilId</th>\n",
       "      <th>councilName</th>\n",
       "      <th>geometry</th>\n",
       "      <th>GEOID20</th>\n",
       "    </tr>\n",
       "  </thead>\n",
       "  <tbody>\n",
       "    <tr>\n",
       "      <th>0</th>\n",
       "      <td>8610592</td>\n",
       "      <td>2021-10-01 00:01:14</td>\n",
       "      <td>2021-10-08 09:24:53</td>\n",
       "      <td>4</td>\n",
       "      <td>Bulky Items</td>\n",
       "      <td>11614 N HERRICK AVE, 91340</td>\n",
       "      <td>64</td>\n",
       "      <td>Pacoima</td>\n",
       "      <td>POINT (-118.42545 34.28131)</td>\n",
       "      <td>060371043101005</td>\n",
       "    </tr>\n",
       "    <tr>\n",
       "      <th>1</th>\n",
       "      <td>8610569</td>\n",
       "      <td>2021-10-01 00:02:19</td>\n",
       "      <td>2021-10-08 13:36:33</td>\n",
       "      <td>5</td>\n",
       "      <td>Electronic Waste</td>\n",
       "      <td>11614 N HERRICK AVE, 91340</td>\n",
       "      <td>64</td>\n",
       "      <td>Pacoima</td>\n",
       "      <td>POINT (-118.42545 34.28131)</td>\n",
       "      <td>060371043101005</td>\n",
       "    </tr>\n",
       "    <tr>\n",
       "      <th>2</th>\n",
       "      <td>8610587</td>\n",
       "      <td>2021-10-01 00:05:25</td>\n",
       "      <td>2021-10-08 14:16:32</td>\n",
       "      <td>7</td>\n",
       "      <td>Metal/Appliances</td>\n",
       "      <td>11614 N HERRICK AVE, 91340</td>\n",
       "      <td>64</td>\n",
       "      <td>Pacoima</td>\n",
       "      <td>POINT (-118.42545 34.28131)</td>\n",
       "      <td>060371043101005</td>\n",
       "    </tr>\n",
       "    <tr>\n",
       "      <th>3</th>\n",
       "      <td>8611847</td>\n",
       "      <td>2021-10-01 07:22:13</td>\n",
       "      <td>2021-10-08 09:24:45</td>\n",
       "      <td>6</td>\n",
       "      <td>Illegal Dumping</td>\n",
       "      <td>11614 N HERRICK AVE, 91340</td>\n",
       "      <td>64</td>\n",
       "      <td>Pacoima</td>\n",
       "      <td>POINT (-118.42545 34.28131)</td>\n",
       "      <td>060371043101005</td>\n",
       "    </tr>\n",
       "    <tr>\n",
       "      <th>4</th>\n",
       "      <td>8658809</td>\n",
       "      <td>2021-10-06 21:11:45</td>\n",
       "      <td>2021-10-08 11:11:52</td>\n",
       "      <td>7</td>\n",
       "      <td>Metal/Appliances</td>\n",
       "      <td>13333 W DEL SUR ST, 91340</td>\n",
       "      <td>64</td>\n",
       "      <td>Pacoima</td>\n",
       "      <td>POINT (-118.42380 34.28216)</td>\n",
       "      <td>060371043101005</td>\n",
       "    </tr>\n",
       "  </tbody>\n",
       "</table>\n",
       "</div>"
      ],
      "text/plain": [
       "   requestId          createdDate           closedDate  typeId  \\\n",
       "0    8610592  2021-10-01 00:01:14  2021-10-08 09:24:53       4   \n",
       "1    8610569  2021-10-01 00:02:19  2021-10-08 13:36:33       5   \n",
       "2    8610587  2021-10-01 00:05:25  2021-10-08 14:16:32       7   \n",
       "3    8611847  2021-10-01 07:22:13  2021-10-08 09:24:45       6   \n",
       "4    8658809  2021-10-06 21:11:45  2021-10-08 11:11:52       7   \n",
       "\n",
       "           typeName                     address  councilId councilName  \\\n",
       "0       Bulky Items  11614 N HERRICK AVE, 91340         64     Pacoima   \n",
       "1  Electronic Waste  11614 N HERRICK AVE, 91340         64     Pacoima   \n",
       "2  Metal/Appliances  11614 N HERRICK AVE, 91340         64     Pacoima   \n",
       "3   Illegal Dumping  11614 N HERRICK AVE, 91340         64     Pacoima   \n",
       "4  Metal/Appliances   13333 W DEL SUR ST, 91340         64     Pacoima   \n",
       "\n",
       "                      geometry          GEOID20  \n",
       "0  POINT (-118.42545 34.28131)  060371043101005  \n",
       "1  POINT (-118.42545 34.28131)  060371043101005  \n",
       "2  POINT (-118.42545 34.28131)  060371043101005  \n",
       "3  POINT (-118.42545 34.28131)  060371043101005  \n",
       "4  POINT (-118.42380 34.28216)  060371043101005  "
      ]
     },
     "execution_count": 22,
     "metadata": {},
     "output_type": "execute_result"
    }
   ],
   "source": [
    "print(f'df_blk_nc shape: {df_blk_nc.shape}')\n",
    "print(f'df shape: {df.shape}')\n",
    "df_blk_nc.head()"
   ]
  },
  {
   "cell_type": "code",
   "execution_count": 23,
   "id": "798b2d23-1b08-42be-b3a3-e6de482ef284",
   "metadata": {},
   "outputs": [
    {
     "name": "stdout",
     "output_type": "stream",
     "text": [
      "True\n"
     ]
    },
    {
     "data": {
      "text/plain": [
       "(881492, 10)"
      ]
     },
     "execution_count": 23,
     "metadata": {},
     "output_type": "execute_result"
    }
   ],
   "source": [
    "######################## Check on duplicates in next team meeting\n",
    "print(df_blk_nc.duplicated(subset = ['requestId']).any())\n",
    "df_blk_nc.drop_duplicates(subset = ['requestId']).shape"
   ]
  },
  {
   "cell_type": "code",
   "execution_count": 33,
   "id": "d293bca3-a2fb-4326-910b-c5146586e3a5",
   "metadata": {},
   "outputs": [],
   "source": [
    "# Save request data with block IDs csv and shp\n",
    "df_blk_nc.to_csv('data/clean_01Oct21_01Oct22_nc_blk_req.csv', index = False)\n",
    "df_blk_nc.to_file('data/SHAPE-clean_01Oct21_01Oct22_nc_blk_req /clean_01Oct21_01Oct22_nc_blk_req.shp') "
   ]
  },
  {
   "cell_type": "code",
   "execution_count": 27,
   "id": "018d688c-36b0-4c40-b7be-6c86e045740f",
   "metadata": {},
   "outputs": [
    {
     "data": {
      "text/plain": [
       "060371911102000    886\n",
       "060371271022000    611\n",
       "060372060501000    601\n",
       "060371272103008    507\n",
       "060371911201001    498\n",
       "                  ... \n",
       "060372380003014      1\n",
       "060371066452007      1\n",
       "060371284001000      1\n",
       "060372611021010      1\n",
       "060372117013003      1\n",
       "Name: GEOID20, Length: 22263, dtype: int64"
      ]
     },
     "execution_count": 29,
     "metadata": {},
     "output_type": "execute_result"
    }
   ],
   "source": [
    "df_blk_nc['GEOID20'].value_counts()"
   ]
  },
  {
   "cell_type": "code",
   "execution_count": null,
   "id": "a285ef27-2f69-4c4b-ae22-cade0f6ef5fd",
   "metadata": {},
   "outputs": [],
   "source": []
  }
 ],
 "metadata": {
  "kernelspec": {
   "display_name": "Python 3 (ipykernel)",
   "language": "python",
   "name": "python3"
  },
  "language_info": {
   "codemirror_mode": {
    "name": "ipython",
    "version": 3
   },
   "file_extension": ".py",
   "mimetype": "text/x-python",
   "name": "python",
   "nbconvert_exporter": "python",
   "pygments_lexer": "ipython3",
   "version": "3.9.13"
  },
  "vscode": {
   "interpreter": {
    "hash": "cc4a74134c548e3ca501d5ceaad85f423bf7ea23af0081d49e66d9434ab0cecb"
   }
  }
 },
 "nbformat": 4,
 "nbformat_minor": 5
}
