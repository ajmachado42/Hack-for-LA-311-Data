{
 "cells": [
  {
   "cell_type": "markdown",
   "id": "2734e6ec-3a6e-4a0f-85fe-4db1805de035",
   "metadata": {},
   "source": [
    "# 01.02 Exploratory Data Analysis: Block-by-Block (311 Requests Merged w/ Block Geometries)\n",
    "## Issue 1279\n",
    "---"
   ]
  },
  {
   "cell_type": "markdown",
   "id": "77301dd5-b599-4902-8da6-8570a7e56903",
   "metadata": {
    "tags": []
   },
   "source": [
    "# Package & Data Imports\n",
    "-----"
   ]
  },
  {
   "cell_type": "code",
   "execution_count": 1,
   "id": "ba95c793-a093-432c-b38a-cd9ba5434848",
   "metadata": {},
   "outputs": [],
   "source": [
    "import pandas as pd\n",
    "from pandas import json_normalize\n",
    "import numpy as np\n",
    "import seaborn as sns\n",
    "import matplotlib.pyplot as plt\n",
    "\n",
    "%matplotlib inline\n",
    "pd.set_option('display.max_columns', None)\n",
    "\n",
    "import warnings\n",
    "warnings.simplefilter(\"ignore\")\n",
    "with warnings.catch_warnings():\n",
    "    warnings.filterwarnings(\"ignore\", category=DeprecationWarning)"
   ]
  },
  {
   "cell_type": "code",
   "execution_count": 2,
   "id": "20636787-089a-4baa-844c-34de8004b1bd",
   "metadata": {},
   "outputs": [],
   "source": [
    "blk_df_raw = pd.read_csv('./data/clean_01Oct21_01Oct22_nc_blk_req.csv')\n",
    "blk_df = blk_df_raw.copy()"
   ]
  },
  {
   "cell_type": "code",
   "execution_count": 3,
   "id": "06b5ddb1-5a07-428d-b704-bff7c77eccd1",
   "metadata": {},
   "outputs": [
    {
     "name": "stdout",
     "output_type": "stream",
     "text": [
      "(1159116, 10)\n"
     ]
    },
    {
     "data": {
      "text/html": [
       "<div>\n",
       "<style scoped>\n",
       "    .dataframe tbody tr th:only-of-type {\n",
       "        vertical-align: middle;\n",
       "    }\n",
       "\n",
       "    .dataframe tbody tr th {\n",
       "        vertical-align: top;\n",
       "    }\n",
       "\n",
       "    .dataframe thead th {\n",
       "        text-align: right;\n",
       "    }\n",
       "</style>\n",
       "<table border=\"1\" class=\"dataframe\">\n",
       "  <thead>\n",
       "    <tr style=\"text-align: right;\">\n",
       "      <th></th>\n",
       "      <th>requestId</th>\n",
       "      <th>createdDate</th>\n",
       "      <th>closedDate</th>\n",
       "      <th>typeId</th>\n",
       "      <th>typeName</th>\n",
       "      <th>address</th>\n",
       "      <th>councilId</th>\n",
       "      <th>councilName</th>\n",
       "      <th>geometry</th>\n",
       "      <th>GEOID20</th>\n",
       "    </tr>\n",
       "  </thead>\n",
       "  <tbody>\n",
       "    <tr>\n",
       "      <th>0</th>\n",
       "      <td>8610592</td>\n",
       "      <td>2021-10-01 00:01:14</td>\n",
       "      <td>2021-10-08 09:24:53</td>\n",
       "      <td>4</td>\n",
       "      <td>Bulky Items</td>\n",
       "      <td>11614 N HERRICK AVE, 91340</td>\n",
       "      <td>64</td>\n",
       "      <td>Pacoima</td>\n",
       "      <td>POINT (-118.425453201 34.2813123418)</td>\n",
       "      <td>60371043101005</td>\n",
       "    </tr>\n",
       "    <tr>\n",
       "      <th>1</th>\n",
       "      <td>8610569</td>\n",
       "      <td>2021-10-01 00:02:19</td>\n",
       "      <td>2021-10-08 13:36:33</td>\n",
       "      <td>5</td>\n",
       "      <td>Electronic Waste</td>\n",
       "      <td>11614 N HERRICK AVE, 91340</td>\n",
       "      <td>64</td>\n",
       "      <td>Pacoima</td>\n",
       "      <td>POINT (-118.425453201 34.2813123418)</td>\n",
       "      <td>60371043101005</td>\n",
       "    </tr>\n",
       "    <tr>\n",
       "      <th>2</th>\n",
       "      <td>8610587</td>\n",
       "      <td>2021-10-01 00:05:25</td>\n",
       "      <td>2021-10-08 14:16:32</td>\n",
       "      <td>7</td>\n",
       "      <td>Metal/Appliances</td>\n",
       "      <td>11614 N HERRICK AVE, 91340</td>\n",
       "      <td>64</td>\n",
       "      <td>Pacoima</td>\n",
       "      <td>POINT (-118.425453201 34.2813123418)</td>\n",
       "      <td>60371043101005</td>\n",
       "    </tr>\n",
       "    <tr>\n",
       "      <th>3</th>\n",
       "      <td>8611847</td>\n",
       "      <td>2021-10-01 07:22:13</td>\n",
       "      <td>2021-10-08 09:24:45</td>\n",
       "      <td>6</td>\n",
       "      <td>Illegal Dumping</td>\n",
       "      <td>11614 N HERRICK AVE, 91340</td>\n",
       "      <td>64</td>\n",
       "      <td>Pacoima</td>\n",
       "      <td>POINT (-118.425453201 34.2813123418)</td>\n",
       "      <td>60371043101005</td>\n",
       "    </tr>\n",
       "    <tr>\n",
       "      <th>4</th>\n",
       "      <td>8658809</td>\n",
       "      <td>2021-10-06 21:11:45</td>\n",
       "      <td>2021-10-08 11:11:52</td>\n",
       "      <td>7</td>\n",
       "      <td>Metal/Appliances</td>\n",
       "      <td>13333 W DEL SUR ST, 91340</td>\n",
       "      <td>64</td>\n",
       "      <td>Pacoima</td>\n",
       "      <td>POINT (-118.423795081 34.2821553252)</td>\n",
       "      <td>60371043101005</td>\n",
       "    </tr>\n",
       "  </tbody>\n",
       "</table>\n",
       "</div>"
      ],
      "text/plain": [
       "   requestId          createdDate           closedDate  typeId  \\\n",
       "0    8610592  2021-10-01 00:01:14  2021-10-08 09:24:53       4   \n",
       "1    8610569  2021-10-01 00:02:19  2021-10-08 13:36:33       5   \n",
       "2    8610587  2021-10-01 00:05:25  2021-10-08 14:16:32       7   \n",
       "3    8611847  2021-10-01 07:22:13  2021-10-08 09:24:45       6   \n",
       "4    8658809  2021-10-06 21:11:45  2021-10-08 11:11:52       7   \n",
       "\n",
       "           typeName                     address  councilId councilName  \\\n",
       "0       Bulky Items  11614 N HERRICK AVE, 91340         64     Pacoima   \n",
       "1  Electronic Waste  11614 N HERRICK AVE, 91340         64     Pacoima   \n",
       "2  Metal/Appliances  11614 N HERRICK AVE, 91340         64     Pacoima   \n",
       "3   Illegal Dumping  11614 N HERRICK AVE, 91340         64     Pacoima   \n",
       "4  Metal/Appliances   13333 W DEL SUR ST, 91340         64     Pacoima   \n",
       "\n",
       "                               geometry         GEOID20  \n",
       "0  POINT (-118.425453201 34.2813123418)  60371043101005  \n",
       "1  POINT (-118.425453201 34.2813123418)  60371043101005  \n",
       "2  POINT (-118.425453201 34.2813123418)  60371043101005  \n",
       "3  POINT (-118.425453201 34.2813123418)  60371043101005  \n",
       "4  POINT (-118.423795081 34.2821553252)  60371043101005  "
      ]
     },
     "execution_count": 3,
     "metadata": {},
     "output_type": "execute_result"
    }
   ],
   "source": [
    "print(blk_df.shape)\n",
    "blk_df.head()"
   ]
  },
  {
   "cell_type": "markdown",
   "id": "110ba026-4f91-4b17-b4e1-933944e21d13",
   "metadata": {},
   "source": [
    "# Cleaning & Transforming\n",
    "---"
   ]
  },
  {
   "cell_type": "code",
   "execution_count": 4,
   "id": "f1acc693-f18a-49d4-8712-83ca78b49f4b",
   "metadata": {},
   "outputs": [
    {
     "data": {
      "text/plain": [
       "requestId      0\n",
       "createdDate    0\n",
       "closedDate     0\n",
       "typeId         0\n",
       "typeName       0\n",
       "address        0\n",
       "councilId      0\n",
       "councilName    0\n",
       "geometry       0\n",
       "GEOID20        0\n",
       "dtype: int64"
      ]
     },
     "execution_count": 4,
     "metadata": {},
     "output_type": "execute_result"
    }
   ],
   "source": [
    "blk_df.isnull().sum()"
   ]
  },
  {
   "cell_type": "code",
   "execution_count": 6,
   "id": "6274be38-3a3b-4aae-a99c-abdbf290b890",
   "metadata": {},
   "outputs": [
    {
     "data": {
      "text/plain": [
       "True"
      ]
     },
     "execution_count": 6,
     "metadata": {},
     "output_type": "execute_result"
    }
   ],
   "source": [
    "blk_df.duplicated(subset=['requestId']).any()"
   ]
  },
  {
   "cell_type": "code",
   "execution_count": 7,
   "id": "fc98159b-c51a-4e64-8b10-109d7f299be2",
   "metadata": {},
   "outputs": [
    {
     "data": {
      "text/plain": [
       "(1028069, 10)"
      ]
     },
     "execution_count": 7,
     "metadata": {},
     "output_type": "execute_result"
    }
   ],
   "source": [
    "blk_df.drop_duplicates(subset = ['requestId']).shape"
   ]
  },
  {
   "cell_type": "code",
   "execution_count": 8,
   "id": "48f0cc95-a355-4f4f-9dff-58774f6a51ab",
   "metadata": {},
   "outputs": [],
   "source": [
    "df_311_raw = pd.read_csv('./data/01Oct21_01Oct22_api.csv')\n",
    "df_311 = df_311_raw.copy()"
   ]
  },
  {
   "cell_type": "code",
   "execution_count": 9,
   "id": "fb7746c0-f2aa-41bd-8f9c-3de7524f0229",
   "metadata": {},
   "outputs": [
    {
     "data": {
      "text/plain": [
       "9699741     2\n",
       "8810203     2\n",
       "8890322     2\n",
       "9593516     2\n",
       "10248603    2\n",
       "           ..\n",
       "9336779     1\n",
       "9336774     1\n",
       "9336776     1\n",
       "9336782     1\n",
       "10746599    1\n",
       "Name: requestId, Length: 1096519, dtype: int64"
      ]
     },
     "execution_count": 9,
     "metadata": {},
     "output_type": "execute_result"
    }
   ],
   "source": [
    "df_311['requestId'].value_counts(ascending = False)"
   ]
  },
  {
   "cell_type": "code",
   "execution_count": 10,
   "id": "8dd24073-aa36-4853-958b-b60aaa0416e8",
   "metadata": {},
   "outputs": [
    {
     "data": {
      "text/plain": [
       "9043280     5\n",
       "9079166     5\n",
       "9487075     5\n",
       "9485944     5\n",
       "9366758     5\n",
       "           ..\n",
       "10219685    1\n",
       "10336174    1\n",
       "10425451    1\n",
       "10428054    1\n",
       "10727707    1\n",
       "Name: requestId, Length: 1028069, dtype: int64"
      ]
     },
     "execution_count": 10,
     "metadata": {},
     "output_type": "execute_result"
    }
   ],
   "source": [
    "blk_df['requestId'].value_counts(ascending = False)"
   ]
  },
  {
   "cell_type": "code",
   "execution_count": null,
   "id": "c3f6912a-c59b-4042-9971-ccb78ee5b9d8",
   "metadata": {},
   "outputs": [],
   "source": []
  }
 ],
 "metadata": {
  "kernelspec": {
   "display_name": "Python 3 (ipykernel)",
   "language": "python",
   "name": "python3"
  },
  "language_info": {
   "codemirror_mode": {
    "name": "ipython",
    "version": 3
   },
   "file_extension": ".py",
   "mimetype": "text/x-python",
   "name": "python",
   "nbconvert_exporter": "python",
   "pygments_lexer": "ipython3",
   "version": "3.9.13"
  }
 },
 "nbformat": 4,
 "nbformat_minor": 5
}
